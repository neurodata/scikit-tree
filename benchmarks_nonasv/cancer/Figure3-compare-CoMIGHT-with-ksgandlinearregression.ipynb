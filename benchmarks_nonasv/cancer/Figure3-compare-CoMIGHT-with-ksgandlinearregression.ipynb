{
 "cells": [
  {
   "cell_type": "markdown",
   "id": "4127d9dd-2851-409d-b709-420e24183431",
   "metadata": {},
   "source": [
    "# A comparison of CoMIGHT against KSG and Linear Regression Based Estimates of Conditional Independence\n",
    "\n",
    "CoMIGHT is a fully non-parametric method for i) estimating CMI and ii) providing a pvalue indicating the statistical significance of the estimated CMI compared to the null hypothesis where the CMI is 0 (for a given dimensionality and sample size using permutation principles).\n",
    "\n",
    "Another nonparametric method for CMI is the kNN based KSG estimator, which also can be used along a permutation test to obtain a pvalue.\n",
    "\n",
    "Finally, a parametric method for CMI is the linear regression method, which computes partial correlation among variables under the assumption that the data arises from Gaussian distributions."
   ]
  },
  {
   "cell_type": "code",
   "execution_count": 1,
   "id": "60b9e273-6364-47b5-a634-de1cfc588616",
   "metadata": {},
   "outputs": [],
   "source": [
    "from collections import defaultdict\n",
    "\n",
    "import matplotlib.pyplot as plt\n",
    "import numpy as np\n",
    "import pandas as pd\n",
    "import seaborn as sns\n",
    "from scipy.special import expit\n",
    "from sklearn.datasets import (\n",
    "    make_blobs,\n",
    "    make_classification,\n",
    "    make_sparse_spd_matrix,\n",
    "    make_spd_matrix,\n",
    ")\n",
    "\n",
    "from sktree import HonestForestClassifier, RandomForestClassifier, RandomForestRegressor\n",
    "from sktree.datasets.multiview import make_gaussian_mixture, make_joint_factor_model\n",
    "from sktree.stats import (\n",
    "    FeatureImportanceForestClassifier,\n",
    "    FeatureImportanceForestRegressor,\n",
    "    PermutationForestRegressor,\n",
    ")\n",
    "from sktree.tree import DecisionTreeClassifier, MultiViewDecisionTreeClassifier\n",
    "\n",
    "seed = 12345\n",
    "rng = np.random.default_rng(seed)"
   ]
  },
  {
   "cell_type": "markdown",
   "id": "47e44c3e-8ff5-47ea-9844-8a539b4f944b",
   "metadata": {},
   "source": [
    "# Define Dataset Generators"
   ]
  },
  {
   "cell_type": "markdown",
   "id": "48cde706-67e9-4ceb-a1ae-1d166efc1d59",
   "metadata": {},
   "source": [
    "## Confounder Y <- X1 -> X2"
   ]
  },
  {
   "cell_type": "code",
   "execution_count": 3,
   "id": "2f12b8bc-08c9-4147-bd07-883af4cacd1a",
   "metadata": {},
   "outputs": [],
   "source": [
    "def make_confounder(n_samples, n_features, noise_dims, class_probs, seed):\n",
    "    rng = np.random.default_rng(seed)\n",
    "\n",
    "    fixed_center = rng.standard_normal(size=(n_features,))\n",
    "    centers = [fixed_center, fixed_center]\n",
    "\n",
    "    covariances = [\n",
    "        make_spd_matrix(n_dim=n_features, random_state=seed),\n",
    "        make_spd_matrix(n_dim=n_features, random_state=seed + 123),\n",
    "    ]\n",
    "\n",
    "    Xs, y = make_gaussian_mixture(\n",
    "        centers,\n",
    "        covariances,\n",
    "        n_samples=n_samples,\n",
    "        noise=1.0,\n",
    "        noise_dims=noise_dims,\n",
    "        shuffle=True,\n",
    "        class_probs=class_probs,\n",
    "        random_state=seed + idx,\n",
    "    )\n",
    "\n",
    "    signal_X = np.hstack((Xs[1], Xs[0]))\n",
    "    n_features_ends = [\n",
    "        n_features + noise_dims,\n",
    "        n_features_2 + n_features + noise_dims * 2,\n",
    "    ]\n",
    "\n",
    "    return signal_X, y"
   ]
  },
  {
   "cell_type": "code",
   "execution_count": null,
   "id": "1020f77f-fc60-42e5-9df7-fc5b153031b1",
   "metadata": {},
   "outputs": [],
   "source": [
    "def make_collider():\n",
    "    signal_X_1, y1 = make_classification(\n",
    "        n_samples=n_samples,\n",
    "        n_features=n_features_1 + noise_dims,\n",
    "        n_informative=n_features_1,\n",
    "        n_redundant=10,\n",
    "        n_repeated=0,\n",
    "        n_classes=2,\n",
    "        class_sep=1.0,\n",
    "        flip_y=0.02,\n",
    "        shuffle=False,\n",
    "        random_state=seed + idx,\n",
    "    )\n",
    "    signal_X_2, y2 = make_classification(\n",
    "        n_samples=n_samples,\n",
    "        n_features=n_features_1 + noise_dims,\n",
    "        n_informative=n_features_1,\n",
    "        n_redundant=10,\n",
    "        n_repeated=0,\n",
    "        n_classes=2,\n",
    "        class_sep=0.75,\n",
    "        flip_y=0.02,\n",
    "        shuffle=False,\n",
    "        random_state=seed + idx + idx,\n",
    "    )\n",
    "    signal_X = np.hstack((signal_X_1, signal_X_2))\n",
    "    y = y1.copy()\n",
    "\n",
    "    keep_inds = np.argwhere(y1 == y2)\n",
    "    y = y[keep_inds, ...]\n",
    "    y2 = y2[keep_inds, ...].squeeze()\n",
    "    signal_X = signal_X[keep_inds, ...].squeeze()\n",
    "\n",
    "    np.testing.assert_array_equal(y.squeeze(), y2)\n",
    "    return signal_X, y2"
   ]
  },
  {
   "cell_type": "code",
   "execution_count": null,
   "id": "3f0a74cd-4d91-4aad-80e3-edd6b7f78c63",
   "metadata": {},
   "outputs": [],
   "source": [
    "def make_mediator():\n",
    "    Xs, U, _ = make_joint_factor_model(\n",
    "        n_views,\n",
    "        n_features,\n",
    "        n_samples=n_samples,\n",
    "        joint_rank=joint_rank,\n",
    "        noise_std=10.0,\n",
    "        m=0.25,\n",
    "        random_state=seed + idx,\n",
    "        return_decomp=True,\n",
    "    )\n",
    "\n",
    "    signal_X = np.hstack(Xs)\n",
    "    signal_X += rng.standard_normal(size=signal_X.shape)\n",
    "    signal_X = np.hstack((signal_X, rng.standard_normal(size=(n_samples, noise_dims))))\n",
    "    n_features_1 = signal_X.shape[1]\n",
    "    print(signal_X.shape)\n",
    "    y = rng.binomial(n=1, p=expit(signal_X[:, :n_features].sum(axis=1)), size=n_samples)\n",
    "\n",
    "    U += rng.standard_normal(size=U.shape)  # * 2.0\n",
    "    U = np.hstack(\n",
    "        (U, rng.standard_normal(size=(signal_X.shape[0], n_features_1 - joint_rank)))\n",
    "    )\n",
    "\n",
    "    n_features_ends = [n_features_1, signal_X.shape[1]]\n",
    "    # print(n_features_ends)\n",
    "    print(U.shape, signal_X.shape, y.shape, [x.shape for x in Xs])"
   ]
  },
  {
   "cell_type": "code",
   "execution_count": null,
   "id": "06d7aa48-86ba-48f3-82c9-d5dd7fd96a42",
   "metadata": {},
   "outputs": [],
   "source": []
  }
 ],
 "metadata": {
  "kernelspec": {
   "display_name": "sktree",
   "language": "python",
   "name": "sktree"
  },
  "language_info": {
   "codemirror_mode": {
    "name": "ipython",
    "version": 3
   },
   "file_extension": ".py",
   "mimetype": "text/x-python",
   "name": "python",
   "nbconvert_exporter": "python",
   "pygments_lexer": "ipython3",
   "version": "3.9.18"
  }
 },
 "nbformat": 4,
 "nbformat_minor": 5
}
