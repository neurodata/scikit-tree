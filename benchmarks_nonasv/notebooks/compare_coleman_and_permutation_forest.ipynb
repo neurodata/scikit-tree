{
 "cells": [
  {
   "cell_type": "code",
   "execution_count": 1,
   "id": "b658bdd8-a3e6-4051-9d66-f2a153113234",
   "metadata": {},
   "outputs": [],
   "source": [
    "from collections import defaultdict\n",
    "\n",
    "import matplotlib.pyplot as plt\n",
    "import numpy as np\n",
    "import pandas as pd\n",
    "import seaborn as sns\n",
    "from scipy.special import expit\n",
    "\n",
    "from treepleeeeeeeeee import RandomForestClassifier, RandomForestRegressor\n",
    "from treepleeeeeeeeee.stats import (\n",
    "    FeatureImportanceForestClassifier,\n",
    "    FeatureImportanceForestRegressor,\n",
    "    PermutationForestRegressor,\n",
    ")\n",
    "\n",
    "seed = 12345"
   ]
  },
  {
   "cell_type": "code",
   "execution_count": 2,
   "id": "05b0b53e-0525-45ce-9f7e-0322a30221cf",
   "metadata": {},
   "outputs": [],
   "source": [
    "%load_ext autoreload\n",
    "%autoreload 2"
   ]
  },
  {
   "cell_type": "code",
   "execution_count": 3,
   "id": "5e2d1279-fa4f-47ef-aa48-fac6d47159ad",
   "metadata": {},
   "outputs": [],
   "source": [
    "def linear_model_ancova(\n",
    "    sigma_factor=2.0, seed=None, permute_per_tree=True, sample_dataset_per_tree=True\n",
    "):\n",
    "    r\"\"\"Test MIGHT using MSE from linear model simulation.\n",
    "\n",
    "    See https://arxiv.org/pdf/1904.07830.pdf Figure 1.\n",
    "\n",
    "    Y = Beta * X_1 + Beta * I(X_6 = 2) + \\epsilon\n",
    "    \"\"\"\n",
    "    beta = 10.0\n",
    "    sigma = 10.0 / sigma_factor\n",
    "    n_samples = 2200\n",
    "    n_estimators = 500\n",
    "    test_size = 0.1\n",
    "    n_repeats = 1000\n",
    "    metric = \"mse\"\n",
    "\n",
    "    rng = np.random.default_rng(seed)\n",
    "\n",
    "    # sample covariates\n",
    "    X_15 = rng.uniform(0, 1, size=(n_samples, 5))\n",
    "    X_610 = np.zeros((n_samples, 5))\n",
    "    for idx in range(5):\n",
    "        buff = np.argwhere(\n",
    "            rng.multinomial(1, [1.0 / 3, 1.0 / 3, 1.0 / 3], size=n_samples)\n",
    "        )[:, 1]\n",
    "\n",
    "        X_610[:, idx] = buff\n",
    "\n",
    "    X = np.concatenate((X_15, X_610), axis=1)\n",
    "    assert X_15.shape == (n_samples, 5)\n",
    "    assert X_610.shape == (n_samples, 5)\n",
    "    assert X.shape == (n_samples, 10)\n",
    "\n",
    "    # sample noise\n",
    "    epsilon = rng.normal(size=n_samples, loc=0.0, scale=sigma)\n",
    "\n",
    "    # compute final y of (n_samples,)\n",
    "    y = beta * X[:, 0] + (beta * (X[:, 5] - 2)) + epsilon\n",
    "\n",
    "    # initialize hypothesis tester\n",
    "    est = FeatureImportanceForestRegressor(\n",
    "        RandomForestRegressor(\n",
    "            max_features=1.0, random_state=seed, n_estimators=n_estimators, n_jobs=-1\n",
    "        ),\n",
    "        test_size=test_size,\n",
    "        random_state=seed,\n",
    "        permute_per_tree=permute_per_tree,\n",
    "        sample_dataset_per_tree=sample_dataset_per_tree,\n",
    "    )\n",
    "    pvalue_dict = {}\n",
    "\n",
    "    # test for X_1\n",
    "    stat, pvalue = est.test(X.copy(), y.copy(), [0], metric=metric, n_repeats=n_repeats)\n",
    "    print(\"X1: \", pvalue)\n",
    "    pvalue_dict[\"X1\"] = pvalue\n",
    "    # assert pvalue < 0.05, f\"pvalue: {pvalue}\"\n",
    "\n",
    "    # test for X_6\n",
    "    stat, pvalue = est.test(X.copy(), y.copy(), [5], metric=metric, n_repeats=n_repeats)\n",
    "    print(\"X6: \", pvalue)\n",
    "    pvalue_dict[\"X6\"] = pvalue\n",
    "    # assert pvalue < 0.05, f\"pvalue: {pvalue}\"\n",
    "\n",
    "    # test for a few unimportant other X\n",
    "    for name, covariate_index in zip([\"X2\", \"X7\"], [1, 6]):\n",
    "        # test for X_2, X_7\n",
    "        stat, pvalue = est.test(\n",
    "            X.copy(),\n",
    "            y.copy(),\n",
    "            [covariate_index],\n",
    "            metric=metric,\n",
    "            n_repeats=n_repeats,\n",
    "        )\n",
    "        print(\"X2/7: \", pvalue)\n",
    "        pvalue_dict[name] = pvalue\n",
    "        # assert pvalue > 0.05, f\"pvalue: {pvalue}\"\n",
    "\n",
    "    return pvalue_dict\n",
    "\n",
    "\n",
    "def linear_model_mars():\n",
    "    pass\n",
    "\n",
    "\n",
    "def random_forest_model():\n",
    "    pass"
   ]
  },
  {
   "cell_type": "code",
   "execution_count": 12,
   "id": "3db4f740-afd9-413e-8089-a8245f2a0747",
   "metadata": {},
   "outputs": [],
   "source": [
    "def correlated_logit_model(\n",
    "    beta=5.0, seed=None, permute_per_tree=True, sample_dataset_per_tree=True\n",
    "):\n",
    "    r\"\"\"Test MIGHT using MSE from linear model simulation.\n",
    "\n",
    "    See https://arxiv.org/pdf/1904.07830.pdf Figure 1.\n",
    "\n",
    "    P(Y = 1 | X) = expit(beta * \\\\sum_{j=2}^5 X_j)\n",
    "    \"\"\"\n",
    "    n_samples = 600\n",
    "    n_estimators = 125\n",
    "    n_jobs = -1\n",
    "    max_features = \"sqrt\"\n",
    "    test_size = 1.0 / 6\n",
    "    metric = \"mse\"\n",
    "    n_repeats = 500\n",
    "\n",
    "    n = 500  # Number of time steps\n",
    "    ar_coefficient = 0.15\n",
    "\n",
    "    rng = np.random.default_rng(seed)\n",
    "\n",
    "    X = np.zeros((n_samples, n))\n",
    "    for idx in range(n_samples):\n",
    "        # sample covariates\n",
    "        white_noise = rng.standard_normal(size=n)\n",
    "\n",
    "        # Create an array to store the simulated AR(1) time series\n",
    "        ar1_series = np.zeros(n)\n",
    "        ar1_series[0] = white_noise[0]\n",
    "\n",
    "        # Simulate the AR(1) process\n",
    "        for t in range(1, n):\n",
    "            ar1_series[t] = ar_coefficient * ar1_series[t - 1] + white_noise[t]\n",
    "\n",
    "        X[idx, :] = ar1_series\n",
    "\n",
    "    # now compute the output labels\n",
    "    y_proba = expit(beta * X[:, 1:5].sum(axis=1))\n",
    "    assert y_proba.shape == (n_samples,)\n",
    "    y = rng.binomial(1, y_proba, size=n_samples)  # .reshape(-1, 1)\n",
    "\n",
    "    pvalue_dict = {}\n",
    "\n",
    "    # initialize hypothesis tester\n",
    "    est = FeatureImportanceForestClassifier(\n",
    "        RandomForestClassifier(\n",
    "            max_features=1.0,\n",
    "            random_state=seed,\n",
    "            n_estimators=n_estimators,\n",
    "            n_jobs=-1,\n",
    "        ),\n",
    "        random_state=seed,\n",
    "        test_size=test_size,\n",
    "        permute_per_tree=permute_per_tree,\n",
    "        sample_dataset_per_tree=sample_dataset_per_tree,\n",
    "    )\n",
    "\n",
    "    # test for X_2 important\n",
    "    stat, pvalue = est.test(\n",
    "        X.copy(),\n",
    "        y.copy(),\n",
    "        covariate_index=[1],\n",
    "        n_repeats=n_repeats,\n",
    "        metric=metric,\n",
    "    )\n",
    "    pvalue_dict[\"X2\"] = pvalue\n",
    "    print(\"X2: \", pvalue)\n",
    "    # assert pvalue < 0.05, f\"pvalue: {pvalue}\"\n",
    "\n",
    "    # test for X_1 unimportant\n",
    "    stat, pvalue = est.test(X.copy(), y.copy(), [0], n_repeats=n_repeats, metric=metric)\n",
    "    pvalue_dict[\"X1\"] = pvalue\n",
    "    print(\"X1: \", pvalue)\n",
    "    # assert pvalue > 0.05, f\"pvalue: {pvalue}\"\n",
    "\n",
    "    # test for X_500 unimportant\n",
    "    stat, pvalue = est.test(\n",
    "        X.copy(),\n",
    "        y.copy(),\n",
    "        [n - 1],\n",
    "        n_repeats=n_repeats,\n",
    "        metric=metric,\n",
    "    )\n",
    "    pvalue_dict[\"X500\"] = pvalue\n",
    "    print(\"X500: \", pvalue)\n",
    "    # assert pvalue > 0.05, f\"pvalue: {pvalue}\"\n",
    "    return pvalue_dict"
   ]
  },
  {
   "cell_type": "markdown",
   "id": "36acd19f-0e66-455e-b6e4-288e1c9d020c",
   "metadata": {},
   "source": [
    "# Run Experiment on Linear ANCOVA Model"
   ]
  },
  {
   "cell_type": "code",
   "execution_count": 5,
   "id": "14806903-933b-4e31-a2db-a3a45e0a6f82",
   "metadata": {
    "scrolled": true
   },
   "outputs": [
    {
     "name": "stderr",
     "output_type": "stream",
     "text": [
      "/Users/adam2392/miniforge3/envs/sktree/lib/python3.9/site-packages/sklearn/base.py:1151: DataConversionWarning: A column-vector y was passed when a 1d array was expected. Please change the shape of y to (n_samples,), for example using ravel().\n",
      "  return fit_method(estimator, *args, **kwargs)\n",
      "/Users/adam2392/miniforge3/envs/sktree/lib/python3.9/site-packages/sklearn/base.py:1151: DataConversionWarning: A column-vector y was passed when a 1d array was expected. Please change the shape of y to (n_samples,), for example using ravel().\n",
      "  return fit_method(estimator, *args, **kwargs)\n"
     ]
    },
    {
     "name": "stdout",
     "output_type": "stream",
     "text": [
      "X1:  0.7062937062937062\n"
     ]
    },
    {
     "name": "stderr",
     "output_type": "stream",
     "text": [
      "/Users/adam2392/miniforge3/envs/sktree/lib/python3.9/site-packages/sklearn/base.py:1151: DataConversionWarning: A column-vector y was passed when a 1d array was expected. Please change the shape of y to (n_samples,), for example using ravel().\n",
      "  return fit_method(estimator, *args, **kwargs)\n"
     ]
    },
    {
     "name": "stdout",
     "output_type": "stream",
     "text": [
      "X6:  0.45054945054945056\n"
     ]
    },
    {
     "name": "stderr",
     "output_type": "stream",
     "text": [
      "/Users/adam2392/miniforge3/envs/sktree/lib/python3.9/site-packages/sklearn/base.py:1151: DataConversionWarning: A column-vector y was passed when a 1d array was expected. Please change the shape of y to (n_samples,), for example using ravel().\n",
      "  return fit_method(estimator, *args, **kwargs)\n"
     ]
    },
    {
     "name": "stdout",
     "output_type": "stream",
     "text": [
      "X2/7:  0.7882117882117882\n"
     ]
    },
    {
     "name": "stderr",
     "output_type": "stream",
     "text": [
      "/Users/adam2392/miniforge3/envs/sktree/lib/python3.9/site-packages/sklearn/base.py:1151: DataConversionWarning: A column-vector y was passed when a 1d array was expected. Please change the shape of y to (n_samples,), for example using ravel().\n",
      "  return fit_method(estimator, *args, **kwargs)\n"
     ]
    },
    {
     "name": "stdout",
     "output_type": "stream",
     "text": [
      "X2/7:  0.8221778221778222\n"
     ]
    },
    {
     "name": "stderr",
     "output_type": "stream",
     "text": [
      "/Users/adam2392/miniforge3/envs/sktree/lib/python3.9/site-packages/sklearn/base.py:1151: DataConversionWarning: A column-vector y was passed when a 1d array was expected. Please change the shape of y to (n_samples,), for example using ravel().\n",
      "  return fit_method(estimator, *args, **kwargs)\n",
      "/Users/adam2392/miniforge3/envs/sktree/lib/python3.9/site-packages/sklearn/base.py:1151: DataConversionWarning: A column-vector y was passed when a 1d array was expected. Please change the shape of y to (n_samples,), for example using ravel().\n",
      "  return fit_method(estimator, *args, **kwargs)\n"
     ]
    },
    {
     "name": "stdout",
     "output_type": "stream",
     "text": [
      "X1:  0.025974025974025976\n"
     ]
    },
    {
     "name": "stderr",
     "output_type": "stream",
     "text": [
      "/Users/adam2392/miniforge3/envs/sktree/lib/python3.9/site-packages/sklearn/base.py:1151: DataConversionWarning: A column-vector y was passed when a 1d array was expected. Please change the shape of y to (n_samples,), for example using ravel().\n",
      "  return fit_method(estimator, *args, **kwargs)\n"
     ]
    },
    {
     "name": "stdout",
     "output_type": "stream",
     "text": [
      "X6:  0.43156843156843155\n"
     ]
    },
    {
     "name": "stderr",
     "output_type": "stream",
     "text": [
      "/Users/adam2392/miniforge3/envs/sktree/lib/python3.9/site-packages/sklearn/base.py:1151: DataConversionWarning: A column-vector y was passed when a 1d array was expected. Please change the shape of y to (n_samples,), for example using ravel().\n",
      "  return fit_method(estimator, *args, **kwargs)\n"
     ]
    },
    {
     "name": "stdout",
     "output_type": "stream",
     "text": [
      "X2/7:  0.13486513486513488\n"
     ]
    },
    {
     "name": "stderr",
     "output_type": "stream",
     "text": [
      "/Users/adam2392/miniforge3/envs/sktree/lib/python3.9/site-packages/sklearn/base.py:1151: DataConversionWarning: A column-vector y was passed when a 1d array was expected. Please change the shape of y to (n_samples,), for example using ravel().\n",
      "  return fit_method(estimator, *args, **kwargs)\n"
     ]
    },
    {
     "name": "stdout",
     "output_type": "stream",
     "text": [
      "X2/7:  0.6093906093906094\n"
     ]
    },
    {
     "name": "stderr",
     "output_type": "stream",
     "text": [
      "/Users/adam2392/miniforge3/envs/sktree/lib/python3.9/site-packages/sklearn/base.py:1151: DataConversionWarning: A column-vector y was passed when a 1d array was expected. Please change the shape of y to (n_samples,), for example using ravel().\n",
      "  return fit_method(estimator, *args, **kwargs)\n",
      "/Users/adam2392/miniforge3/envs/sktree/lib/python3.9/site-packages/sklearn/base.py:1151: DataConversionWarning: A column-vector y was passed when a 1d array was expected. Please change the shape of y to (n_samples,), for example using ravel().\n",
      "  return fit_method(estimator, *args, **kwargs)\n"
     ]
    },
    {
     "name": "stdout",
     "output_type": "stream",
     "text": [
      "X1:  0.995004995004995\n"
     ]
    },
    {
     "name": "stderr",
     "output_type": "stream",
     "text": [
      "/Users/adam2392/miniforge3/envs/sktree/lib/python3.9/site-packages/sklearn/base.py:1151: DataConversionWarning: A column-vector y was passed when a 1d array was expected. Please change the shape of y to (n_samples,), for example using ravel().\n",
      "  return fit_method(estimator, *args, **kwargs)\n"
     ]
    },
    {
     "name": "stdout",
     "output_type": "stream",
     "text": [
      "X6:  0.5454545454545454\n"
     ]
    },
    {
     "name": "stderr",
     "output_type": "stream",
     "text": [
      "/Users/adam2392/miniforge3/envs/sktree/lib/python3.9/site-packages/sklearn/base.py:1151: DataConversionWarning: A column-vector y was passed when a 1d array was expected. Please change the shape of y to (n_samples,), for example using ravel().\n",
      "  return fit_method(estimator, *args, **kwargs)\n"
     ]
    },
    {
     "name": "stdout",
     "output_type": "stream",
     "text": [
      "X2/7:  0.5254745254745254\n"
     ]
    },
    {
     "name": "stderr",
     "output_type": "stream",
     "text": [
      "/Users/adam2392/miniforge3/envs/sktree/lib/python3.9/site-packages/sklearn/base.py:1151: DataConversionWarning: A column-vector y was passed when a 1d array was expected. Please change the shape of y to (n_samples,), for example using ravel().\n",
      "  return fit_method(estimator, *args, **kwargs)\n"
     ]
    },
    {
     "name": "stdout",
     "output_type": "stream",
     "text": [
      "X2/7:  0.33466533466533466\n"
     ]
    },
    {
     "name": "stderr",
     "output_type": "stream",
     "text": [
      "/Users/adam2392/miniforge3/envs/sktree/lib/python3.9/site-packages/sklearn/base.py:1151: DataConversionWarning: A column-vector y was passed when a 1d array was expected. Please change the shape of y to (n_samples,), for example using ravel().\n",
      "  return fit_method(estimator, *args, **kwargs)\n",
      "/Users/adam2392/miniforge3/envs/sktree/lib/python3.9/site-packages/sklearn/base.py:1151: DataConversionWarning: A column-vector y was passed when a 1d array was expected. Please change the shape of y to (n_samples,), for example using ravel().\n",
      "  return fit_method(estimator, *args, **kwargs)\n"
     ]
    },
    {
     "name": "stdout",
     "output_type": "stream",
     "text": [
      "X1:  0.14985014985014986\n"
     ]
    },
    {
     "name": "stderr",
     "output_type": "stream",
     "text": [
      "/Users/adam2392/miniforge3/envs/sktree/lib/python3.9/site-packages/sklearn/base.py:1151: DataConversionWarning: A column-vector y was passed when a 1d array was expected. Please change the shape of y to (n_samples,), for example using ravel().\n",
      "  return fit_method(estimator, *args, **kwargs)\n"
     ]
    },
    {
     "name": "stdout",
     "output_type": "stream",
     "text": [
      "X6:  0.09290709290709291\n"
     ]
    },
    {
     "name": "stderr",
     "output_type": "stream",
     "text": [
      "/Users/adam2392/miniforge3/envs/sktree/lib/python3.9/site-packages/sklearn/base.py:1151: DataConversionWarning: A column-vector y was passed when a 1d array was expected. Please change the shape of y to (n_samples,), for example using ravel().\n",
      "  return fit_method(estimator, *args, **kwargs)\n"
     ]
    },
    {
     "name": "stdout",
     "output_type": "stream",
     "text": [
      "X2/7:  0.14485514485514486\n"
     ]
    },
    {
     "name": "stderr",
     "output_type": "stream",
     "text": [
      "/Users/adam2392/miniforge3/envs/sktree/lib/python3.9/site-packages/sklearn/base.py:1151: DataConversionWarning: A column-vector y was passed when a 1d array was expected. Please change the shape of y to (n_samples,), for example using ravel().\n",
      "  return fit_method(estimator, *args, **kwargs)\n"
     ]
    },
    {
     "name": "stdout",
     "output_type": "stream",
     "text": [
      "X2/7:  0.46353646353646355\n"
     ]
    },
    {
     "name": "stderr",
     "output_type": "stream",
     "text": [
      "/Users/adam2392/miniforge3/envs/sktree/lib/python3.9/site-packages/sklearn/base.py:1151: DataConversionWarning: A column-vector y was passed when a 1d array was expected. Please change the shape of y to (n_samples,), for example using ravel().\n",
      "  return fit_method(estimator, *args, **kwargs)\n",
      "/Users/adam2392/miniforge3/envs/sktree/lib/python3.9/site-packages/sklearn/base.py:1151: DataConversionWarning: A column-vector y was passed when a 1d array was expected. Please change the shape of y to (n_samples,), for example using ravel().\n",
      "  return fit_method(estimator, *args, **kwargs)\n"
     ]
    },
    {
     "name": "stdout",
     "output_type": "stream",
     "text": [
      "X1:  0.000999000999000999\n"
     ]
    },
    {
     "name": "stderr",
     "output_type": "stream",
     "text": [
      "/Users/adam2392/miniforge3/envs/sktree/lib/python3.9/site-packages/sklearn/base.py:1151: DataConversionWarning: A column-vector y was passed when a 1d array was expected. Please change the shape of y to (n_samples,), for example using ravel().\n",
      "  return fit_method(estimator, *args, **kwargs)\n"
     ]
    },
    {
     "name": "stdout",
     "output_type": "stream",
     "text": [
      "X6:  0.974025974025974\n"
     ]
    },
    {
     "name": "stderr",
     "output_type": "stream",
     "text": [
      "/Users/adam2392/miniforge3/envs/sktree/lib/python3.9/site-packages/sklearn/base.py:1151: DataConversionWarning: A column-vector y was passed when a 1d array was expected. Please change the shape of y to (n_samples,), for example using ravel().\n",
      "  return fit_method(estimator, *args, **kwargs)\n"
     ]
    },
    {
     "name": "stdout",
     "output_type": "stream",
     "text": [
      "X2/7:  0.16083916083916083\n"
     ]
    },
    {
     "name": "stderr",
     "output_type": "stream",
     "text": [
      "/Users/adam2392/miniforge3/envs/sktree/lib/python3.9/site-packages/sklearn/base.py:1151: DataConversionWarning: A column-vector y was passed when a 1d array was expected. Please change the shape of y to (n_samples,), for example using ravel().\n",
      "  return fit_method(estimator, *args, **kwargs)\n"
     ]
    },
    {
     "name": "stdout",
     "output_type": "stream",
     "text": [
      "X2/7:  0.056943056943056944\n"
     ]
    },
    {
     "name": "stderr",
     "output_type": "stream",
     "text": [
      "/Users/adam2392/miniforge3/envs/sktree/lib/python3.9/site-packages/sklearn/base.py:1151: DataConversionWarning: A column-vector y was passed when a 1d array was expected. Please change the shape of y to (n_samples,), for example using ravel().\n",
      "  return fit_method(estimator, *args, **kwargs)\n",
      "/Users/adam2392/miniforge3/envs/sktree/lib/python3.9/site-packages/sklearn/base.py:1151: DataConversionWarning: A column-vector y was passed when a 1d array was expected. Please change the shape of y to (n_samples,), for example using ravel().\n",
      "  return fit_method(estimator, *args, **kwargs)\n"
     ]
    },
    {
     "name": "stdout",
     "output_type": "stream",
     "text": [
      "X1:  0.7652347652347652\n"
     ]
    },
    {
     "name": "stderr",
     "output_type": "stream",
     "text": [
      "/Users/adam2392/miniforge3/envs/sktree/lib/python3.9/site-packages/sklearn/base.py:1151: DataConversionWarning: A column-vector y was passed when a 1d array was expected. Please change the shape of y to (n_samples,), for example using ravel().\n",
      "  return fit_method(estimator, *args, **kwargs)\n"
     ]
    },
    {
     "name": "stdout",
     "output_type": "stream",
     "text": [
      "X6:  0.000999000999000999\n"
     ]
    },
    {
     "name": "stderr",
     "output_type": "stream",
     "text": [
      "/Users/adam2392/miniforge3/envs/sktree/lib/python3.9/site-packages/sklearn/base.py:1151: DataConversionWarning: A column-vector y was passed when a 1d array was expected. Please change the shape of y to (n_samples,), for example using ravel().\n",
      "  return fit_method(estimator, *args, **kwargs)\n"
     ]
    },
    {
     "name": "stdout",
     "output_type": "stream",
     "text": [
      "X2/7:  0.11688311688311688\n"
     ]
    },
    {
     "name": "stderr",
     "output_type": "stream",
     "text": [
      "/Users/adam2392/miniforge3/envs/sktree/lib/python3.9/site-packages/sklearn/base.py:1151: DataConversionWarning: A column-vector y was passed when a 1d array was expected. Please change the shape of y to (n_samples,), for example using ravel().\n",
      "  return fit_method(estimator, *args, **kwargs)\n"
     ]
    },
    {
     "name": "stdout",
     "output_type": "stream",
     "text": [
      "X2/7:  0.5484515484515484\n"
     ]
    },
    {
     "name": "stderr",
     "output_type": "stream",
     "text": [
      "/Users/adam2392/miniforge3/envs/sktree/lib/python3.9/site-packages/sklearn/base.py:1151: DataConversionWarning: A column-vector y was passed when a 1d array was expected. Please change the shape of y to (n_samples,), for example using ravel().\n",
      "  return fit_method(estimator, *args, **kwargs)\n",
      "/Users/adam2392/miniforge3/envs/sktree/lib/python3.9/site-packages/sklearn/base.py:1151: DataConversionWarning: A column-vector y was passed when a 1d array was expected. Please change the shape of y to (n_samples,), for example using ravel().\n",
      "  return fit_method(estimator, *args, **kwargs)\n"
     ]
    },
    {
     "name": "stdout",
     "output_type": "stream",
     "text": [
      "X1:  0.06493506493506493\n"
     ]
    },
    {
     "name": "stderr",
     "output_type": "stream",
     "text": [
      "/Users/adam2392/miniforge3/envs/sktree/lib/python3.9/site-packages/sklearn/base.py:1151: DataConversionWarning: A column-vector y was passed when a 1d array was expected. Please change the shape of y to (n_samples,), for example using ravel().\n",
      "  return fit_method(estimator, *args, **kwargs)\n"
     ]
    },
    {
     "name": "stdout",
     "output_type": "stream",
     "text": [
      "X6:  0.01898101898101898\n"
     ]
    },
    {
     "name": "stderr",
     "output_type": "stream",
     "text": [
      "/Users/adam2392/miniforge3/envs/sktree/lib/python3.9/site-packages/sklearn/base.py:1151: DataConversionWarning: A column-vector y was passed when a 1d array was expected. Please change the shape of y to (n_samples,), for example using ravel().\n",
      "  return fit_method(estimator, *args, **kwargs)\n"
     ]
    },
    {
     "name": "stdout",
     "output_type": "stream",
     "text": [
      "X2/7:  0.6413586413586414\n"
     ]
    },
    {
     "name": "stderr",
     "output_type": "stream",
     "text": [
      "/Users/adam2392/miniforge3/envs/sktree/lib/python3.9/site-packages/sklearn/base.py:1151: DataConversionWarning: A column-vector y was passed when a 1d array was expected. Please change the shape of y to (n_samples,), for example using ravel().\n",
      "  return fit_method(estimator, *args, **kwargs)\n"
     ]
    },
    {
     "name": "stdout",
     "output_type": "stream",
     "text": [
      "X2/7:  0.37662337662337664\n"
     ]
    },
    {
     "name": "stderr",
     "output_type": "stream",
     "text": [
      "/Users/adam2392/miniforge3/envs/sktree/lib/python3.9/site-packages/sklearn/base.py:1151: DataConversionWarning: A column-vector y was passed when a 1d array was expected. Please change the shape of y to (n_samples,), for example using ravel().\n",
      "  return fit_method(estimator, *args, **kwargs)\n",
      "/Users/adam2392/miniforge3/envs/sktree/lib/python3.9/site-packages/sklearn/base.py:1151: DataConversionWarning: A column-vector y was passed when a 1d array was expected. Please change the shape of y to (n_samples,), for example using ravel().\n",
      "  return fit_method(estimator, *args, **kwargs)\n"
     ]
    },
    {
     "name": "stdout",
     "output_type": "stream",
     "text": [
      "X1:  1.0\n"
     ]
    },
    {
     "name": "stderr",
     "output_type": "stream",
     "text": [
      "/Users/adam2392/miniforge3/envs/sktree/lib/python3.9/site-packages/sklearn/base.py:1151: DataConversionWarning: A column-vector y was passed when a 1d array was expected. Please change the shape of y to (n_samples,), for example using ravel().\n",
      "  return fit_method(estimator, *args, **kwargs)\n"
     ]
    },
    {
     "name": "stdout",
     "output_type": "stream",
     "text": [
      "X6:  0.8071928071928072\n"
     ]
    },
    {
     "name": "stderr",
     "output_type": "stream",
     "text": [
      "/Users/adam2392/miniforge3/envs/sktree/lib/python3.9/site-packages/sklearn/base.py:1151: DataConversionWarning: A column-vector y was passed when a 1d array was expected. Please change the shape of y to (n_samples,), for example using ravel().\n",
      "  return fit_method(estimator, *args, **kwargs)\n"
     ]
    },
    {
     "name": "stdout",
     "output_type": "stream",
     "text": [
      "X2/7:  0.999000999000999\n"
     ]
    },
    {
     "name": "stderr",
     "output_type": "stream",
     "text": [
      "/Users/adam2392/miniforge3/envs/sktree/lib/python3.9/site-packages/sklearn/base.py:1151: DataConversionWarning: A column-vector y was passed when a 1d array was expected. Please change the shape of y to (n_samples,), for example using ravel().\n",
      "  return fit_method(estimator, *args, **kwargs)\n"
     ]
    },
    {
     "name": "stdout",
     "output_type": "stream",
     "text": [
      "X2/7:  0.13986013986013987\n"
     ]
    },
    {
     "name": "stderr",
     "output_type": "stream",
     "text": [
      "/Users/adam2392/miniforge3/envs/sktree/lib/python3.9/site-packages/sklearn/base.py:1151: DataConversionWarning: A column-vector y was passed when a 1d array was expected. Please change the shape of y to (n_samples,), for example using ravel().\n",
      "  return fit_method(estimator, *args, **kwargs)\n",
      "/Users/adam2392/miniforge3/envs/sktree/lib/python3.9/site-packages/sklearn/base.py:1151: DataConversionWarning: A column-vector y was passed when a 1d array was expected. Please change the shape of y to (n_samples,), for example using ravel().\n",
      "  return fit_method(estimator, *args, **kwargs)\n"
     ]
    },
    {
     "name": "stdout",
     "output_type": "stream",
     "text": [
      "X1:  0.03296703296703297\n"
     ]
    },
    {
     "name": "stderr",
     "output_type": "stream",
     "text": [
      "/Users/adam2392/miniforge3/envs/sktree/lib/python3.9/site-packages/sklearn/base.py:1151: DataConversionWarning: A column-vector y was passed when a 1d array was expected. Please change the shape of y to (n_samples,), for example using ravel().\n",
      "  return fit_method(estimator, *args, **kwargs)\n"
     ]
    },
    {
     "name": "stdout",
     "output_type": "stream",
     "text": [
      "X6:  0.04695304695304695\n"
     ]
    },
    {
     "name": "stderr",
     "output_type": "stream",
     "text": [
      "/Users/adam2392/miniforge3/envs/sktree/lib/python3.9/site-packages/sklearn/base.py:1151: DataConversionWarning: A column-vector y was passed when a 1d array was expected. Please change the shape of y to (n_samples,), for example using ravel().\n",
      "  return fit_method(estimator, *args, **kwargs)\n"
     ]
    },
    {
     "name": "stdout",
     "output_type": "stream",
     "text": [
      "X2/7:  0.17182817182817184\n"
     ]
    },
    {
     "name": "stderr",
     "output_type": "stream",
     "text": [
      "/Users/adam2392/miniforge3/envs/sktree/lib/python3.9/site-packages/sklearn/base.py:1151: DataConversionWarning: A column-vector y was passed when a 1d array was expected. Please change the shape of y to (n_samples,), for example using ravel().\n",
      "  return fit_method(estimator, *args, **kwargs)\n"
     ]
    },
    {
     "name": "stdout",
     "output_type": "stream",
     "text": [
      "X2/7:  0.14985014985014986\n"
     ]
    },
    {
     "name": "stderr",
     "output_type": "stream",
     "text": [
      "/Users/adam2392/miniforge3/envs/sktree/lib/python3.9/site-packages/sklearn/base.py:1151: DataConversionWarning: A column-vector y was passed when a 1d array was expected. Please change the shape of y to (n_samples,), for example using ravel().\n",
      "  return fit_method(estimator, *args, **kwargs)\n",
      "/Users/adam2392/miniforge3/envs/sktree/lib/python3.9/site-packages/sklearn/base.py:1151: DataConversionWarning: A column-vector y was passed when a 1d array was expected. Please change the shape of y to (n_samples,), for example using ravel().\n",
      "  return fit_method(estimator, *args, **kwargs)\n"
     ]
    },
    {
     "name": "stdout",
     "output_type": "stream",
     "text": [
      "X1:  0.11388611388611389\n"
     ]
    },
    {
     "name": "stderr",
     "output_type": "stream",
     "text": [
      "/Users/adam2392/miniforge3/envs/sktree/lib/python3.9/site-packages/sklearn/base.py:1151: DataConversionWarning: A column-vector y was passed when a 1d array was expected. Please change the shape of y to (n_samples,), for example using ravel().\n",
      "  return fit_method(estimator, *args, **kwargs)\n"
     ]
    },
    {
     "name": "stdout",
     "output_type": "stream",
     "text": [
      "X6:  0.000999000999000999\n"
     ]
    },
    {
     "name": "stderr",
     "output_type": "stream",
     "text": [
      "/Users/adam2392/miniforge3/envs/sktree/lib/python3.9/site-packages/sklearn/base.py:1151: DataConversionWarning: A column-vector y was passed when a 1d array was expected. Please change the shape of y to (n_samples,), for example using ravel().\n",
      "  return fit_method(estimator, *args, **kwargs)\n"
     ]
    },
    {
     "name": "stdout",
     "output_type": "stream",
     "text": [
      "X2/7:  0.5204795204795205\n"
     ]
    },
    {
     "name": "stderr",
     "output_type": "stream",
     "text": [
      "/Users/adam2392/miniforge3/envs/sktree/lib/python3.9/site-packages/sklearn/base.py:1151: DataConversionWarning: A column-vector y was passed when a 1d array was expected. Please change the shape of y to (n_samples,), for example using ravel().\n",
      "  return fit_method(estimator, *args, **kwargs)\n"
     ]
    },
    {
     "name": "stdout",
     "output_type": "stream",
     "text": [
      "X2/7:  0.04695304695304695\n"
     ]
    },
    {
     "name": "stderr",
     "output_type": "stream",
     "text": [
      "/Users/adam2392/miniforge3/envs/sktree/lib/python3.9/site-packages/sklearn/base.py:1151: DataConversionWarning: A column-vector y was passed when a 1d array was expected. Please change the shape of y to (n_samples,), for example using ravel().\n",
      "  return fit_method(estimator, *args, **kwargs)\n",
      "/Users/adam2392/miniforge3/envs/sktree/lib/python3.9/site-packages/sklearn/base.py:1151: DataConversionWarning: A column-vector y was passed when a 1d array was expected. Please change the shape of y to (n_samples,), for example using ravel().\n",
      "  return fit_method(estimator, *args, **kwargs)\n"
     ]
    },
    {
     "name": "stdout",
     "output_type": "stream",
     "text": [
      "X1:  0.15084915084915085\n"
     ]
    },
    {
     "name": "stderr",
     "output_type": "stream",
     "text": [
      "/Users/adam2392/miniforge3/envs/sktree/lib/python3.9/site-packages/sklearn/base.py:1151: DataConversionWarning: A column-vector y was passed when a 1d array was expected. Please change the shape of y to (n_samples,), for example using ravel().\n",
      "  return fit_method(estimator, *args, **kwargs)\n"
     ]
    },
    {
     "name": "stdout",
     "output_type": "stream",
     "text": [
      "X6:  0.000999000999000999\n"
     ]
    },
    {
     "name": "stderr",
     "output_type": "stream",
     "text": [
      "/Users/adam2392/miniforge3/envs/sktree/lib/python3.9/site-packages/sklearn/base.py:1151: DataConversionWarning: A column-vector y was passed when a 1d array was expected. Please change the shape of y to (n_samples,), for example using ravel().\n",
      "  return fit_method(estimator, *args, **kwargs)\n"
     ]
    },
    {
     "name": "stdout",
     "output_type": "stream",
     "text": [
      "X2/7:  0.24175824175824176\n"
     ]
    },
    {
     "name": "stderr",
     "output_type": "stream",
     "text": [
      "/Users/adam2392/miniforge3/envs/sktree/lib/python3.9/site-packages/sklearn/base.py:1151: DataConversionWarning: A column-vector y was passed when a 1d array was expected. Please change the shape of y to (n_samples,), for example using ravel().\n",
      "  return fit_method(estimator, *args, **kwargs)\n"
     ]
    },
    {
     "name": "stdout",
     "output_type": "stream",
     "text": [
      "X2/7:  0.7952047952047953\n"
     ]
    },
    {
     "name": "stderr",
     "output_type": "stream",
     "text": [
      "/Users/adam2392/miniforge3/envs/sktree/lib/python3.9/site-packages/sklearn/base.py:1151: DataConversionWarning: A column-vector y was passed when a 1d array was expected. Please change the shape of y to (n_samples,), for example using ravel().\n",
      "  return fit_method(estimator, *args, **kwargs)\n",
      "/Users/adam2392/miniforge3/envs/sktree/lib/python3.9/site-packages/sklearn/base.py:1151: DataConversionWarning: A column-vector y was passed when a 1d array was expected. Please change the shape of y to (n_samples,), for example using ravel().\n",
      "  return fit_method(estimator, *args, **kwargs)\n"
     ]
    },
    {
     "name": "stdout",
     "output_type": "stream",
     "text": [
      "X1:  0.000999000999000999\n"
     ]
    },
    {
     "name": "stderr",
     "output_type": "stream",
     "text": [
      "/Users/adam2392/miniforge3/envs/sktree/lib/python3.9/site-packages/sklearn/base.py:1151: DataConversionWarning: A column-vector y was passed when a 1d array was expected. Please change the shape of y to (n_samples,), for example using ravel().\n",
      "  return fit_method(estimator, *args, **kwargs)\n"
     ]
    },
    {
     "name": "stdout",
     "output_type": "stream",
     "text": [
      "X6:  0.000999000999000999\n"
     ]
    },
    {
     "name": "stderr",
     "output_type": "stream",
     "text": [
      "/Users/adam2392/miniforge3/envs/sktree/lib/python3.9/site-packages/sklearn/base.py:1151: DataConversionWarning: A column-vector y was passed when a 1d array was expected. Please change the shape of y to (n_samples,), for example using ravel().\n",
      "  return fit_method(estimator, *args, **kwargs)\n"
     ]
    },
    {
     "name": "stdout",
     "output_type": "stream",
     "text": [
      "X2/7:  0.9760239760239761\n"
     ]
    },
    {
     "name": "stderr",
     "output_type": "stream",
     "text": [
      "/Users/adam2392/miniforge3/envs/sktree/lib/python3.9/site-packages/sklearn/base.py:1151: DataConversionWarning: A column-vector y was passed when a 1d array was expected. Please change the shape of y to (n_samples,), for example using ravel().\n",
      "  return fit_method(estimator, *args, **kwargs)\n"
     ]
    },
    {
     "name": "stdout",
     "output_type": "stream",
     "text": [
      "X2/7:  0.3086913086913087\n"
     ]
    },
    {
     "name": "stderr",
     "output_type": "stream",
     "text": [
      "/Users/adam2392/miniforge3/envs/sktree/lib/python3.9/site-packages/sklearn/base.py:1151: DataConversionWarning: A column-vector y was passed when a 1d array was expected. Please change the shape of y to (n_samples,), for example using ravel().\n",
      "  return fit_method(estimator, *args, **kwargs)\n",
      "/Users/adam2392/miniforge3/envs/sktree/lib/python3.9/site-packages/sklearn/base.py:1151: DataConversionWarning: A column-vector y was passed when a 1d array was expected. Please change the shape of y to (n_samples,), for example using ravel().\n",
      "  return fit_method(estimator, *args, **kwargs)\n"
     ]
    },
    {
     "name": "stdout",
     "output_type": "stream",
     "text": [
      "X1:  0.013986013986013986\n"
     ]
    },
    {
     "name": "stderr",
     "output_type": "stream",
     "text": [
      "/Users/adam2392/miniforge3/envs/sktree/lib/python3.9/site-packages/sklearn/base.py:1151: DataConversionWarning: A column-vector y was passed when a 1d array was expected. Please change the shape of y to (n_samples,), for example using ravel().\n",
      "  return fit_method(estimator, *args, **kwargs)\n"
     ]
    },
    {
     "name": "stdout",
     "output_type": "stream",
     "text": [
      "X6:  0.000999000999000999\n"
     ]
    },
    {
     "name": "stderr",
     "output_type": "stream",
     "text": [
      "/Users/adam2392/miniforge3/envs/sktree/lib/python3.9/site-packages/sklearn/base.py:1151: DataConversionWarning: A column-vector y was passed when a 1d array was expected. Please change the shape of y to (n_samples,), for example using ravel().\n",
      "  return fit_method(estimator, *args, **kwargs)\n"
     ]
    },
    {
     "name": "stdout",
     "output_type": "stream",
     "text": [
      "X2/7:  0.5974025974025974\n"
     ]
    },
    {
     "name": "stderr",
     "output_type": "stream",
     "text": [
      "/Users/adam2392/miniforge3/envs/sktree/lib/python3.9/site-packages/sklearn/base.py:1151: DataConversionWarning: A column-vector y was passed when a 1d array was expected. Please change the shape of y to (n_samples,), for example using ravel().\n",
      "  return fit_method(estimator, *args, **kwargs)\n"
     ]
    },
    {
     "name": "stdout",
     "output_type": "stream",
     "text": [
      "X2/7:  0.4385614385614386\n"
     ]
    },
    {
     "name": "stderr",
     "output_type": "stream",
     "text": [
      "/Users/adam2392/miniforge3/envs/sktree/lib/python3.9/site-packages/sklearn/base.py:1151: DataConversionWarning: A column-vector y was passed when a 1d array was expected. Please change the shape of y to (n_samples,), for example using ravel().\n",
      "  return fit_method(estimator, *args, **kwargs)\n",
      "/Users/adam2392/miniforge3/envs/sktree/lib/python3.9/site-packages/sklearn/base.py:1151: DataConversionWarning: A column-vector y was passed when a 1d array was expected. Please change the shape of y to (n_samples,), for example using ravel().\n",
      "  return fit_method(estimator, *args, **kwargs)\n"
     ]
    },
    {
     "name": "stdout",
     "output_type": "stream",
     "text": [
      "X1:  0.000999000999000999\n"
     ]
    },
    {
     "name": "stderr",
     "output_type": "stream",
     "text": [
      "/Users/adam2392/miniforge3/envs/sktree/lib/python3.9/site-packages/sklearn/base.py:1151: DataConversionWarning: A column-vector y was passed when a 1d array was expected. Please change the shape of y to (n_samples,), for example using ravel().\n",
      "  return fit_method(estimator, *args, **kwargs)\n"
     ]
    },
    {
     "name": "stdout",
     "output_type": "stream",
     "text": [
      "X6:  0.000999000999000999\n"
     ]
    },
    {
     "name": "stderr",
     "output_type": "stream",
     "text": [
      "/Users/adam2392/miniforge3/envs/sktree/lib/python3.9/site-packages/sklearn/base.py:1151: DataConversionWarning: A column-vector y was passed when a 1d array was expected. Please change the shape of y to (n_samples,), for example using ravel().\n",
      "  return fit_method(estimator, *args, **kwargs)\n"
     ]
    },
    {
     "name": "stdout",
     "output_type": "stream",
     "text": [
      "X2/7:  1.0\n"
     ]
    },
    {
     "name": "stderr",
     "output_type": "stream",
     "text": [
      "/Users/adam2392/miniforge3/envs/sktree/lib/python3.9/site-packages/sklearn/base.py:1151: DataConversionWarning: A column-vector y was passed when a 1d array was expected. Please change the shape of y to (n_samples,), for example using ravel().\n",
      "  return fit_method(estimator, *args, **kwargs)\n"
     ]
    },
    {
     "name": "stdout",
     "output_type": "stream",
     "text": [
      "X2/7:  0.6953046953046953\n"
     ]
    },
    {
     "name": "stderr",
     "output_type": "stream",
     "text": [
      "/Users/adam2392/miniforge3/envs/sktree/lib/python3.9/site-packages/sklearn/base.py:1151: DataConversionWarning: A column-vector y was passed when a 1d array was expected. Please change the shape of y to (n_samples,), for example using ravel().\n",
      "  return fit_method(estimator, *args, **kwargs)\n",
      "/Users/adam2392/miniforge3/envs/sktree/lib/python3.9/site-packages/sklearn/base.py:1151: DataConversionWarning: A column-vector y was passed when a 1d array was expected. Please change the shape of y to (n_samples,), for example using ravel().\n",
      "  return fit_method(estimator, *args, **kwargs)\n"
     ]
    },
    {
     "name": "stdout",
     "output_type": "stream",
     "text": [
      "X1:  0.8371628371628371\n"
     ]
    },
    {
     "name": "stderr",
     "output_type": "stream",
     "text": [
      "/Users/adam2392/miniforge3/envs/sktree/lib/python3.9/site-packages/sklearn/base.py:1151: DataConversionWarning: A column-vector y was passed when a 1d array was expected. Please change the shape of y to (n_samples,), for example using ravel().\n",
      "  return fit_method(estimator, *args, **kwargs)\n"
     ]
    },
    {
     "name": "stdout",
     "output_type": "stream",
     "text": [
      "X6:  0.000999000999000999\n"
     ]
    },
    {
     "name": "stderr",
     "output_type": "stream",
     "text": [
      "/Users/adam2392/miniforge3/envs/sktree/lib/python3.9/site-packages/sklearn/base.py:1151: DataConversionWarning: A column-vector y was passed when a 1d array was expected. Please change the shape of y to (n_samples,), for example using ravel().\n",
      "  return fit_method(estimator, *args, **kwargs)\n"
     ]
    },
    {
     "name": "stdout",
     "output_type": "stream",
     "text": [
      "X2/7:  0.4875124875124875\n"
     ]
    },
    {
     "name": "stderr",
     "output_type": "stream",
     "text": [
      "/Users/adam2392/miniforge3/envs/sktree/lib/python3.9/site-packages/sklearn/base.py:1151: DataConversionWarning: A column-vector y was passed when a 1d array was expected. Please change the shape of y to (n_samples,), for example using ravel().\n",
      "  return fit_method(estimator, *args, **kwargs)\n"
     ]
    },
    {
     "name": "stdout",
     "output_type": "stream",
     "text": [
      "X2/7:  0.4775224775224775\n"
     ]
    },
    {
     "name": "stderr",
     "output_type": "stream",
     "text": [
      "/Users/adam2392/miniforge3/envs/sktree/lib/python3.9/site-packages/sklearn/base.py:1151: DataConversionWarning: A column-vector y was passed when a 1d array was expected. Please change the shape of y to (n_samples,), for example using ravel().\n",
      "  return fit_method(estimator, *args, **kwargs)\n",
      "/Users/adam2392/miniforge3/envs/sktree/lib/python3.9/site-packages/sklearn/base.py:1151: DataConversionWarning: A column-vector y was passed when a 1d array was expected. Please change the shape of y to (n_samples,), for example using ravel().\n",
      "  return fit_method(estimator, *args, **kwargs)\n"
     ]
    },
    {
     "name": "stdout",
     "output_type": "stream",
     "text": [
      "X1:  0.000999000999000999\n"
     ]
    },
    {
     "name": "stderr",
     "output_type": "stream",
     "text": [
      "/Users/adam2392/miniforge3/envs/sktree/lib/python3.9/site-packages/sklearn/base.py:1151: DataConversionWarning: A column-vector y was passed when a 1d array was expected. Please change the shape of y to (n_samples,), for example using ravel().\n",
      "  return fit_method(estimator, *args, **kwargs)\n"
     ]
    },
    {
     "name": "stdout",
     "output_type": "stream",
     "text": [
      "X6:  0.000999000999000999\n"
     ]
    },
    {
     "name": "stderr",
     "output_type": "stream",
     "text": [
      "/Users/adam2392/miniforge3/envs/sktree/lib/python3.9/site-packages/sklearn/base.py:1151: DataConversionWarning: A column-vector y was passed when a 1d array was expected. Please change the shape of y to (n_samples,), for example using ravel().\n",
      "  return fit_method(estimator, *args, **kwargs)\n"
     ]
    },
    {
     "name": "stdout",
     "output_type": "stream",
     "text": [
      "X2/7:  0.000999000999000999\n"
     ]
    },
    {
     "name": "stderr",
     "output_type": "stream",
     "text": [
      "/Users/adam2392/miniforge3/envs/sktree/lib/python3.9/site-packages/sklearn/base.py:1151: DataConversionWarning: A column-vector y was passed when a 1d array was expected. Please change the shape of y to (n_samples,), for example using ravel().\n",
      "  return fit_method(estimator, *args, **kwargs)\n"
     ]
    },
    {
     "name": "stdout",
     "output_type": "stream",
     "text": [
      "X2/7:  0.05194805194805195\n"
     ]
    },
    {
     "name": "stderr",
     "output_type": "stream",
     "text": [
      "/Users/adam2392/miniforge3/envs/sktree/lib/python3.9/site-packages/sklearn/base.py:1151: DataConversionWarning: A column-vector y was passed when a 1d array was expected. Please change the shape of y to (n_samples,), for example using ravel().\n",
      "  return fit_method(estimator, *args, **kwargs)\n",
      "/Users/adam2392/miniforge3/envs/sktree/lib/python3.9/site-packages/sklearn/base.py:1151: DataConversionWarning: A column-vector y was passed when a 1d array was expected. Please change the shape of y to (n_samples,), for example using ravel().\n",
      "  return fit_method(estimator, *args, **kwargs)\n"
     ]
    },
    {
     "name": "stdout",
     "output_type": "stream",
     "text": [
      "X1:  0.000999000999000999\n"
     ]
    },
    {
     "name": "stderr",
     "output_type": "stream",
     "text": [
      "/Users/adam2392/miniforge3/envs/sktree/lib/python3.9/site-packages/sklearn/base.py:1151: DataConversionWarning: A column-vector y was passed when a 1d array was expected. Please change the shape of y to (n_samples,), for example using ravel().\n",
      "  return fit_method(estimator, *args, **kwargs)\n"
     ]
    },
    {
     "name": "stdout",
     "output_type": "stream",
     "text": [
      "X6:  0.000999000999000999\n"
     ]
    },
    {
     "name": "stderr",
     "output_type": "stream",
     "text": [
      "/Users/adam2392/miniforge3/envs/sktree/lib/python3.9/site-packages/sklearn/base.py:1151: DataConversionWarning: A column-vector y was passed when a 1d array was expected. Please change the shape of y to (n_samples,), for example using ravel().\n",
      "  return fit_method(estimator, *args, **kwargs)\n"
     ]
    },
    {
     "name": "stdout",
     "output_type": "stream",
     "text": [
      "X2/7:  0.26373626373626374\n"
     ]
    },
    {
     "name": "stderr",
     "output_type": "stream",
     "text": [
      "/Users/adam2392/miniforge3/envs/sktree/lib/python3.9/site-packages/sklearn/base.py:1151: DataConversionWarning: A column-vector y was passed when a 1d array was expected. Please change the shape of y to (n_samples,), for example using ravel().\n",
      "  return fit_method(estimator, *args, **kwargs)\n"
     ]
    },
    {
     "name": "stdout",
     "output_type": "stream",
     "text": [
      "X2/7:  0.7502497502497503\n"
     ]
    },
    {
     "name": "stderr",
     "output_type": "stream",
     "text": [
      "/Users/adam2392/miniforge3/envs/sktree/lib/python3.9/site-packages/sklearn/base.py:1151: DataConversionWarning: A column-vector y was passed when a 1d array was expected. Please change the shape of y to (n_samples,), for example using ravel().\n",
      "  return fit_method(estimator, *args, **kwargs)\n",
      "/Users/adam2392/miniforge3/envs/sktree/lib/python3.9/site-packages/sklearn/base.py:1151: DataConversionWarning: A column-vector y was passed when a 1d array was expected. Please change the shape of y to (n_samples,), for example using ravel().\n",
      "  return fit_method(estimator, *args, **kwargs)\n"
     ]
    },
    {
     "name": "stdout",
     "output_type": "stream",
     "text": [
      "X1:  0.000999000999000999\n"
     ]
    },
    {
     "name": "stderr",
     "output_type": "stream",
     "text": [
      "/Users/adam2392/miniforge3/envs/sktree/lib/python3.9/site-packages/sklearn/base.py:1151: DataConversionWarning: A column-vector y was passed when a 1d array was expected. Please change the shape of y to (n_samples,), for example using ravel().\n",
      "  return fit_method(estimator, *args, **kwargs)\n"
     ]
    },
    {
     "name": "stdout",
     "output_type": "stream",
     "text": [
      "X6:  0.000999000999000999\n"
     ]
    },
    {
     "name": "stderr",
     "output_type": "stream",
     "text": [
      "/Users/adam2392/miniforge3/envs/sktree/lib/python3.9/site-packages/sklearn/base.py:1151: DataConversionWarning: A column-vector y was passed when a 1d array was expected. Please change the shape of y to (n_samples,), for example using ravel().\n",
      "  return fit_method(estimator, *args, **kwargs)\n"
     ]
    },
    {
     "name": "stdout",
     "output_type": "stream",
     "text": [
      "X2/7:  1.0\n"
     ]
    },
    {
     "name": "stderr",
     "output_type": "stream",
     "text": [
      "/Users/adam2392/miniforge3/envs/sktree/lib/python3.9/site-packages/sklearn/base.py:1151: DataConversionWarning: A column-vector y was passed when a 1d array was expected. Please change the shape of y to (n_samples,), for example using ravel().\n",
      "  return fit_method(estimator, *args, **kwargs)\n"
     ]
    },
    {
     "name": "stdout",
     "output_type": "stream",
     "text": [
      "X2/7:  0.983016983016983\n"
     ]
    },
    {
     "name": "stderr",
     "output_type": "stream",
     "text": [
      "/Users/adam2392/miniforge3/envs/sktree/lib/python3.9/site-packages/sklearn/base.py:1151: DataConversionWarning: A column-vector y was passed when a 1d array was expected. Please change the shape of y to (n_samples,), for example using ravel().\n",
      "  return fit_method(estimator, *args, **kwargs)\n",
      "/Users/adam2392/miniforge3/envs/sktree/lib/python3.9/site-packages/sklearn/base.py:1151: DataConversionWarning: A column-vector y was passed when a 1d array was expected. Please change the shape of y to (n_samples,), for example using ravel().\n",
      "  return fit_method(estimator, *args, **kwargs)\n"
     ]
    },
    {
     "name": "stdout",
     "output_type": "stream",
     "text": [
      "X1:  0.000999000999000999\n"
     ]
    },
    {
     "name": "stderr",
     "output_type": "stream",
     "text": [
      "/Users/adam2392/miniforge3/envs/sktree/lib/python3.9/site-packages/sklearn/base.py:1151: DataConversionWarning: A column-vector y was passed when a 1d array was expected. Please change the shape of y to (n_samples,), for example using ravel().\n",
      "  return fit_method(estimator, *args, **kwargs)\n"
     ]
    },
    {
     "name": "stdout",
     "output_type": "stream",
     "text": [
      "X6:  0.000999000999000999\n"
     ]
    },
    {
     "name": "stderr",
     "output_type": "stream",
     "text": [
      "/Users/adam2392/miniforge3/envs/sktree/lib/python3.9/site-packages/sklearn/base.py:1151: DataConversionWarning: A column-vector y was passed when a 1d array was expected. Please change the shape of y to (n_samples,), for example using ravel().\n",
      "  return fit_method(estimator, *args, **kwargs)\n"
     ]
    },
    {
     "name": "stdout",
     "output_type": "stream",
     "text": [
      "X2/7:  0.3166833166833167\n"
     ]
    },
    {
     "name": "stderr",
     "output_type": "stream",
     "text": [
      "/Users/adam2392/miniforge3/envs/sktree/lib/python3.9/site-packages/sklearn/base.py:1151: DataConversionWarning: A column-vector y was passed when a 1d array was expected. Please change the shape of y to (n_samples,), for example using ravel().\n",
      "  return fit_method(estimator, *args, **kwargs)\n"
     ]
    },
    {
     "name": "stdout",
     "output_type": "stream",
     "text": [
      "X2/7:  0.3276723276723277\n"
     ]
    },
    {
     "name": "stderr",
     "output_type": "stream",
     "text": [
      "/Users/adam2392/miniforge3/envs/sktree/lib/python3.9/site-packages/sklearn/base.py:1151: DataConversionWarning: A column-vector y was passed when a 1d array was expected. Please change the shape of y to (n_samples,), for example using ravel().\n",
      "  return fit_method(estimator, *args, **kwargs)\n",
      "/Users/adam2392/miniforge3/envs/sktree/lib/python3.9/site-packages/sklearn/base.py:1151: DataConversionWarning: A column-vector y was passed when a 1d array was expected. Please change the shape of y to (n_samples,), for example using ravel().\n",
      "  return fit_method(estimator, *args, **kwargs)\n"
     ]
    },
    {
     "name": "stdout",
     "output_type": "stream",
     "text": [
      "X1:  0.000999000999000999\n"
     ]
    },
    {
     "name": "stderr",
     "output_type": "stream",
     "text": [
      "/Users/adam2392/miniforge3/envs/sktree/lib/python3.9/site-packages/sklearn/base.py:1151: DataConversionWarning: A column-vector y was passed when a 1d array was expected. Please change the shape of y to (n_samples,), for example using ravel().\n",
      "  return fit_method(estimator, *args, **kwargs)\n"
     ]
    },
    {
     "name": "stdout",
     "output_type": "stream",
     "text": [
      "X6:  0.000999000999000999\n"
     ]
    },
    {
     "name": "stderr",
     "output_type": "stream",
     "text": [
      "/Users/adam2392/miniforge3/envs/sktree/lib/python3.9/site-packages/sklearn/base.py:1151: DataConversionWarning: A column-vector y was passed when a 1d array was expected. Please change the shape of y to (n_samples,), for example using ravel().\n",
      "  return fit_method(estimator, *args, **kwargs)\n"
     ]
    },
    {
     "name": "stdout",
     "output_type": "stream",
     "text": [
      "X2/7:  0.8411588411588412\n"
     ]
    },
    {
     "name": "stderr",
     "output_type": "stream",
     "text": [
      "/Users/adam2392/miniforge3/envs/sktree/lib/python3.9/site-packages/sklearn/base.py:1151: DataConversionWarning: A column-vector y was passed when a 1d array was expected. Please change the shape of y to (n_samples,), for example using ravel().\n",
      "  return fit_method(estimator, *args, **kwargs)\n"
     ]
    },
    {
     "name": "stdout",
     "output_type": "stream",
     "text": [
      "X2/7:  0.6023976023976024\n"
     ]
    },
    {
     "name": "stderr",
     "output_type": "stream",
     "text": [
      "/Users/adam2392/miniforge3/envs/sktree/lib/python3.9/site-packages/sklearn/base.py:1151: DataConversionWarning: A column-vector y was passed when a 1d array was expected. Please change the shape of y to (n_samples,), for example using ravel().\n",
      "  return fit_method(estimator, *args, **kwargs)\n",
      "/Users/adam2392/miniforge3/envs/sktree/lib/python3.9/site-packages/sklearn/base.py:1151: DataConversionWarning: A column-vector y was passed when a 1d array was expected. Please change the shape of y to (n_samples,), for example using ravel().\n",
      "  return fit_method(estimator, *args, **kwargs)\n"
     ]
    },
    {
     "name": "stdout",
     "output_type": "stream",
     "text": [
      "X1:  0.000999000999000999\n"
     ]
    },
    {
     "name": "stderr",
     "output_type": "stream",
     "text": [
      "/Users/adam2392/miniforge3/envs/sktree/lib/python3.9/site-packages/sklearn/base.py:1151: DataConversionWarning: A column-vector y was passed when a 1d array was expected. Please change the shape of y to (n_samples,), for example using ravel().\n",
      "  return fit_method(estimator, *args, **kwargs)\n"
     ]
    },
    {
     "name": "stdout",
     "output_type": "stream",
     "text": [
      "X6:  0.000999000999000999\n"
     ]
    },
    {
     "name": "stderr",
     "output_type": "stream",
     "text": [
      "/Users/adam2392/miniforge3/envs/sktree/lib/python3.9/site-packages/sklearn/base.py:1151: DataConversionWarning: A column-vector y was passed when a 1d array was expected. Please change the shape of y to (n_samples,), for example using ravel().\n",
      "  return fit_method(estimator, *args, **kwargs)\n"
     ]
    },
    {
     "name": "stdout",
     "output_type": "stream",
     "text": [
      "X2/7:  0.984015984015984\n"
     ]
    },
    {
     "name": "stderr",
     "output_type": "stream",
     "text": [
      "/Users/adam2392/miniforge3/envs/sktree/lib/python3.9/site-packages/sklearn/base.py:1151: DataConversionWarning: A column-vector y was passed when a 1d array was expected. Please change the shape of y to (n_samples,), for example using ravel().\n",
      "  return fit_method(estimator, *args, **kwargs)\n"
     ]
    },
    {
     "name": "stdout",
     "output_type": "stream",
     "text": [
      "X2/7:  0.3726273726273726\n"
     ]
    },
    {
     "name": "stderr",
     "output_type": "stream",
     "text": [
      "/Users/adam2392/miniforge3/envs/sktree/lib/python3.9/site-packages/sklearn/base.py:1151: DataConversionWarning: A column-vector y was passed when a 1d array was expected. Please change the shape of y to (n_samples,), for example using ravel().\n",
      "  return fit_method(estimator, *args, **kwargs)\n",
      "/Users/adam2392/miniforge3/envs/sktree/lib/python3.9/site-packages/sklearn/base.py:1151: DataConversionWarning: A column-vector y was passed when a 1d array was expected. Please change the shape of y to (n_samples,), for example using ravel().\n",
      "  return fit_method(estimator, *args, **kwargs)\n"
     ]
    },
    {
     "name": "stdout",
     "output_type": "stream",
     "text": [
      "X1:  0.000999000999000999\n"
     ]
    },
    {
     "name": "stderr",
     "output_type": "stream",
     "text": [
      "/Users/adam2392/miniforge3/envs/sktree/lib/python3.9/site-packages/sklearn/base.py:1151: DataConversionWarning: A column-vector y was passed when a 1d array was expected. Please change the shape of y to (n_samples,), for example using ravel().\n",
      "  return fit_method(estimator, *args, **kwargs)\n"
     ]
    },
    {
     "name": "stdout",
     "output_type": "stream",
     "text": [
      "X6:  0.000999000999000999\n"
     ]
    },
    {
     "name": "stderr",
     "output_type": "stream",
     "text": [
      "/Users/adam2392/miniforge3/envs/sktree/lib/python3.9/site-packages/sklearn/base.py:1151: DataConversionWarning: A column-vector y was passed when a 1d array was expected. Please change the shape of y to (n_samples,), for example using ravel().\n",
      "  return fit_method(estimator, *args, **kwargs)\n"
     ]
    },
    {
     "name": "stdout",
     "output_type": "stream",
     "text": [
      "X2/7:  0.6663336663336663\n"
     ]
    },
    {
     "name": "stderr",
     "output_type": "stream",
     "text": [
      "/Users/adam2392/miniforge3/envs/sktree/lib/python3.9/site-packages/sklearn/base.py:1151: DataConversionWarning: A column-vector y was passed when a 1d array was expected. Please change the shape of y to (n_samples,), for example using ravel().\n",
      "  return fit_method(estimator, *args, **kwargs)\n"
     ]
    },
    {
     "name": "stdout",
     "output_type": "stream",
     "text": [
      "X2/7:  0.7042957042957043\n"
     ]
    },
    {
     "name": "stderr",
     "output_type": "stream",
     "text": [
      "/Users/adam2392/miniforge3/envs/sktree/lib/python3.9/site-packages/sklearn/base.py:1151: DataConversionWarning: A column-vector y was passed when a 1d array was expected. Please change the shape of y to (n_samples,), for example using ravel().\n",
      "  return fit_method(estimator, *args, **kwargs)\n",
      "/Users/adam2392/miniforge3/envs/sktree/lib/python3.9/site-packages/sklearn/base.py:1151: DataConversionWarning: A column-vector y was passed when a 1d array was expected. Please change the shape of y to (n_samples,), for example using ravel().\n",
      "  return fit_method(estimator, *args, **kwargs)\n"
     ]
    },
    {
     "name": "stdout",
     "output_type": "stream",
     "text": [
      "X1:  0.000999000999000999\n"
     ]
    },
    {
     "name": "stderr",
     "output_type": "stream",
     "text": [
      "/Users/adam2392/miniforge3/envs/sktree/lib/python3.9/site-packages/sklearn/base.py:1151: DataConversionWarning: A column-vector y was passed when a 1d array was expected. Please change the shape of y to (n_samples,), for example using ravel().\n",
      "  return fit_method(estimator, *args, **kwargs)\n"
     ]
    },
    {
     "name": "stdout",
     "output_type": "stream",
     "text": [
      "X6:  0.000999000999000999\n"
     ]
    },
    {
     "name": "stderr",
     "output_type": "stream",
     "text": [
      "/Users/adam2392/miniforge3/envs/sktree/lib/python3.9/site-packages/sklearn/base.py:1151: DataConversionWarning: A column-vector y was passed when a 1d array was expected. Please change the shape of y to (n_samples,), for example using ravel().\n",
      "  return fit_method(estimator, *args, **kwargs)\n"
     ]
    },
    {
     "name": "stdout",
     "output_type": "stream",
     "text": [
      "X2/7:  0.8691308691308691\n"
     ]
    },
    {
     "name": "stderr",
     "output_type": "stream",
     "text": [
      "/Users/adam2392/miniforge3/envs/sktree/lib/python3.9/site-packages/sklearn/base.py:1151: DataConversionWarning: A column-vector y was passed when a 1d array was expected. Please change the shape of y to (n_samples,), for example using ravel().\n",
      "  return fit_method(estimator, *args, **kwargs)\n"
     ]
    },
    {
     "name": "stdout",
     "output_type": "stream",
     "text": [
      "X2/7:  0.11788211788211789\n"
     ]
    },
    {
     "name": "stderr",
     "output_type": "stream",
     "text": [
      "/Users/adam2392/miniforge3/envs/sktree/lib/python3.9/site-packages/sklearn/base.py:1151: DataConversionWarning: A column-vector y was passed when a 1d array was expected. Please change the shape of y to (n_samples,), for example using ravel().\n",
      "  return fit_method(estimator, *args, **kwargs)\n",
      "/Users/adam2392/miniforge3/envs/sktree/lib/python3.9/site-packages/sklearn/base.py:1151: DataConversionWarning: A column-vector y was passed when a 1d array was expected. Please change the shape of y to (n_samples,), for example using ravel().\n",
      "  return fit_method(estimator, *args, **kwargs)\n"
     ]
    },
    {
     "name": "stdout",
     "output_type": "stream",
     "text": [
      "X1:  0.000999000999000999\n"
     ]
    },
    {
     "name": "stderr",
     "output_type": "stream",
     "text": [
      "/Users/adam2392/miniforge3/envs/sktree/lib/python3.9/site-packages/sklearn/base.py:1151: DataConversionWarning: A column-vector y was passed when a 1d array was expected. Please change the shape of y to (n_samples,), for example using ravel().\n",
      "  return fit_method(estimator, *args, **kwargs)\n"
     ]
    },
    {
     "name": "stdout",
     "output_type": "stream",
     "text": [
      "X6:  0.000999000999000999\n"
     ]
    },
    {
     "name": "stderr",
     "output_type": "stream",
     "text": [
      "/Users/adam2392/miniforge3/envs/sktree/lib/python3.9/site-packages/sklearn/base.py:1151: DataConversionWarning: A column-vector y was passed when a 1d array was expected. Please change the shape of y to (n_samples,), for example using ravel().\n",
      "  return fit_method(estimator, *args, **kwargs)\n"
     ]
    },
    {
     "name": "stdout",
     "output_type": "stream",
     "text": [
      "X2/7:  0.24475524475524477\n"
     ]
    },
    {
     "name": "stderr",
     "output_type": "stream",
     "text": [
      "/Users/adam2392/miniforge3/envs/sktree/lib/python3.9/site-packages/sklearn/base.py:1151: DataConversionWarning: A column-vector y was passed when a 1d array was expected. Please change the shape of y to (n_samples,), for example using ravel().\n",
      "  return fit_method(estimator, *args, **kwargs)\n"
     ]
    },
    {
     "name": "stdout",
     "output_type": "stream",
     "text": [
      "X2/7:  0.6123876123876124\n"
     ]
    },
    {
     "name": "stderr",
     "output_type": "stream",
     "text": [
      "/Users/adam2392/miniforge3/envs/sktree/lib/python3.9/site-packages/sklearn/base.py:1151: DataConversionWarning: A column-vector y was passed when a 1d array was expected. Please change the shape of y to (n_samples,), for example using ravel().\n",
      "  return fit_method(estimator, *args, **kwargs)\n",
      "/Users/adam2392/miniforge3/envs/sktree/lib/python3.9/site-packages/sklearn/base.py:1151: DataConversionWarning: A column-vector y was passed when a 1d array was expected. Please change the shape of y to (n_samples,), for example using ravel().\n",
      "  return fit_method(estimator, *args, **kwargs)\n"
     ]
    },
    {
     "name": "stdout",
     "output_type": "stream",
     "text": [
      "X1:  0.000999000999000999\n"
     ]
    },
    {
     "name": "stderr",
     "output_type": "stream",
     "text": [
      "/Users/adam2392/miniforge3/envs/sktree/lib/python3.9/site-packages/sklearn/base.py:1151: DataConversionWarning: A column-vector y was passed when a 1d array was expected. Please change the shape of y to (n_samples,), for example using ravel().\n",
      "  return fit_method(estimator, *args, **kwargs)\n"
     ]
    },
    {
     "name": "stdout",
     "output_type": "stream",
     "text": [
      "X6:  0.000999000999000999\n"
     ]
    },
    {
     "name": "stderr",
     "output_type": "stream",
     "text": [
      "/Users/adam2392/miniforge3/envs/sktree/lib/python3.9/site-packages/sklearn/base.py:1151: DataConversionWarning: A column-vector y was passed when a 1d array was expected. Please change the shape of y to (n_samples,), for example using ravel().\n",
      "  return fit_method(estimator, *args, **kwargs)\n"
     ]
    },
    {
     "name": "stdout",
     "output_type": "stream",
     "text": [
      "X2/7:  0.004995004995004995\n"
     ]
    },
    {
     "name": "stderr",
     "output_type": "stream",
     "text": [
      "/Users/adam2392/miniforge3/envs/sktree/lib/python3.9/site-packages/sklearn/base.py:1151: DataConversionWarning: A column-vector y was passed when a 1d array was expected. Please change the shape of y to (n_samples,), for example using ravel().\n",
      "  return fit_method(estimator, *args, **kwargs)\n"
     ]
    },
    {
     "name": "stdout",
     "output_type": "stream",
     "text": [
      "X2/7:  0.6123876123876124\n"
     ]
    },
    {
     "name": "stderr",
     "output_type": "stream",
     "text": [
      "/Users/adam2392/miniforge3/envs/sktree/lib/python3.9/site-packages/sklearn/base.py:1151: DataConversionWarning: A column-vector y was passed when a 1d array was expected. Please change the shape of y to (n_samples,), for example using ravel().\n",
      "  return fit_method(estimator, *args, **kwargs)\n",
      "/Users/adam2392/miniforge3/envs/sktree/lib/python3.9/site-packages/sklearn/base.py:1151: DataConversionWarning: A column-vector y was passed when a 1d array was expected. Please change the shape of y to (n_samples,), for example using ravel().\n",
      "  return fit_method(estimator, *args, **kwargs)\n"
     ]
    },
    {
     "name": "stdout",
     "output_type": "stream",
     "text": [
      "X1:  0.000999000999000999\n"
     ]
    },
    {
     "name": "stderr",
     "output_type": "stream",
     "text": [
      "/Users/adam2392/miniforge3/envs/sktree/lib/python3.9/site-packages/sklearn/base.py:1151: DataConversionWarning: A column-vector y was passed when a 1d array was expected. Please change the shape of y to (n_samples,), for example using ravel().\n",
      "  return fit_method(estimator, *args, **kwargs)\n"
     ]
    },
    {
     "name": "stdout",
     "output_type": "stream",
     "text": [
      "X6:  0.000999000999000999\n"
     ]
    },
    {
     "name": "stderr",
     "output_type": "stream",
     "text": [
      "/Users/adam2392/miniforge3/envs/sktree/lib/python3.9/site-packages/sklearn/base.py:1151: DataConversionWarning: A column-vector y was passed when a 1d array was expected. Please change the shape of y to (n_samples,), for example using ravel().\n",
      "  return fit_method(estimator, *args, **kwargs)\n"
     ]
    },
    {
     "name": "stdout",
     "output_type": "stream",
     "text": [
      "X2/7:  0.01898101898101898\n"
     ]
    },
    {
     "name": "stderr",
     "output_type": "stream",
     "text": [
      "/Users/adam2392/miniforge3/envs/sktree/lib/python3.9/site-packages/sklearn/base.py:1151: DataConversionWarning: A column-vector y was passed when a 1d array was expected. Please change the shape of y to (n_samples,), for example using ravel().\n",
      "  return fit_method(estimator, *args, **kwargs)\n"
     ]
    },
    {
     "name": "stdout",
     "output_type": "stream",
     "text": [
      "X2/7:  0.1038961038961039\n"
     ]
    },
    {
     "name": "stderr",
     "output_type": "stream",
     "text": [
      "/Users/adam2392/miniforge3/envs/sktree/lib/python3.9/site-packages/sklearn/base.py:1151: DataConversionWarning: A column-vector y was passed when a 1d array was expected. Please change the shape of y to (n_samples,), for example using ravel().\n",
      "  return fit_method(estimator, *args, **kwargs)\n",
      "/Users/adam2392/miniforge3/envs/sktree/lib/python3.9/site-packages/sklearn/base.py:1151: DataConversionWarning: A column-vector y was passed when a 1d array was expected. Please change the shape of y to (n_samples,), for example using ravel().\n",
      "  return fit_method(estimator, *args, **kwargs)\n"
     ]
    },
    {
     "name": "stdout",
     "output_type": "stream",
     "text": [
      "X1:  0.000999000999000999\n"
     ]
    },
    {
     "name": "stderr",
     "output_type": "stream",
     "text": [
      "/Users/adam2392/miniforge3/envs/sktree/lib/python3.9/site-packages/sklearn/base.py:1151: DataConversionWarning: A column-vector y was passed when a 1d array was expected. Please change the shape of y to (n_samples,), for example using ravel().\n",
      "  return fit_method(estimator, *args, **kwargs)\n"
     ]
    },
    {
     "name": "stdout",
     "output_type": "stream",
     "text": [
      "X6:  0.000999000999000999\n"
     ]
    },
    {
     "name": "stderr",
     "output_type": "stream",
     "text": [
      "/Users/adam2392/miniforge3/envs/sktree/lib/python3.9/site-packages/sklearn/base.py:1151: DataConversionWarning: A column-vector y was passed when a 1d array was expected. Please change the shape of y to (n_samples,), for example using ravel().\n",
      "  return fit_method(estimator, *args, **kwargs)\n"
     ]
    },
    {
     "name": "stdout",
     "output_type": "stream",
     "text": [
      "X2/7:  0.01998001998001998\n"
     ]
    },
    {
     "name": "stderr",
     "output_type": "stream",
     "text": [
      "/Users/adam2392/miniforge3/envs/sktree/lib/python3.9/site-packages/sklearn/base.py:1151: DataConversionWarning: A column-vector y was passed when a 1d array was expected. Please change the shape of y to (n_samples,), for example using ravel().\n",
      "  return fit_method(estimator, *args, **kwargs)\n"
     ]
    },
    {
     "name": "stdout",
     "output_type": "stream",
     "text": [
      "X2/7:  0.939060939060939\n"
     ]
    },
    {
     "name": "stderr",
     "output_type": "stream",
     "text": [
      "/Users/adam2392/miniforge3/envs/sktree/lib/python3.9/site-packages/sklearn/base.py:1151: DataConversionWarning: A column-vector y was passed when a 1d array was expected. Please change the shape of y to (n_samples,), for example using ravel().\n",
      "  return fit_method(estimator, *args, **kwargs)\n",
      "/Users/adam2392/miniforge3/envs/sktree/lib/python3.9/site-packages/sklearn/base.py:1151: DataConversionWarning: A column-vector y was passed when a 1d array was expected. Please change the shape of y to (n_samples,), for example using ravel().\n",
      "  return fit_method(estimator, *args, **kwargs)\n"
     ]
    },
    {
     "name": "stdout",
     "output_type": "stream",
     "text": [
      "X1:  0.000999000999000999\n"
     ]
    },
    {
     "name": "stderr",
     "output_type": "stream",
     "text": [
      "/Users/adam2392/miniforge3/envs/sktree/lib/python3.9/site-packages/sklearn/base.py:1151: DataConversionWarning: A column-vector y was passed when a 1d array was expected. Please change the shape of y to (n_samples,), for example using ravel().\n",
      "  return fit_method(estimator, *args, **kwargs)\n"
     ]
    },
    {
     "name": "stdout",
     "output_type": "stream",
     "text": [
      "X6:  0.000999000999000999\n"
     ]
    },
    {
     "name": "stderr",
     "output_type": "stream",
     "text": [
      "/Users/adam2392/miniforge3/envs/sktree/lib/python3.9/site-packages/sklearn/base.py:1151: DataConversionWarning: A column-vector y was passed when a 1d array was expected. Please change the shape of y to (n_samples,), for example using ravel().\n",
      "  return fit_method(estimator, *args, **kwargs)\n"
     ]
    },
    {
     "name": "stdout",
     "output_type": "stream",
     "text": [
      "X2/7:  0.26173826173826176\n"
     ]
    },
    {
     "name": "stderr",
     "output_type": "stream",
     "text": [
      "/Users/adam2392/miniforge3/envs/sktree/lib/python3.9/site-packages/sklearn/base.py:1151: DataConversionWarning: A column-vector y was passed when a 1d array was expected. Please change the shape of y to (n_samples,), for example using ravel().\n",
      "  return fit_method(estimator, *args, **kwargs)\n"
     ]
    },
    {
     "name": "stdout",
     "output_type": "stream",
     "text": [
      "X2/7:  0.21678321678321677\n"
     ]
    },
    {
     "name": "stderr",
     "output_type": "stream",
     "text": [
      "/Users/adam2392/miniforge3/envs/sktree/lib/python3.9/site-packages/sklearn/base.py:1151: DataConversionWarning: A column-vector y was passed when a 1d array was expected. Please change the shape of y to (n_samples,), for example using ravel().\n",
      "  return fit_method(estimator, *args, **kwargs)\n",
      "/Users/adam2392/miniforge3/envs/sktree/lib/python3.9/site-packages/sklearn/base.py:1151: DataConversionWarning: A column-vector y was passed when a 1d array was expected. Please change the shape of y to (n_samples,), for example using ravel().\n",
      "  return fit_method(estimator, *args, **kwargs)\n"
     ]
    },
    {
     "name": "stdout",
     "output_type": "stream",
     "text": [
      "X1:  0.000999000999000999\n"
     ]
    },
    {
     "name": "stderr",
     "output_type": "stream",
     "text": [
      "/Users/adam2392/miniforge3/envs/sktree/lib/python3.9/site-packages/sklearn/base.py:1151: DataConversionWarning: A column-vector y was passed when a 1d array was expected. Please change the shape of y to (n_samples,), for example using ravel().\n",
      "  return fit_method(estimator, *args, **kwargs)\n"
     ]
    },
    {
     "name": "stdout",
     "output_type": "stream",
     "text": [
      "X6:  0.000999000999000999\n"
     ]
    },
    {
     "name": "stderr",
     "output_type": "stream",
     "text": [
      "/Users/adam2392/miniforge3/envs/sktree/lib/python3.9/site-packages/sklearn/base.py:1151: DataConversionWarning: A column-vector y was passed when a 1d array was expected. Please change the shape of y to (n_samples,), for example using ravel().\n",
      "  return fit_method(estimator, *args, **kwargs)\n"
     ]
    },
    {
     "name": "stdout",
     "output_type": "stream",
     "text": [
      "X2/7:  0.3866133866133866\n"
     ]
    },
    {
     "name": "stderr",
     "output_type": "stream",
     "text": [
      "/Users/adam2392/miniforge3/envs/sktree/lib/python3.9/site-packages/sklearn/base.py:1151: DataConversionWarning: A column-vector y was passed when a 1d array was expected. Please change the shape of y to (n_samples,), for example using ravel().\n",
      "  return fit_method(estimator, *args, **kwargs)\n"
     ]
    },
    {
     "name": "stdout",
     "output_type": "stream",
     "text": [
      "X2/7:  0.22677322677322678\n"
     ]
    },
    {
     "name": "stderr",
     "output_type": "stream",
     "text": [
      "/Users/adam2392/miniforge3/envs/sktree/lib/python3.9/site-packages/sklearn/base.py:1151: DataConversionWarning: A column-vector y was passed when a 1d array was expected. Please change the shape of y to (n_samples,), for example using ravel().\n",
      "  return fit_method(estimator, *args, **kwargs)\n",
      "/Users/adam2392/miniforge3/envs/sktree/lib/python3.9/site-packages/sklearn/base.py:1151: DataConversionWarning: A column-vector y was passed when a 1d array was expected. Please change the shape of y to (n_samples,), for example using ravel().\n",
      "  return fit_method(estimator, *args, **kwargs)\n"
     ]
    },
    {
     "name": "stdout",
     "output_type": "stream",
     "text": [
      "X1:  0.000999000999000999\n"
     ]
    },
    {
     "name": "stderr",
     "output_type": "stream",
     "text": [
      "/Users/adam2392/miniforge3/envs/sktree/lib/python3.9/site-packages/sklearn/base.py:1151: DataConversionWarning: A column-vector y was passed when a 1d array was expected. Please change the shape of y to (n_samples,), for example using ravel().\n",
      "  return fit_method(estimator, *args, **kwargs)\n"
     ]
    },
    {
     "name": "stdout",
     "output_type": "stream",
     "text": [
      "X6:  0.000999000999000999\n"
     ]
    },
    {
     "name": "stderr",
     "output_type": "stream",
     "text": [
      "/Users/adam2392/miniforge3/envs/sktree/lib/python3.9/site-packages/sklearn/base.py:1151: DataConversionWarning: A column-vector y was passed when a 1d array was expected. Please change the shape of y to (n_samples,), for example using ravel().\n",
      "  return fit_method(estimator, *args, **kwargs)\n"
     ]
    },
    {
     "name": "stdout",
     "output_type": "stream",
     "text": [
      "X2/7:  0.32167832167832167\n"
     ]
    },
    {
     "name": "stderr",
     "output_type": "stream",
     "text": [
      "/Users/adam2392/miniforge3/envs/sktree/lib/python3.9/site-packages/sklearn/base.py:1151: DataConversionWarning: A column-vector y was passed when a 1d array was expected. Please change the shape of y to (n_samples,), for example using ravel().\n",
      "  return fit_method(estimator, *args, **kwargs)\n"
     ]
    },
    {
     "name": "stdout",
     "output_type": "stream",
     "text": [
      "X2/7:  0.23476523476523475\n"
     ]
    },
    {
     "name": "stderr",
     "output_type": "stream",
     "text": [
      "/Users/adam2392/miniforge3/envs/sktree/lib/python3.9/site-packages/sklearn/base.py:1151: DataConversionWarning: A column-vector y was passed when a 1d array was expected. Please change the shape of y to (n_samples,), for example using ravel().\n",
      "  return fit_method(estimator, *args, **kwargs)\n",
      "/Users/adam2392/miniforge3/envs/sktree/lib/python3.9/site-packages/sklearn/base.py:1151: DataConversionWarning: A column-vector y was passed when a 1d array was expected. Please change the shape of y to (n_samples,), for example using ravel().\n",
      "  return fit_method(estimator, *args, **kwargs)\n"
     ]
    },
    {
     "name": "stdout",
     "output_type": "stream",
     "text": [
      "X1:  0.000999000999000999\n"
     ]
    },
    {
     "name": "stderr",
     "output_type": "stream",
     "text": [
      "/Users/adam2392/miniforge3/envs/sktree/lib/python3.9/site-packages/sklearn/base.py:1151: DataConversionWarning: A column-vector y was passed when a 1d array was expected. Please change the shape of y to (n_samples,), for example using ravel().\n",
      "  return fit_method(estimator, *args, **kwargs)\n"
     ]
    },
    {
     "name": "stdout",
     "output_type": "stream",
     "text": [
      "X6:  0.000999000999000999\n"
     ]
    },
    {
     "name": "stderr",
     "output_type": "stream",
     "text": [
      "/Users/adam2392/miniforge3/envs/sktree/lib/python3.9/site-packages/sklearn/base.py:1151: DataConversionWarning: A column-vector y was passed when a 1d array was expected. Please change the shape of y to (n_samples,), for example using ravel().\n",
      "  return fit_method(estimator, *args, **kwargs)\n"
     ]
    },
    {
     "name": "stdout",
     "output_type": "stream",
     "text": [
      "X2/7:  0.001998001998001998\n"
     ]
    },
    {
     "name": "stderr",
     "output_type": "stream",
     "text": [
      "/Users/adam2392/miniforge3/envs/sktree/lib/python3.9/site-packages/sklearn/base.py:1151: DataConversionWarning: A column-vector y was passed when a 1d array was expected. Please change the shape of y to (n_samples,), for example using ravel().\n",
      "  return fit_method(estimator, *args, **kwargs)\n"
     ]
    },
    {
     "name": "stdout",
     "output_type": "stream",
     "text": [
      "X2/7:  0.43956043956043955\n"
     ]
    },
    {
     "name": "stderr",
     "output_type": "stream",
     "text": [
      "/Users/adam2392/miniforge3/envs/sktree/lib/python3.9/site-packages/sklearn/base.py:1151: DataConversionWarning: A column-vector y was passed when a 1d array was expected. Please change the shape of y to (n_samples,), for example using ravel().\n",
      "  return fit_method(estimator, *args, **kwargs)\n",
      "/Users/adam2392/miniforge3/envs/sktree/lib/python3.9/site-packages/sklearn/base.py:1151: DataConversionWarning: A column-vector y was passed when a 1d array was expected. Please change the shape of y to (n_samples,), for example using ravel().\n",
      "  return fit_method(estimator, *args, **kwargs)\n"
     ]
    },
    {
     "name": "stdout",
     "output_type": "stream",
     "text": [
      "X1:  0.000999000999000999\n"
     ]
    },
    {
     "name": "stderr",
     "output_type": "stream",
     "text": [
      "/Users/adam2392/miniforge3/envs/sktree/lib/python3.9/site-packages/sklearn/base.py:1151: DataConversionWarning: A column-vector y was passed when a 1d array was expected. Please change the shape of y to (n_samples,), for example using ravel().\n",
      "  return fit_method(estimator, *args, **kwargs)\n"
     ]
    },
    {
     "name": "stdout",
     "output_type": "stream",
     "text": [
      "X6:  0.000999000999000999\n"
     ]
    },
    {
     "name": "stderr",
     "output_type": "stream",
     "text": [
      "/Users/adam2392/miniforge3/envs/sktree/lib/python3.9/site-packages/sklearn/base.py:1151: DataConversionWarning: A column-vector y was passed when a 1d array was expected. Please change the shape of y to (n_samples,), for example using ravel().\n",
      "  return fit_method(estimator, *args, **kwargs)\n"
     ]
    },
    {
     "name": "stdout",
     "output_type": "stream",
     "text": [
      "X2/7:  0.04295704295704296\n"
     ]
    },
    {
     "name": "stderr",
     "output_type": "stream",
     "text": [
      "/Users/adam2392/miniforge3/envs/sktree/lib/python3.9/site-packages/sklearn/base.py:1151: DataConversionWarning: A column-vector y was passed when a 1d array was expected. Please change the shape of y to (n_samples,), for example using ravel().\n",
      "  return fit_method(estimator, *args, **kwargs)\n"
     ]
    },
    {
     "name": "stdout",
     "output_type": "stream",
     "text": [
      "X2/7:  0.961038961038961\n"
     ]
    },
    {
     "name": "stderr",
     "output_type": "stream",
     "text": [
      "/Users/adam2392/miniforge3/envs/sktree/lib/python3.9/site-packages/sklearn/base.py:1151: DataConversionWarning: A column-vector y was passed when a 1d array was expected. Please change the shape of y to (n_samples,), for example using ravel().\n",
      "  return fit_method(estimator, *args, **kwargs)\n",
      "/Users/adam2392/miniforge3/envs/sktree/lib/python3.9/site-packages/sklearn/base.py:1151: DataConversionWarning: A column-vector y was passed when a 1d array was expected. Please change the shape of y to (n_samples,), for example using ravel().\n",
      "  return fit_method(estimator, *args, **kwargs)\n"
     ]
    },
    {
     "name": "stdout",
     "output_type": "stream",
     "text": [
      "X1:  0.000999000999000999\n"
     ]
    },
    {
     "name": "stderr",
     "output_type": "stream",
     "text": [
      "/Users/adam2392/miniforge3/envs/sktree/lib/python3.9/site-packages/sklearn/base.py:1151: DataConversionWarning: A column-vector y was passed when a 1d array was expected. Please change the shape of y to (n_samples,), for example using ravel().\n",
      "  return fit_method(estimator, *args, **kwargs)\n"
     ]
    },
    {
     "name": "stdout",
     "output_type": "stream",
     "text": [
      "X6:  0.000999000999000999\n"
     ]
    },
    {
     "name": "stderr",
     "output_type": "stream",
     "text": [
      "/Users/adam2392/miniforge3/envs/sktree/lib/python3.9/site-packages/sklearn/base.py:1151: DataConversionWarning: A column-vector y was passed when a 1d array was expected. Please change the shape of y to (n_samples,), for example using ravel().\n",
      "  return fit_method(estimator, *args, **kwargs)\n"
     ]
    },
    {
     "name": "stdout",
     "output_type": "stream",
     "text": [
      "X2/7:  0.8261738261738262\n"
     ]
    },
    {
     "name": "stderr",
     "output_type": "stream",
     "text": [
      "/Users/adam2392/miniforge3/envs/sktree/lib/python3.9/site-packages/sklearn/base.py:1151: DataConversionWarning: A column-vector y was passed when a 1d array was expected. Please change the shape of y to (n_samples,), for example using ravel().\n",
      "  return fit_method(estimator, *args, **kwargs)\n"
     ]
    },
    {
     "name": "stdout",
     "output_type": "stream",
     "text": [
      "X2/7:  0.14385614385614387\n"
     ]
    },
    {
     "name": "stderr",
     "output_type": "stream",
     "text": [
      "/Users/adam2392/miniforge3/envs/sktree/lib/python3.9/site-packages/sklearn/base.py:1151: DataConversionWarning: A column-vector y was passed when a 1d array was expected. Please change the shape of y to (n_samples,), for example using ravel().\n",
      "  return fit_method(estimator, *args, **kwargs)\n",
      "/Users/adam2392/miniforge3/envs/sktree/lib/python3.9/site-packages/sklearn/base.py:1151: DataConversionWarning: A column-vector y was passed when a 1d array was expected. Please change the shape of y to (n_samples,), for example using ravel().\n",
      "  return fit_method(estimator, *args, **kwargs)\n"
     ]
    },
    {
     "name": "stdout",
     "output_type": "stream",
     "text": [
      "X1:  0.000999000999000999\n"
     ]
    },
    {
     "name": "stderr",
     "output_type": "stream",
     "text": [
      "/Users/adam2392/miniforge3/envs/sktree/lib/python3.9/site-packages/sklearn/base.py:1151: DataConversionWarning: A column-vector y was passed when a 1d array was expected. Please change the shape of y to (n_samples,), for example using ravel().\n",
      "  return fit_method(estimator, *args, **kwargs)\n"
     ]
    },
    {
     "name": "stdout",
     "output_type": "stream",
     "text": [
      "X6:  0.000999000999000999\n"
     ]
    },
    {
     "name": "stderr",
     "output_type": "stream",
     "text": [
      "/Users/adam2392/miniforge3/envs/sktree/lib/python3.9/site-packages/sklearn/base.py:1151: DataConversionWarning: A column-vector y was passed when a 1d array was expected. Please change the shape of y to (n_samples,), for example using ravel().\n",
      "  return fit_method(estimator, *args, **kwargs)\n"
     ]
    },
    {
     "name": "stdout",
     "output_type": "stream",
     "text": [
      "X2/7:  0.01898101898101898\n"
     ]
    },
    {
     "name": "stderr",
     "output_type": "stream",
     "text": [
      "/Users/adam2392/miniforge3/envs/sktree/lib/python3.9/site-packages/sklearn/base.py:1151: DataConversionWarning: A column-vector y was passed when a 1d array was expected. Please change the shape of y to (n_samples,), for example using ravel().\n",
      "  return fit_method(estimator, *args, **kwargs)\n"
     ]
    },
    {
     "name": "stdout",
     "output_type": "stream",
     "text": [
      "X2/7:  0.015984015984015984\n"
     ]
    },
    {
     "name": "stderr",
     "output_type": "stream",
     "text": [
      "/Users/adam2392/miniforge3/envs/sktree/lib/python3.9/site-packages/sklearn/base.py:1151: DataConversionWarning: A column-vector y was passed when a 1d array was expected. Please change the shape of y to (n_samples,), for example using ravel().\n",
      "  return fit_method(estimator, *args, **kwargs)\n",
      "/Users/adam2392/miniforge3/envs/sktree/lib/python3.9/site-packages/sklearn/base.py:1151: DataConversionWarning: A column-vector y was passed when a 1d array was expected. Please change the shape of y to (n_samples,), for example using ravel().\n",
      "  return fit_method(estimator, *args, **kwargs)\n"
     ]
    },
    {
     "name": "stdout",
     "output_type": "stream",
     "text": [
      "X1:  0.000999000999000999\n"
     ]
    },
    {
     "name": "stderr",
     "output_type": "stream",
     "text": [
      "/Users/adam2392/miniforge3/envs/sktree/lib/python3.9/site-packages/sklearn/base.py:1151: DataConversionWarning: A column-vector y was passed when a 1d array was expected. Please change the shape of y to (n_samples,), for example using ravel().\n",
      "  return fit_method(estimator, *args, **kwargs)\n"
     ]
    },
    {
     "name": "stdout",
     "output_type": "stream",
     "text": [
      "X6:  0.000999000999000999\n"
     ]
    },
    {
     "name": "stderr",
     "output_type": "stream",
     "text": [
      "/Users/adam2392/miniforge3/envs/sktree/lib/python3.9/site-packages/sklearn/base.py:1151: DataConversionWarning: A column-vector y was passed when a 1d array was expected. Please change the shape of y to (n_samples,), for example using ravel().\n",
      "  return fit_method(estimator, *args, **kwargs)\n"
     ]
    },
    {
     "name": "stdout",
     "output_type": "stream",
     "text": [
      "X2/7:  0.7162837162837162\n"
     ]
    },
    {
     "name": "stderr",
     "output_type": "stream",
     "text": [
      "/Users/adam2392/miniforge3/envs/sktree/lib/python3.9/site-packages/sklearn/base.py:1151: DataConversionWarning: A column-vector y was passed when a 1d array was expected. Please change the shape of y to (n_samples,), for example using ravel().\n",
      "  return fit_method(estimator, *args, **kwargs)\n"
     ]
    },
    {
     "name": "stdout",
     "output_type": "stream",
     "text": [
      "X2/7:  0.2967032967032967\n"
     ]
    },
    {
     "name": "stderr",
     "output_type": "stream",
     "text": [
      "/Users/adam2392/miniforge3/envs/sktree/lib/python3.9/site-packages/sklearn/base.py:1151: DataConversionWarning: A column-vector y was passed when a 1d array was expected. Please change the shape of y to (n_samples,), for example using ravel().\n",
      "  return fit_method(estimator, *args, **kwargs)\n",
      "/Users/adam2392/miniforge3/envs/sktree/lib/python3.9/site-packages/sklearn/base.py:1151: DataConversionWarning: A column-vector y was passed when a 1d array was expected. Please change the shape of y to (n_samples,), for example using ravel().\n",
      "  return fit_method(estimator, *args, **kwargs)\n"
     ]
    },
    {
     "name": "stdout",
     "output_type": "stream",
     "text": [
      "X1:  0.000999000999000999\n"
     ]
    },
    {
     "name": "stderr",
     "output_type": "stream",
     "text": [
      "/Users/adam2392/miniforge3/envs/sktree/lib/python3.9/site-packages/sklearn/base.py:1151: DataConversionWarning: A column-vector y was passed when a 1d array was expected. Please change the shape of y to (n_samples,), for example using ravel().\n",
      "  return fit_method(estimator, *args, **kwargs)\n"
     ]
    },
    {
     "name": "stdout",
     "output_type": "stream",
     "text": [
      "X6:  0.000999000999000999\n"
     ]
    },
    {
     "name": "stderr",
     "output_type": "stream",
     "text": [
      "/Users/adam2392/miniforge3/envs/sktree/lib/python3.9/site-packages/sklearn/base.py:1151: DataConversionWarning: A column-vector y was passed when a 1d array was expected. Please change the shape of y to (n_samples,), for example using ravel().\n",
      "  return fit_method(estimator, *args, **kwargs)\n"
     ]
    },
    {
     "name": "stdout",
     "output_type": "stream",
     "text": [
      "X2/7:  0.000999000999000999\n"
     ]
    },
    {
     "name": "stderr",
     "output_type": "stream",
     "text": [
      "/Users/adam2392/miniforge3/envs/sktree/lib/python3.9/site-packages/sklearn/base.py:1151: DataConversionWarning: A column-vector y was passed when a 1d array was expected. Please change the shape of y to (n_samples,), for example using ravel().\n",
      "  return fit_method(estimator, *args, **kwargs)\n"
     ]
    },
    {
     "name": "stdout",
     "output_type": "stream",
     "text": [
      "X2/7:  0.04095904095904096\n"
     ]
    },
    {
     "name": "stderr",
     "output_type": "stream",
     "text": [
      "/Users/adam2392/miniforge3/envs/sktree/lib/python3.9/site-packages/sklearn/base.py:1151: DataConversionWarning: A column-vector y was passed when a 1d array was expected. Please change the shape of y to (n_samples,), for example using ravel().\n",
      "  return fit_method(estimator, *args, **kwargs)\n",
      "/Users/adam2392/miniforge3/envs/sktree/lib/python3.9/site-packages/sklearn/base.py:1151: DataConversionWarning: A column-vector y was passed when a 1d array was expected. Please change the shape of y to (n_samples,), for example using ravel().\n",
      "  return fit_method(estimator, *args, **kwargs)\n"
     ]
    },
    {
     "name": "stdout",
     "output_type": "stream",
     "text": [
      "X1:  0.000999000999000999\n"
     ]
    },
    {
     "name": "stderr",
     "output_type": "stream",
     "text": [
      "/Users/adam2392/miniforge3/envs/sktree/lib/python3.9/site-packages/sklearn/base.py:1151: DataConversionWarning: A column-vector y was passed when a 1d array was expected. Please change the shape of y to (n_samples,), for example using ravel().\n",
      "  return fit_method(estimator, *args, **kwargs)\n"
     ]
    },
    {
     "name": "stdout",
     "output_type": "stream",
     "text": [
      "X6:  0.000999000999000999\n"
     ]
    },
    {
     "name": "stderr",
     "output_type": "stream",
     "text": [
      "/Users/adam2392/miniforge3/envs/sktree/lib/python3.9/site-packages/sklearn/base.py:1151: DataConversionWarning: A column-vector y was passed when a 1d array was expected. Please change the shape of y to (n_samples,), for example using ravel().\n",
      "  return fit_method(estimator, *args, **kwargs)\n"
     ]
    },
    {
     "name": "stdout",
     "output_type": "stream",
     "text": [
      "X2/7:  0.07892107892107893\n"
     ]
    },
    {
     "name": "stderr",
     "output_type": "stream",
     "text": [
      "/Users/adam2392/miniforge3/envs/sktree/lib/python3.9/site-packages/sklearn/base.py:1151: DataConversionWarning: A column-vector y was passed when a 1d array was expected. Please change the shape of y to (n_samples,), for example using ravel().\n",
      "  return fit_method(estimator, *args, **kwargs)\n"
     ]
    },
    {
     "name": "stdout",
     "output_type": "stream",
     "text": [
      "X2/7:  0.5284715284715285\n"
     ]
    },
    {
     "name": "stderr",
     "output_type": "stream",
     "text": [
      "/Users/adam2392/miniforge3/envs/sktree/lib/python3.9/site-packages/sklearn/base.py:1151: DataConversionWarning: A column-vector y was passed when a 1d array was expected. Please change the shape of y to (n_samples,), for example using ravel().\n",
      "  return fit_method(estimator, *args, **kwargs)\n",
      "/Users/adam2392/miniforge3/envs/sktree/lib/python3.9/site-packages/sklearn/base.py:1151: DataConversionWarning: A column-vector y was passed when a 1d array was expected. Please change the shape of y to (n_samples,), for example using ravel().\n",
      "  return fit_method(estimator, *args, **kwargs)\n"
     ]
    },
    {
     "name": "stdout",
     "output_type": "stream",
     "text": [
      "X1:  0.000999000999000999\n"
     ]
    },
    {
     "name": "stderr",
     "output_type": "stream",
     "text": [
      "/Users/adam2392/miniforge3/envs/sktree/lib/python3.9/site-packages/sklearn/base.py:1151: DataConversionWarning: A column-vector y was passed when a 1d array was expected. Please change the shape of y to (n_samples,), for example using ravel().\n",
      "  return fit_method(estimator, *args, **kwargs)\n"
     ]
    },
    {
     "name": "stdout",
     "output_type": "stream",
     "text": [
      "X6:  0.000999000999000999\n"
     ]
    },
    {
     "name": "stderr",
     "output_type": "stream",
     "text": [
      "/Users/adam2392/miniforge3/envs/sktree/lib/python3.9/site-packages/sklearn/base.py:1151: DataConversionWarning: A column-vector y was passed when a 1d array was expected. Please change the shape of y to (n_samples,), for example using ravel().\n",
      "  return fit_method(estimator, *args, **kwargs)\n"
     ]
    },
    {
     "name": "stdout",
     "output_type": "stream",
     "text": [
      "X2/7:  0.7002997002997003\n"
     ]
    },
    {
     "name": "stderr",
     "output_type": "stream",
     "text": [
      "/Users/adam2392/miniforge3/envs/sktree/lib/python3.9/site-packages/sklearn/base.py:1151: DataConversionWarning: A column-vector y was passed when a 1d array was expected. Please change the shape of y to (n_samples,), for example using ravel().\n",
      "  return fit_method(estimator, *args, **kwargs)\n"
     ]
    },
    {
     "name": "stdout",
     "output_type": "stream",
     "text": [
      "X2/7:  1.0\n"
     ]
    },
    {
     "name": "stderr",
     "output_type": "stream",
     "text": [
      "/Users/adam2392/miniforge3/envs/sktree/lib/python3.9/site-packages/sklearn/base.py:1151: DataConversionWarning: A column-vector y was passed when a 1d array was expected. Please change the shape of y to (n_samples,), for example using ravel().\n",
      "  return fit_method(estimator, *args, **kwargs)\n",
      "/Users/adam2392/miniforge3/envs/sktree/lib/python3.9/site-packages/sklearn/base.py:1151: DataConversionWarning: A column-vector y was passed when a 1d array was expected. Please change the shape of y to (n_samples,), for example using ravel().\n",
      "  return fit_method(estimator, *args, **kwargs)\n"
     ]
    },
    {
     "name": "stdout",
     "output_type": "stream",
     "text": [
      "X1:  0.000999000999000999\n"
     ]
    },
    {
     "name": "stderr",
     "output_type": "stream",
     "text": [
      "/Users/adam2392/miniforge3/envs/sktree/lib/python3.9/site-packages/sklearn/base.py:1151: DataConversionWarning: A column-vector y was passed when a 1d array was expected. Please change the shape of y to (n_samples,), for example using ravel().\n",
      "  return fit_method(estimator, *args, **kwargs)\n"
     ]
    },
    {
     "name": "stdout",
     "output_type": "stream",
     "text": [
      "X6:  0.000999000999000999\n"
     ]
    },
    {
     "name": "stderr",
     "output_type": "stream",
     "text": [
      "/Users/adam2392/miniforge3/envs/sktree/lib/python3.9/site-packages/sklearn/base.py:1151: DataConversionWarning: A column-vector y was passed when a 1d array was expected. Please change the shape of y to (n_samples,), for example using ravel().\n",
      "  return fit_method(estimator, *args, **kwargs)\n"
     ]
    },
    {
     "name": "stdout",
     "output_type": "stream",
     "text": [
      "X2/7:  0.000999000999000999\n"
     ]
    },
    {
     "name": "stderr",
     "output_type": "stream",
     "text": [
      "/Users/adam2392/miniforge3/envs/sktree/lib/python3.9/site-packages/sklearn/base.py:1151: DataConversionWarning: A column-vector y was passed when a 1d array was expected. Please change the shape of y to (n_samples,), for example using ravel().\n",
      "  return fit_method(estimator, *args, **kwargs)\n"
     ]
    },
    {
     "name": "stdout",
     "output_type": "stream",
     "text": [
      "X2/7:  0.6843156843156843\n"
     ]
    },
    {
     "name": "stderr",
     "output_type": "stream",
     "text": [
      "/Users/adam2392/miniforge3/envs/sktree/lib/python3.9/site-packages/sklearn/base.py:1151: DataConversionWarning: A column-vector y was passed when a 1d array was expected. Please change the shape of y to (n_samples,), for example using ravel().\n",
      "  return fit_method(estimator, *args, **kwargs)\n",
      "/Users/adam2392/miniforge3/envs/sktree/lib/python3.9/site-packages/sklearn/base.py:1151: DataConversionWarning: A column-vector y was passed when a 1d array was expected. Please change the shape of y to (n_samples,), for example using ravel().\n",
      "  return fit_method(estimator, *args, **kwargs)\n"
     ]
    },
    {
     "name": "stdout",
     "output_type": "stream",
     "text": [
      "X1:  0.000999000999000999\n"
     ]
    },
    {
     "name": "stderr",
     "output_type": "stream",
     "text": [
      "/Users/adam2392/miniforge3/envs/sktree/lib/python3.9/site-packages/sklearn/base.py:1151: DataConversionWarning: A column-vector y was passed when a 1d array was expected. Please change the shape of y to (n_samples,), for example using ravel().\n",
      "  return fit_method(estimator, *args, **kwargs)\n"
     ]
    },
    {
     "name": "stdout",
     "output_type": "stream",
     "text": [
      "X6:  0.000999000999000999\n"
     ]
    },
    {
     "name": "stderr",
     "output_type": "stream",
     "text": [
      "/Users/adam2392/miniforge3/envs/sktree/lib/python3.9/site-packages/sklearn/base.py:1151: DataConversionWarning: A column-vector y was passed when a 1d array was expected. Please change the shape of y to (n_samples,), for example using ravel().\n",
      "  return fit_method(estimator, *args, **kwargs)\n"
     ]
    },
    {
     "name": "stdout",
     "output_type": "stream",
     "text": [
      "X2/7:  0.001998001998001998\n"
     ]
    },
    {
     "name": "stderr",
     "output_type": "stream",
     "text": [
      "/Users/adam2392/miniforge3/envs/sktree/lib/python3.9/site-packages/sklearn/base.py:1151: DataConversionWarning: A column-vector y was passed when a 1d array was expected. Please change the shape of y to (n_samples,), for example using ravel().\n",
      "  return fit_method(estimator, *args, **kwargs)\n"
     ]
    },
    {
     "name": "stdout",
     "output_type": "stream",
     "text": [
      "X2/7:  0.5024975024975025\n"
     ]
    },
    {
     "name": "stderr",
     "output_type": "stream",
     "text": [
      "/Users/adam2392/miniforge3/envs/sktree/lib/python3.9/site-packages/sklearn/base.py:1151: DataConversionWarning: A column-vector y was passed when a 1d array was expected. Please change the shape of y to (n_samples,), for example using ravel().\n",
      "  return fit_method(estimator, *args, **kwargs)\n",
      "/Users/adam2392/miniforge3/envs/sktree/lib/python3.9/site-packages/sklearn/base.py:1151: DataConversionWarning: A column-vector y was passed when a 1d array was expected. Please change the shape of y to (n_samples,), for example using ravel().\n",
      "  return fit_method(estimator, *args, **kwargs)\n"
     ]
    },
    {
     "name": "stdout",
     "output_type": "stream",
     "text": [
      "X1:  0.000999000999000999\n"
     ]
    },
    {
     "name": "stderr",
     "output_type": "stream",
     "text": [
      "/Users/adam2392/miniforge3/envs/sktree/lib/python3.9/site-packages/sklearn/base.py:1151: DataConversionWarning: A column-vector y was passed when a 1d array was expected. Please change the shape of y to (n_samples,), for example using ravel().\n",
      "  return fit_method(estimator, *args, **kwargs)\n"
     ]
    },
    {
     "name": "stdout",
     "output_type": "stream",
     "text": [
      "X6:  0.000999000999000999\n"
     ]
    },
    {
     "name": "stderr",
     "output_type": "stream",
     "text": [
      "/Users/adam2392/miniforge3/envs/sktree/lib/python3.9/site-packages/sklearn/base.py:1151: DataConversionWarning: A column-vector y was passed when a 1d array was expected. Please change the shape of y to (n_samples,), for example using ravel().\n",
      "  return fit_method(estimator, *args, **kwargs)\n"
     ]
    },
    {
     "name": "stdout",
     "output_type": "stream",
     "text": [
      "X2/7:  0.5684315684315684\n"
     ]
    },
    {
     "name": "stderr",
     "output_type": "stream",
     "text": [
      "/Users/adam2392/miniforge3/envs/sktree/lib/python3.9/site-packages/sklearn/base.py:1151: DataConversionWarning: A column-vector y was passed when a 1d array was expected. Please change the shape of y to (n_samples,), for example using ravel().\n",
      "  return fit_method(estimator, *args, **kwargs)\n"
     ]
    },
    {
     "name": "stdout",
     "output_type": "stream",
     "text": [
      "X2/7:  0.8381618381618382\n"
     ]
    },
    {
     "name": "stderr",
     "output_type": "stream",
     "text": [
      "/Users/adam2392/miniforge3/envs/sktree/lib/python3.9/site-packages/sklearn/base.py:1151: DataConversionWarning: A column-vector y was passed when a 1d array was expected. Please change the shape of y to (n_samples,), for example using ravel().\n",
      "  return fit_method(estimator, *args, **kwargs)\n",
      "/Users/adam2392/miniforge3/envs/sktree/lib/python3.9/site-packages/sklearn/base.py:1151: DataConversionWarning: A column-vector y was passed when a 1d array was expected. Please change the shape of y to (n_samples,), for example using ravel().\n",
      "  return fit_method(estimator, *args, **kwargs)\n"
     ]
    },
    {
     "name": "stdout",
     "output_type": "stream",
     "text": [
      "X1:  0.000999000999000999\n"
     ]
    },
    {
     "name": "stderr",
     "output_type": "stream",
     "text": [
      "/Users/adam2392/miniforge3/envs/sktree/lib/python3.9/site-packages/sklearn/base.py:1151: DataConversionWarning: A column-vector y was passed when a 1d array was expected. Please change the shape of y to (n_samples,), for example using ravel().\n",
      "  return fit_method(estimator, *args, **kwargs)\n"
     ]
    },
    {
     "name": "stdout",
     "output_type": "stream",
     "text": [
      "X6:  0.000999000999000999\n"
     ]
    },
    {
     "name": "stderr",
     "output_type": "stream",
     "text": [
      "/Users/adam2392/miniforge3/envs/sktree/lib/python3.9/site-packages/sklearn/base.py:1151: DataConversionWarning: A column-vector y was passed when a 1d array was expected. Please change the shape of y to (n_samples,), for example using ravel().\n",
      "  return fit_method(estimator, *args, **kwargs)\n"
     ]
    },
    {
     "name": "stdout",
     "output_type": "stream",
     "text": [
      "X2/7:  0.8621378621378621\n"
     ]
    },
    {
     "name": "stderr",
     "output_type": "stream",
     "text": [
      "/Users/adam2392/miniforge3/envs/sktree/lib/python3.9/site-packages/sklearn/base.py:1151: DataConversionWarning: A column-vector y was passed when a 1d array was expected. Please change the shape of y to (n_samples,), for example using ravel().\n",
      "  return fit_method(estimator, *args, **kwargs)\n"
     ]
    },
    {
     "name": "stdout",
     "output_type": "stream",
     "text": [
      "X2/7:  0.14985014985014986\n"
     ]
    },
    {
     "name": "stderr",
     "output_type": "stream",
     "text": [
      "/Users/adam2392/miniforge3/envs/sktree/lib/python3.9/site-packages/sklearn/base.py:1151: DataConversionWarning: A column-vector y was passed when a 1d array was expected. Please change the shape of y to (n_samples,), for example using ravel().\n",
      "  return fit_method(estimator, *args, **kwargs)\n",
      "/Users/adam2392/miniforge3/envs/sktree/lib/python3.9/site-packages/sklearn/base.py:1151: DataConversionWarning: A column-vector y was passed when a 1d array was expected. Please change the shape of y to (n_samples,), for example using ravel().\n",
      "  return fit_method(estimator, *args, **kwargs)\n"
     ]
    },
    {
     "name": "stdout",
     "output_type": "stream",
     "text": [
      "X1:  0.000999000999000999\n"
     ]
    },
    {
     "name": "stderr",
     "output_type": "stream",
     "text": [
      "/Users/adam2392/miniforge3/envs/sktree/lib/python3.9/site-packages/sklearn/base.py:1151: DataConversionWarning: A column-vector y was passed when a 1d array was expected. Please change the shape of y to (n_samples,), for example using ravel().\n",
      "  return fit_method(estimator, *args, **kwargs)\n"
     ]
    },
    {
     "name": "stdout",
     "output_type": "stream",
     "text": [
      "X6:  0.000999000999000999\n"
     ]
    },
    {
     "name": "stderr",
     "output_type": "stream",
     "text": [
      "/Users/adam2392/miniforge3/envs/sktree/lib/python3.9/site-packages/sklearn/base.py:1151: DataConversionWarning: A column-vector y was passed when a 1d array was expected. Please change the shape of y to (n_samples,), for example using ravel().\n",
      "  return fit_method(estimator, *args, **kwargs)\n"
     ]
    },
    {
     "name": "stdout",
     "output_type": "stream",
     "text": [
      "X2/7:  0.000999000999000999\n"
     ]
    },
    {
     "name": "stderr",
     "output_type": "stream",
     "text": [
      "/Users/adam2392/miniforge3/envs/sktree/lib/python3.9/site-packages/sklearn/base.py:1151: DataConversionWarning: A column-vector y was passed when a 1d array was expected. Please change the shape of y to (n_samples,), for example using ravel().\n",
      "  return fit_method(estimator, *args, **kwargs)\n"
     ]
    },
    {
     "name": "stdout",
     "output_type": "stream",
     "text": [
      "X2/7:  0.965034965034965\n"
     ]
    },
    {
     "name": "stderr",
     "output_type": "stream",
     "text": [
      "/Users/adam2392/miniforge3/envs/sktree/lib/python3.9/site-packages/sklearn/base.py:1151: DataConversionWarning: A column-vector y was passed when a 1d array was expected. Please change the shape of y to (n_samples,), for example using ravel().\n",
      "  return fit_method(estimator, *args, **kwargs)\n",
      "/Users/adam2392/miniforge3/envs/sktree/lib/python3.9/site-packages/sklearn/base.py:1151: DataConversionWarning: A column-vector y was passed when a 1d array was expected. Please change the shape of y to (n_samples,), for example using ravel().\n",
      "  return fit_method(estimator, *args, **kwargs)\n"
     ]
    },
    {
     "name": "stdout",
     "output_type": "stream",
     "text": [
      "X1:  0.000999000999000999\n"
     ]
    },
    {
     "name": "stderr",
     "output_type": "stream",
     "text": [
      "/Users/adam2392/miniforge3/envs/sktree/lib/python3.9/site-packages/sklearn/base.py:1151: DataConversionWarning: A column-vector y was passed when a 1d array was expected. Please change the shape of y to (n_samples,), for example using ravel().\n",
      "  return fit_method(estimator, *args, **kwargs)\n"
     ]
    },
    {
     "name": "stdout",
     "output_type": "stream",
     "text": [
      "X6:  0.000999000999000999\n"
     ]
    },
    {
     "name": "stderr",
     "output_type": "stream",
     "text": [
      "/Users/adam2392/miniforge3/envs/sktree/lib/python3.9/site-packages/sklearn/base.py:1151: DataConversionWarning: A column-vector y was passed when a 1d array was expected. Please change the shape of y to (n_samples,), for example using ravel().\n",
      "  return fit_method(estimator, *args, **kwargs)\n"
     ]
    },
    {
     "name": "stdout",
     "output_type": "stream",
     "text": [
      "X2/7:  0.03296703296703297\n"
     ]
    },
    {
     "name": "stderr",
     "output_type": "stream",
     "text": [
      "/Users/adam2392/miniforge3/envs/sktree/lib/python3.9/site-packages/sklearn/base.py:1151: DataConversionWarning: A column-vector y was passed when a 1d array was expected. Please change the shape of y to (n_samples,), for example using ravel().\n",
      "  return fit_method(estimator, *args, **kwargs)\n"
     ]
    },
    {
     "name": "stdout",
     "output_type": "stream",
     "text": [
      "X2/7:  0.4195804195804196\n"
     ]
    },
    {
     "name": "stderr",
     "output_type": "stream",
     "text": [
      "/Users/adam2392/miniforge3/envs/sktree/lib/python3.9/site-packages/sklearn/base.py:1151: DataConversionWarning: A column-vector y was passed when a 1d array was expected. Please change the shape of y to (n_samples,), for example using ravel().\n",
      "  return fit_method(estimator, *args, **kwargs)\n",
      "/Users/adam2392/miniforge3/envs/sktree/lib/python3.9/site-packages/sklearn/base.py:1151: DataConversionWarning: A column-vector y was passed when a 1d array was expected. Please change the shape of y to (n_samples,), for example using ravel().\n",
      "  return fit_method(estimator, *args, **kwargs)\n"
     ]
    },
    {
     "name": "stdout",
     "output_type": "stream",
     "text": [
      "X1:  0.000999000999000999\n"
     ]
    },
    {
     "name": "stderr",
     "output_type": "stream",
     "text": [
      "/Users/adam2392/miniforge3/envs/sktree/lib/python3.9/site-packages/sklearn/base.py:1151: DataConversionWarning: A column-vector y was passed when a 1d array was expected. Please change the shape of y to (n_samples,), for example using ravel().\n",
      "  return fit_method(estimator, *args, **kwargs)\n"
     ]
    },
    {
     "name": "stdout",
     "output_type": "stream",
     "text": [
      "X6:  0.000999000999000999\n"
     ]
    },
    {
     "name": "stderr",
     "output_type": "stream",
     "text": [
      "/Users/adam2392/miniforge3/envs/sktree/lib/python3.9/site-packages/sklearn/base.py:1151: DataConversionWarning: A column-vector y was passed when a 1d array was expected. Please change the shape of y to (n_samples,), for example using ravel().\n",
      "  return fit_method(estimator, *args, **kwargs)\n"
     ]
    },
    {
     "name": "stdout",
     "output_type": "stream",
     "text": [
      "X2/7:  0.000999000999000999\n"
     ]
    },
    {
     "name": "stderr",
     "output_type": "stream",
     "text": [
      "/Users/adam2392/miniforge3/envs/sktree/lib/python3.9/site-packages/sklearn/base.py:1151: DataConversionWarning: A column-vector y was passed when a 1d array was expected. Please change the shape of y to (n_samples,), for example using ravel().\n",
      "  return fit_method(estimator, *args, **kwargs)\n"
     ]
    },
    {
     "name": "stdout",
     "output_type": "stream",
     "text": [
      "X2/7:  0.3386613386613387\n"
     ]
    }
   ],
   "source": [
    "pvalue_dict = defaultdict(list)\n",
    "rng = np.random.default_rng(seed)\n",
    "\n",
    "j_space = np.linspace(0.005, 2.25, 9)\n",
    "\n",
    "for sigma_factor in j_space:\n",
    "    for idx in range(5):\n",
    "        new_seed = rng.integers(0, np.iinfo(np.uint32).max, dtype=np.uint32)\n",
    "\n",
    "        elements_dict = linear_model_ancova(\n",
    "            sigma_factor,\n",
    "            new_seed,\n",
    "            permute_per_tree=False,\n",
    "            sample_dataset_per_tree=False,\n",
    "        )\n",
    "        for key, value in elements_dict.items():\n",
    "            pvalue_dict[key].append(value)\n",
    "        pvalue_dict[\"sigma_factor\"].append(sigma_factor)\n",
    "\n",
    "df = pd.DataFrame(pvalue_dict)"
   ]
  },
  {
   "cell_type": "code",
   "execution_count": 6,
   "id": "48b832dd-aa16-4f11-94aa-8e4bdff5c957",
   "metadata": {},
   "outputs": [
    {
     "data": {
      "image/png": "[encoded data removed]",
      "text/plain": [
       "<Figure size 800x600 with 4 Axes>"
      ]
     },
     "metadata": {},
     "output_type": "display_data"
    }
   ],
   "source": [
    "fig, axs = plt.subplots(2, 2, figsize=(8, 6), sharey=True, sharex=True)\n",
    "axs = axs.flatten()\n",
    "\n",
    "for ax, name in zip(axs, [\"X1\", \"X2\", \"X6\", \"X7\"]):\n",
    "    sns.lineplot(data=df, x=\"sigma_factor\", y=name, ax=ax, marker=\"o\")\n",
    "\n",
    "    ax.axhline([0.05], ls=\"--\", color=\"red\", label=\"alpha\")\n",
    "    ax.set(title=name, ylabel=\"pvalue\", xlabel=\"SNR (10 / x)\")\n",
    "    ax.legend()\n",
    "fig.suptitle(\"Linear ANCOVA model with FeatureImportanceRegressor (Coleman OG method)\")\n",
    "fig.tight_layout()"
   ]
  },
  {
   "cell_type": "code",
   "execution_count": 7,
   "id": "9aa21431-495a-4bb2-99a8-ae167409bc03",
   "metadata": {
    "scrolled": true
   },
   "outputs": [
    {
     "name": "stdout",
     "output_type": "stream",
     "text": [
      "X1:  0.000999000999000999\n",
      "X6:  0.001998001998001998\n",
      "X2/7:  0.000999000999000999\n",
      "X2/7:  0.013986013986013986\n",
      "X1:  0.3786213786213786\n",
      "X6:  0.007992007992007992\n",
      "X2/7:  0.24875124875124874\n",
      "X2/7:  0.000999000999000999\n",
      "X1:  0.3096903096903097\n",
      "X6:  0.01898101898101898\n",
      "X2/7:  0.013986013986013986\n",
      "X2/7:  0.012987012987012988\n",
      "X1:  0.005994005994005994\n",
      "X6:  0.001998001998001998\n",
      "X2/7:  0.022977022977022976\n",
      "X2/7:  0.004995004995004995\n",
      "X1:  0.33166833166833165\n",
      "X6:  0.052947052947052944\n",
      "X2/7:  0.06593406593406594\n",
      "X2/7:  0.004995004995004995\n",
      "X1:  0.07892107892107893\n",
      "X6:  0.000999000999000999\n",
      "X2/7:  0.23776223776223776\n",
      "X2/7:  0.002997002997002997\n",
      "X1:  0.003996003996003996\n",
      "X6:  0.000999000999000999\n",
      "X2/7:  0.15884115884115885\n",
      "X2/7:  0.003996003996003996\n",
      "X1:  0.24575424575424576\n",
      "X6:  0.000999000999000999\n",
      "X2/7:  0.5224775224775224\n",
      "X2/7:  0.00999000999000999\n",
      "X1:  0.008991008991008992\n",
      "X6:  0.000999000999000999\n",
      "X2/7:  0.03896103896103896\n",
      "X2/7:  0.002997002997002997\n",
      "X1:  0.000999000999000999\n",
      "X6:  0.000999000999000999\n",
      "X2/7:  0.01998001998001998\n",
      "X2/7:  0.001998001998001998\n",
      "X1:  0.000999000999000999\n",
      "X6:  0.000999000999000999\n",
      "X2/7:  0.001998001998001998\n",
      "X2/7:  0.000999000999000999\n",
      "X1:  0.000999000999000999\n",
      "X6:  0.000999000999000999\n",
      "X2/7:  0.060939060939060936\n",
      "X2/7:  0.007992007992007992\n",
      "X1:  0.001998001998001998\n",
      "X6:  0.000999000999000999\n",
      "X2/7:  0.1108891108891109\n",
      "X2/7:  0.000999000999000999\n",
      "X1:  0.000999000999000999\n",
      "X6:  0.000999000999000999\n",
      "X2/7:  0.058941058941058944\n",
      "X2/7:  0.006993006993006993\n",
      "X1:  0.000999000999000999\n",
      "X6:  0.000999000999000999\n",
      "X2/7:  0.01898101898101898\n",
      "X2/7:  0.000999000999000999\n",
      "X1:  0.000999000999000999\n",
      "X6:  0.000999000999000999\n",
      "X2/7:  0.07892107892107893\n",
      "X2/7:  0.003996003996003996\n",
      "X1:  0.000999000999000999\n",
      "X6:  0.000999000999000999\n",
      "X2/7:  0.25074925074925075\n",
      "X2/7:  0.06493506493506493\n",
      "X1:  0.000999000999000999\n",
      "X6:  0.000999000999000999\n",
      "X2/7:  0.057942057942057944\n",
      "X2/7:  0.053946053946053944\n",
      "X1:  0.000999000999000999\n",
      "X6:  0.000999000999000999\n",
      "X2/7:  0.2707292707292707\n",
      "X2/7:  0.08291708291708291\n",
      "X1:  0.000999000999000999\n",
      "X6:  0.000999000999000999\n",
      "X2/7:  0.24475524475524477\n",
      "X2/7:  0.006993006993006993\n",
      "X1:  0.000999000999000999\n",
      "X6:  0.000999000999000999\n",
      "X2/7:  0.3066933066933067\n",
      "X2/7:  0.001998001998001998\n",
      "X1:  0.000999000999000999\n",
      "X6:  0.000999000999000999\n",
      "X2/7:  0.04695304695304695\n",
      "X2/7:  0.011988011988011988\n",
      "X1:  0.000999000999000999\n",
      "X6:  0.000999000999000999\n",
      "X2/7:  0.059940059940059943\n",
      "X2/7:  0.000999000999000999\n",
      "X1:  0.000999000999000999\n",
      "X6:  0.000999000999000999\n",
      "X2/7:  0.012987012987012988\n",
      "X2/7:  0.012987012987012988\n",
      "X1:  0.000999000999000999\n",
      "X6:  0.000999000999000999\n",
      "X2/7:  0.23876123876123875\n",
      "X2/7:  0.006993006993006993\n",
      "X1:  0.000999000999000999\n",
      "X6:  0.000999000999000999\n",
      "X2/7:  0.03496503496503497\n",
      "X2/7:  0.0959040959040959\n",
      "X1:  0.000999000999000999\n",
      "X6:  0.000999000999000999\n",
      "X2/7:  0.10589410589410589\n",
      "X2/7:  0.001998001998001998\n",
      "X1:  0.000999000999000999\n",
      "X6:  0.000999000999000999\n",
      "X2/7:  0.2017982017982018\n",
      "X2/7:  0.004995004995004995\n",
      "X1:  0.000999000999000999\n",
      "X6:  0.000999000999000999\n",
      "X2/7:  0.03696303696303696\n",
      "X2/7:  0.000999000999000999\n",
      "X1:  0.000999000999000999\n",
      "X6:  0.000999000999000999\n",
      "X2/7:  0.08891108891108891\n",
      "X2/7:  0.006993006993006993\n",
      "X1:  0.000999000999000999\n",
      "X6:  0.000999000999000999\n",
      "X2/7:  0.11388611388611389\n",
      "X2/7:  0.012987012987012988\n",
      "X1:  0.000999000999000999\n",
      "X6:  0.000999000999000999\n",
      "X2/7:  0.05094905094905095\n",
      "X2/7:  0.000999000999000999\n",
      "X1:  0.000999000999000999\n",
      "X6:  0.000999000999000999\n",
      "X2/7:  0.12887112887112886\n",
      "X2/7:  0.055944055944055944\n",
      "X1:  0.000999000999000999\n",
      "X6:  0.000999000999000999\n",
      "X2/7:  0.03696303696303696\n",
      "X2/7:  0.003996003996003996\n",
      "X1:  0.000999000999000999\n",
      "X6:  0.000999000999000999\n",
      "X2/7:  0.03696303696303696\n",
      "X2/7:  0.001998001998001998\n",
      "X1:  0.000999000999000999\n",
      "X6:  0.000999000999000999\n",
      "X2/7:  0.07192807192807193\n",
      "X2/7:  0.000999000999000999\n",
      "X1:  0.000999000999000999\n",
      "X6:  0.000999000999000999\n",
      "X2/7:  0.04195804195804196\n",
      "X2/7:  0.003996003996003996\n",
      "X1:  0.000999000999000999\n",
      "X6:  0.000999000999000999\n",
      "X2/7:  0.46253746253746253\n",
      "X2/7:  0.14785214785214784\n",
      "X1:  0.000999000999000999\n",
      "X6:  0.000999000999000999\n",
      "X2/7:  0.11288711288711288\n",
      "X2/7:  0.015984015984015984\n",
      "X1:  0.000999000999000999\n",
      "X6:  0.000999000999000999\n",
      "X2/7:  0.06993006993006994\n",
      "X2/7:  0.001998001998001998\n",
      "X1:  0.000999000999000999\n",
      "X6:  0.000999000999000999\n",
      "X2/7:  0.1048951048951049\n",
      "X2/7:  0.001998001998001998\n",
      "X1:  0.000999000999000999\n",
      "X6:  0.000999000999000999\n",
      "X2/7:  0.6963036963036963\n",
      "X2/7:  0.06693306693306693\n",
      "X1:  0.000999000999000999\n",
      "X6:  0.000999000999000999\n",
      "X2/7:  0.003996003996003996\n",
      "X2/7:  0.02097902097902098\n",
      "X1:  0.000999000999000999\n",
      "X6:  0.000999000999000999\n",
      "X2/7:  0.000999000999000999\n",
      "X2/7:  0.11688311688311688\n",
      "X1:  0.000999000999000999\n",
      "X6:  0.000999000999000999\n",
      "X2/7:  0.1878121878121878\n",
      "X2/7:  0.07192807192807193\n"
     ]
    }
   ],
   "source": [
    "pvalue_dict = defaultdict(list)\n",
    "rng = np.random.default_rng(seed)\n",
    "\n",
    "j_space = np.linspace(0.005, 2.25, 9)\n",
    "\n",
    "for sigma_factor in j_space:\n",
    "    for idx in range(5):\n",
    "        new_seed = rng.integers(0, np.iinfo(np.uint32).max, dtype=np.uint32)\n",
    "\n",
    "        elements_dict = linear_model_ancova(\n",
    "            sigma_factor,\n",
    "            new_seed,\n",
    "            permute_per_tree=True,\n",
    "            sample_dataset_per_tree=True,\n",
    "        )\n",
    "        for key, value in elements_dict.items():\n",
    "            pvalue_dict[key].append(value)\n",
    "        pvalue_dict[\"sigma_factor\"].append(sigma_factor)\n",
    "\n",
    "df = pd.DataFrame(pvalue_dict)"
   ]
  },
  {
   "cell_type": "code",
   "execution_count": 8,
   "id": "5f4eb53c-c82d-4770-836a-552b910dd736",
   "metadata": {},
   "outputs": [
    {
     "data": {
      "image/png": "[encoded data removed]",
      "text/plain": [
       "<Figure size 800x600 with 4 Axes>"
      ]
     },
     "metadata": {},
     "output_type": "display_data"
    }
   ],
   "source": [
    "fig, axs = plt.subplots(2, 2, figsize=(8, 6), sharey=True, sharex=True)\n",
    "axs = axs.flatten()\n",
    "\n",
    "for ax, name in zip(axs, [\"X1\", \"X2\", \"X6\", \"X7\"]):\n",
    "    sns.lineplot(data=df, x=\"sigma_factor\", y=name, ax=ax, marker=\"o\")\n",
    "\n",
    "    ax.axhline([0.05], ls=\"--\", color=\"red\", label=\"alpha\")\n",
    "    ax.set(title=name, ylabel=\"pvalue\", xlabel=\"SNR (10 / x)\")\n",
    "    ax.legend()\n",
    "fig.suptitle(\n",
    "    \"Linear ANCOVA model with FeatureImportanceRegressor (Permutation per tree and sample dataset per tree)\"\n",
    ")\n",
    "fig.tight_layout()"
   ]
  },
  {
   "cell_type": "code",
   "execution_count": 9,
   "id": "631649cc-f99f-4ce2-9b42-a4a7d75bd5b1",
   "metadata": {
    "scrolled": true
   },
   "outputs": [
    {
     "name": "stdout",
     "output_type": "stream",
     "text": [
      "X1:  1.0\n",
      "X6:  0.4675324675324675\n",
      "X2/7:  0.935064935064935\n",
      "X2/7:  0.2817182817182817\n",
      "X1:  0.22977022977022976\n",
      "X6:  0.3676323676323676\n",
      "X2/7:  1.0\n",
      "X2/7:  0.28771228771228774\n",
      "X1:  0.968031968031968\n",
      "X6:  0.13786213786213786\n",
      "X2/7:  0.7272727272727273\n",
      "X2/7:  0.059940059940059943\n",
      "X1:  1.0\n",
      "X6:  0.9050949050949051\n",
      "X2/7:  0.99000999000999\n",
      "X2/7:  0.9100899100899101\n",
      "X1:  0.21578421578421578\n",
      "X6:  0.2017982017982018\n",
      "X2/7:  0.0989010989010989\n",
      "X2/7:  0.1998001998001998\n",
      "X1:  1.0\n",
      "X6:  0.03396603396603397\n",
      "X2/7:  0.999000999000999\n",
      "X2/7:  0.8891108891108891\n",
      "X1:  1.0\n",
      "X6:  0.000999000999000999\n",
      "X2/7:  1.0\n",
      "X2/7:  0.994005994005994\n",
      "X1:  0.997002997002997\n",
      "X6:  0.8231768231768232\n",
      "X2/7:  1.0\n",
      "X2/7:  0.5964035964035964\n",
      "X1:  1.0\n",
      "X6:  0.23276723276723277\n",
      "X2/7:  0.993006993006993\n",
      "X2/7:  0.23976023976023977\n",
      "X1:  0.20679320679320679\n",
      "X6:  0.000999000999000999\n",
      "X2/7:  0.999000999000999\n",
      "X2/7:  0.48451548451548454\n",
      "X1:  0.000999000999000999\n",
      "X6:  0.000999000999000999\n",
      "X2/7:  0.942057942057942\n",
      "X2/7:  0.061938061938061936\n",
      "X1:  0.01898101898101898\n",
      "X6:  0.000999000999000999\n",
      "X2/7:  0.951048951048951\n",
      "X2/7:  0.7702297702297702\n",
      "X1:  0.997002997002997\n",
      "X6:  0.000999000999000999\n",
      "X2/7:  0.99000999000999\n",
      "X2/7:  0.7592407592407593\n",
      "X1:  0.004995004995004995\n",
      "X6:  0.000999000999000999\n",
      "X2/7:  0.2967032967032967\n",
      "X2/7:  0.7602397602397603\n",
      "X1:  0.000999000999000999\n",
      "X6:  0.000999000999000999\n",
      "X2/7:  0.25874125874125875\n",
      "X2/7:  0.36363636363636365\n",
      "X1:  0.000999000999000999\n",
      "X6:  0.000999000999000999\n",
      "X2/7:  0.9120879120879121\n",
      "X2/7:  0.995004995004995\n",
      "X1:  0.015984015984015984\n",
      "X6:  0.000999000999000999\n",
      "X2/7:  0.994005994005994\n",
      "X2/7:  0.9530469530469531\n",
      "X1:  0.000999000999000999\n",
      "X6:  0.000999000999000999\n",
      "X2/7:  0.99000999000999\n",
      "X2/7:  0.7102897102897103\n",
      "X1:  0.000999000999000999\n",
      "X6:  0.000999000999000999\n",
      "X2/7:  0.939060939060939\n",
      "X2/7:  0.27372627372627373\n",
      "X1:  0.000999000999000999\n",
      "X6:  0.000999000999000999\n",
      "X2/7:  1.0\n",
      "X2/7:  0.964035964035964\n",
      "X1:  1.0\n",
      "X6:  0.000999000999000999\n",
      "X2/7:  0.975024975024975\n",
      "X2/7:  0.8751248751248751\n",
      "X1:  0.996003996003996\n",
      "X6:  0.000999000999000999\n",
      "X2/7:  0.16983016983016982\n",
      "X2/7:  0.7232767232767233\n",
      "X1:  0.06393606393606394\n",
      "X6:  0.000999000999000999\n",
      "X2/7:  1.0\n",
      "X2/7:  0.16083916083916083\n",
      "X1:  0.000999000999000999\n",
      "X6:  0.000999000999000999\n",
      "X2/7:  0.1008991008991009\n",
      "X2/7:  0.09090909090909091\n",
      "X1:  0.000999000999000999\n",
      "X6:  0.000999000999000999\n",
      "X2/7:  0.974025974025974\n",
      "X2/7:  0.6093906093906094\n",
      "X1:  0.000999000999000999\n",
      "X6:  0.000999000999000999\n",
      "X2/7:  0.006993006993006993\n",
      "X2/7:  0.25374625374625376\n",
      "X1:  0.000999000999000999\n",
      "X6:  0.000999000999000999\n",
      "X2/7:  0.5974025974025974\n",
      "X2/7:  0.42957042957042957\n",
      "X1:  0.000999000999000999\n",
      "X6:  0.000999000999000999\n",
      "X2/7:  0.38161838161838163\n",
      "X2/7:  0.6813186813186813\n",
      "X1:  0.000999000999000999\n",
      "X6:  0.000999000999000999\n",
      "X2/7:  0.000999000999000999\n",
      "X2/7:  0.37962037962037964\n",
      "X1:  0.6493506493506493\n",
      "X6:  0.000999000999000999\n",
      "X2/7:  0.9920079920079921\n",
      "X2/7:  0.6113886113886113\n",
      "X1:  0.000999000999000999\n",
      "X6:  0.000999000999000999\n",
      "X2/7:  0.017982017982017984\n",
      "X2/7:  0.44155844155844154\n",
      "X1:  0.000999000999000999\n",
      "X6:  0.000999000999000999\n",
      "X2/7:  0.999000999000999\n",
      "X2/7:  0.29270729270729273\n",
      "X1:  0.000999000999000999\n",
      "X6:  0.000999000999000999\n",
      "X2/7:  0.5584415584415584\n",
      "X2/7:  0.7912087912087912\n",
      "X1:  0.000999000999000999\n",
      "X6:  0.000999000999000999\n",
      "X2/7:  0.973026973026973\n",
      "X2/7:  0.6403596403596403\n",
      "X1:  0.000999000999000999\n",
      "X6:  0.000999000999000999\n",
      "X2/7:  0.938061938061938\n",
      "X2/7:  0.28471528471528473\n",
      "X1:  0.000999000999000999\n",
      "X6:  0.000999000999000999\n",
      "X2/7:  0.998001998001998\n",
      "X2/7:  0.5994005994005994\n",
      "X1:  0.000999000999000999\n",
      "X6:  0.000999000999000999\n",
      "X2/7:  0.988011988011988\n",
      "X2/7:  0.1888111888111888\n",
      "X1:  0.000999000999000999\n",
      "X6:  0.000999000999000999\n",
      "X2/7:  0.9920079920079921\n",
      "X2/7:  0.37662337662337664\n",
      "X1:  0.000999000999000999\n",
      "X6:  0.000999000999000999\n",
      "X2/7:  1.0\n",
      "X2/7:  0.6543456543456544\n",
      "X1:  0.000999000999000999\n",
      "X6:  0.000999000999000999\n",
      "X2/7:  0.8841158841158842\n",
      "X2/7:  0.4965034965034965\n",
      "X1:  0.000999000999000999\n",
      "X6:  0.000999000999000999\n",
      "X2/7:  1.0\n",
      "X2/7:  0.39760239760239763\n",
      "X1:  0.000999000999000999\n",
      "X6:  0.000999000999000999\n",
      "X2/7:  1.0\n",
      "X2/7:  0.8791208791208791\n",
      "X1:  0.000999000999000999\n",
      "X6:  0.000999000999000999\n",
      "X2/7:  0.016983016983016984\n",
      "X2/7:  0.7702297702297702\n",
      "X1:  0.000999000999000999\n",
      "X6:  0.000999000999000999\n",
      "X2/7:  0.25674325674325676\n",
      "X2/7:  0.5014985014985015\n",
      "X1:  0.000999000999000999\n",
      "X6:  0.000999000999000999\n",
      "X2/7:  0.957042957042957\n",
      "X2/7:  0.1938061938061938\n"
     ]
    }
   ],
   "source": [
    "pvalue_dict = defaultdict(list)\n",
    "rng = np.random.default_rng(seed)\n",
    "\n",
    "j_space = np.linspace(0.005, 2.25, 9)\n",
    "\n",
    "for sigma_factor in j_space:\n",
    "    for idx in range(5):\n",
    "        new_seed = rng.integers(0, np.iinfo(np.uint32).max, dtype=np.uint32)\n",
    "\n",
    "        elements_dict = linear_model_ancova(\n",
    "            sigma_factor,\n",
    "            new_seed,\n",
    "            permute_per_tree=True,\n",
    "            sample_dataset_per_tree=False,\n",
    "        )\n",
    "        for key, value in elements_dict.items():\n",
    "            pvalue_dict[key].append(value)\n",
    "        pvalue_dict[\"sigma_factor\"].append(sigma_factor)\n",
    "\n",
    "df = pd.DataFrame(pvalue_dict)"
   ]
  },
  {
   "cell_type": "code",
   "execution_count": 10,
   "id": "633dda38-68e6-4101-8657-86b75721f92a",
   "metadata": {},
   "outputs": [
    {
     "data": {
      "image/png": "[encoded data removed]",
      "text/plain": [
       "<Figure size 800x600 with 4 Axes>"
      ]
     },
     "metadata": {},
     "output_type": "display_data"
    }
   ],
   "source": [
    "fig, axs = plt.subplots(2, 2, figsize=(8, 6), sharey=True, sharex=True)\n",
    "axs = axs.flatten()\n",
    "\n",
    "for ax, name in zip(axs, [\"X1\", \"X2\", \"X6\", \"X7\"]):\n",
    "    sns.lineplot(data=df, x=\"sigma_factor\", y=name, ax=ax, marker=\"o\")\n",
    "\n",
    "    ax.axhline([0.05], ls=\"--\", color=\"red\", label=\"alpha\")\n",
    "    ax.set(title=name, ylabel=\"pvalue\", xlabel=\"SNR (10 / x)\")\n",
    "    ax.legend()\n",
    "fig.suptitle(\n",
    "    \"Linear ANCOVA model with Coleman Forest (Permute per tree, but not sample separate dataset)\"\n",
    ")\n",
    "fig.tight_layout()"
   ]
  },
  {
   "cell_type": "markdown",
   "id": "74ab24c9-b9fe-4d67-9b04-7125aecb2816",
   "metadata": {},
   "source": [
    "# Run Experiment on Correlated Logit Model"
   ]
  },
  {
   "cell_type": "code",
   "execution_count": 11,
   "id": "36c53ff3-984d-4428-87c1-3421098e0081",
   "metadata": {},
   "outputs": [
    {
     "name": "stdout",
     "output_type": "stream",
     "text": [
      "[0.005    0.285625 0.56625  0.846875 1.1275   1.408125 1.68875  1.969375\n",
      " 2.25    ]\n"
     ]
    }
   ],
   "source": [
    "j_space = np.linspace(0.005, 2.25, 9)\n",
    "print(j_space)"
   ]
  },
  {
   "cell_type": "code",
   "execution_count": 13,
   "id": "a2aed8f0-1230-4128-ad77-d84764c28d0d",
   "metadata": {
    "scrolled": true
   },
   "outputs": [
    {
     "name": "stdout",
     "output_type": "stream",
     "text": [
      "X2:  0.3912175648702595\n",
      "X1:  0.4111776447105788\n",
      "X500:  0.3872255489021956\n",
      "X2:  0.3273453093812375\n",
      "X1:  0.3273453093812375\n",
      "X500:  0.29740518962075846\n",
      "X2:  0.32934131736526945\n",
      "X1:  0.36327345309381237\n",
      "X500:  0.40119760479041916\n",
      "X2:  0.3972055888223553\n",
      "X1:  0.4550898203592814\n",
      "X500:  0.36926147704590817\n",
      "X2:  0.30538922155688625\n",
      "X1:  0.27944111776447106\n",
      "X500:  0.33532934131736525\n",
      "X2:  0.4311377245508982\n",
      "X1:  0.40119760479041916\n",
      "X500:  0.3712574850299401\n",
      "X2:  0.17964071856287425\n",
      "X1:  0.3473053892215569\n",
      "X500:  0.36127744510978044\n",
      "X2:  0.3532934131736527\n",
      "X1:  0.40718562874251496\n",
      "X500:  0.4031936127744511\n",
      "X2:  0.2554890219560878\n",
      "X1:  0.4031936127744511\n",
      "X500:  0.4111776447105788\n",
      "X2:  0.5349301397205589\n",
      "X1:  0.34530938123752497\n",
      "X500:  0.35528942115768464\n",
      "X2:  0.249500998003992\n",
      "X1:  0.3992015968063872\n",
      "X500:  0.3852295409181637\n",
      "X2:  0.05189620758483034\n",
      "X1:  0.3473053892215569\n",
      "X500:  0.33532934131736525\n",
      "X2:  0.0499001996007984\n",
      "X1:  0.3333333333333333\n",
      "X500:  0.4171656686626746\n",
      "X2:  0.003992015968063872\n",
      "X1:  0.4251497005988024\n",
      "X500:  0.36726546906187624\n",
      "X2:  0.05588822355289421\n",
      "X1:  0.3652694610778443\n",
      "X500:  0.4091816367265469\n",
      "X2:  0.07984031936127745\n",
      "X1:  0.38323353293413176\n",
      "X500:  0.3852295409181637\n",
      "X2:  0.001996007984031936\n",
      "X1:  0.40718562874251496\n",
      "X500:  0.4111776447105788\n",
      "X2:  0.017964071856287425\n",
      "X1:  0.3992015968063872\n",
      "X500:  0.3972055888223553\n",
      "X2:  0.0499001996007984\n",
      "X1:  0.32934131736526945\n",
      "X500:  0.3253493013972056\n",
      "X2:  0.07385229540918163\n",
      "X1:  0.3273453093812375\n",
      "X500:  0.32934131736526945\n",
      "X2:  0.003992015968063872\n",
      "X1:  0.34930139720558884\n",
      "X500:  0.3992015968063872\n",
      "X2:  0.08582834331337326\n",
      "X1:  0.3193612774451098\n",
      "X500:  0.35129740518962077\n",
      "X2:  0.3413173652694611\n",
      "X1:  0.36726546906187624\n",
      "X500:  0.3972055888223553\n",
      "X2:  0.001996007984031936\n",
      "X1:  0.313373253493014\n",
      "X500:  0.4111776447105788\n",
      "X2:  0.15169660678642716\n",
      "X1:  0.36127744510978044\n",
      "X500:  0.3592814371257485\n",
      "X2:  0.001996007984031936\n",
      "X1:  0.3273453093812375\n",
      "X500:  0.34930139720558884\n",
      "X2:  0.001996007984031936\n",
      "X1:  0.4171656686626746\n",
      "X500:  0.3313373253493014\n",
      "X2:  0.2275449101796407\n",
      "X1:  0.3852295409181637\n",
      "X500:  0.37524950099800397\n",
      "X2:  0.03792415169660679\n",
      "X1:  0.3253493013972056\n",
      "X500:  0.35528942115768464\n",
      "X2:  0.001996007984031936\n",
      "X1:  0.3532934131736527\n",
      "X500:  0.36327345309381237\n",
      "X2:  0.001996007984031936\n",
      "X1:  0.3852295409181637\n",
      "X500:  0.37325349301397204\n",
      "X2:  0.001996007984031936\n",
      "X1:  0.37325349301397204\n",
      "X500:  0.39520958083832336\n",
      "X2:  0.001996007984031936\n",
      "X1:  0.36327345309381237\n",
      "X500:  0.35129740518962077\n",
      "X2:  0.001996007984031936\n",
      "X1:  0.36327345309381237\n",
      "X500:  0.28542914171656686\n",
      "X2:  0.007984031936127744\n",
      "X1:  0.35528942115768464\n",
      "X500:  0.38323353293413176\n",
      "X2:  0.001996007984031936\n",
      "X1:  0.29141716566866266\n",
      "X500:  0.3333333333333333\n",
      "X2:  0.003992015968063872\n",
      "X1:  0.3393213572854291\n",
      "X500:  0.34331337325349304\n",
      "X2:  0.001996007984031936\n",
      "X1:  0.2694610778443114\n",
      "X500:  0.3073852295409182\n",
      "X2:  0.03592814371257485\n",
      "X1:  0.34331337325349304\n",
      "X500:  0.36327345309381237\n",
      "X2:  0.03592814371257485\n",
      "X1:  0.4111776447105788\n",
      "X500:  0.4251497005988024\n",
      "X2:  0.001996007984031936\n",
      "X1:  0.3213572854291417\n",
      "X500:  0.3253493013972056\n",
      "X2:  0.001996007984031936\n",
      "X1:  0.36726546906187624\n",
      "X500:  0.3532934131736527\n",
      "X2:  0.001996007984031936\n",
      "X1:  0.37325349301397204\n",
      "X500:  0.4231536926147705\n",
      "X2:  0.001996007984031936\n",
      "X1:  0.33532934131736525\n",
      "X500:  0.3473053892215569\n",
      "X2:  0.001996007984031936\n",
      "X1:  0.36926147704590817\n",
      "X500:  0.3313373253493014\n",
      "X2:  0.001996007984031936\n",
      "X1:  0.3712574850299401\n",
      "X500:  0.36926147704590817\n",
      "X2:  0.001996007984031936\n",
      "X1:  0.31736526946107785\n",
      "X500:  0.3473053892215569\n",
      "X2:  0.001996007984031936\n",
      "X1:  0.3253493013972056\n",
      "X500:  0.3313373253493014\n",
      "X2:  0.005988023952095809\n",
      "X1:  0.3812375249500998\n",
      "X500:  0.3992015968063872\n",
      "X2:  0.001996007984031936\n",
      "X1:  0.3592814371257485\n",
      "X500:  0.37924151696606784\n",
      "X2:  0.001996007984031936\n",
      "X1:  0.27345309381237526\n",
      "X500:  0.3592814371257485\n",
      "X2:  0.007984031936127744\n",
      "X1:  0.41317365269461076\n",
      "X500:  0.3772455089820359\n",
      "X2:  0.001996007984031936\n",
      "X1:  0.4411177644710579\n",
      "X500:  0.4530938123752495\n",
      "X2:  0.001996007984031936\n",
      "X1:  0.36127744510978044\n",
      "X500:  0.3333333333333333\n",
      "X2:  0.001996007984031936\n",
      "X1:  0.3473053892215569\n",
      "X500:  0.31736526946107785\n",
      "X2:  0.001996007984031936\n",
      "X1:  0.3333333333333333\n",
      "X500:  0.2874251497005988\n",
      "X2:  0.001996007984031936\n",
      "X1:  0.37924151696606784\n",
      "X500:  0.41317365269461076\n",
      "X2:  0.001996007984031936\n",
      "X1:  0.4091816367265469\n",
      "X500:  0.36127744510978044\n",
      "X2:  0.001996007984031936\n",
      "X1:  0.2994011976047904\n",
      "X500:  0.34530938123752497\n",
      "X2:  0.001996007984031936\n",
      "X1:  0.35129740518962077\n",
      "X500:  0.4251497005988024\n",
      "X2:  0.001996007984031936\n",
      "X1:  0.3592814371257485\n",
      "X500:  0.36327345309381237\n",
      "X2:  0.001996007984031936\n",
      "X1:  0.37325349301397204\n",
      "X500:  0.4091816367265469\n",
      "X2:  0.001996007984031936\n",
      "X1:  0.3712574850299401\n",
      "X500:  0.3852295409181637\n",
      "X2:  0.001996007984031936\n",
      "X1:  0.3712574850299401\n",
      "X500:  0.3592814371257485\n",
      "X2:  0.001996007984031936\n",
      "X1:  0.38323353293413176\n",
      "X500:  0.38323353293413176\n",
      "X2:  0.001996007984031936\n",
      "X1:  0.3812375249500998\n",
      "X500:  0.3532934131736527\n",
      "X2:  0.001996007984031936\n",
      "X1:  0.37325349301397204\n",
      "X500:  0.37325349301397204\n",
      "X2:  0.001996007984031936\n",
      "X1:  0.32934131736526945\n",
      "X500:  0.34530938123752497\n",
      "X2:  0.001996007984031936\n",
      "X1:  0.3313373253493014\n",
      "X500:  0.2954091816367265\n",
      "X2:  0.001996007984031936\n",
      "X1:  0.3253493013972056\n",
      "X500:  0.3532934131736527\n",
      "X2:  0.001996007984031936\n",
      "X1:  0.38922155688622756\n",
      "X500:  0.3812375249500998\n",
      "X2:  0.001996007984031936\n",
      "X1:  0.3852295409181637\n",
      "X500:  0.37325349301397204\n",
      "X2:  0.001996007984031936\n",
      "X1:  0.3193612774451098\n",
      "X500:  0.3253493013972056\n",
      "X2:  0.001996007984031936\n",
      "X1:  0.3532934131736527\n",
      "X500:  0.3812375249500998\n",
      "X2:  0.001996007984031936\n",
      "X1:  0.3972055888223553\n",
      "X500:  0.3273453093812375\n"
     ]
    }
   ],
   "source": [
    "pvalue_dict = defaultdict(list)\n",
    "rng = np.random.default_rng(seed)\n",
    "\n",
    "beta_space = np.hstack((np.linspace(0.01, 2.5, 8), np.linspace(5, 20, 7)))\n",
    "# beta_space = j_space.copy()\n",
    "for beta in beta_space:\n",
    "    for idx in range(5):\n",
    "        new_seed = rng.integers(0, np.iinfo(np.uint32).max, dtype=np.uint32)\n",
    "\n",
    "        elements_dict = correlated_logit_model(\n",
    "            beta, new_seed, permute_per_tree=False, sample_dataset_per_tree=False\n",
    "        )\n",
    "        for key, value in elements_dict.items():\n",
    "            pvalue_dict[key].append(value)\n",
    "        pvalue_dict[\"sigma_factor\"].append(beta)\n",
    "\n",
    "df = pd.DataFrame(pvalue_dict)"
   ]
  },
  {
   "cell_type": "code",
   "execution_count": 14,
   "id": "d3e21945-92b3-4ccc-8f29-b44f67d9cf33",
   "metadata": {},
   "outputs": [
    {
     "name": "stdout",
     "output_type": "stream",
     "text": [
      "done\n"
     ]
    }
   ],
   "source": [
    "print(\"done\")"
   ]
  },
  {
   "cell_type": "code",
   "execution_count": 15,
   "id": "b2bced31-0367-48a8-88e1-0afd6a60173f",
   "metadata": {},
   "outputs": [
    {
     "data": {
      "text/html": [
       "<div>\n",
       "<style scoped>\n",
       "    .dataframe tbody tr th:only-of-type {\n",
       "        vertical-align: middle;\n",
       "    }\n",
       "\n",
       "    .dataframe tbody tr th {\n",
       "        vertical-align: top;\n",
       "    }\n",
       "\n",
       "    .dataframe thead th {\n",
       "        text-align: right;\n",
       "    }\n",
       "</style>\n",
       "<table border=\"1\" class=\"dataframe\">\n",
       "  <thead>\n",
       "    <tr style=\"text-align: right;\">\n",
       "      <th></th>\n",
       "      <th>X2</th>\n",
       "      <th>X1</th>\n",
       "      <th>X500</th>\n",
       "      <th>sigma_factor</th>\n",
       "    </tr>\n",
       "  </thead>\n",
       "  <tbody>\n",
       "    <tr>\n",
       "      <th>0</th>\n",
       "      <td>0.391218</td>\n",
       "      <td>0.411178</td>\n",
       "      <td>0.387226</td>\n",
       "      <td>0.01</td>\n",
       "    </tr>\n",
       "    <tr>\n",
       "      <th>1</th>\n",
       "      <td>0.327345</td>\n",
       "      <td>0.327345</td>\n",
       "      <td>0.297405</td>\n",
       "      <td>0.01</td>\n",
       "    </tr>\n",
       "    <tr>\n",
       "      <th>2</th>\n",
       "      <td>0.329341</td>\n",
       "      <td>0.363273</td>\n",
       "      <td>0.401198</td>\n",
       "      <td>0.01</td>\n",
       "    </tr>\n",
       "    <tr>\n",
       "      <th>3</th>\n",
       "      <td>0.397206</td>\n",
       "      <td>0.455090</td>\n",
       "      <td>0.369261</td>\n",
       "      <td>0.01</td>\n",
       "    </tr>\n",
       "    <tr>\n",
       "      <th>4</th>\n",
       "      <td>0.305389</td>\n",
       "      <td>0.279441</td>\n",
       "      <td>0.335329</td>\n",
       "      <td>0.01</td>\n",
       "    </tr>\n",
       "  </tbody>\n",
       "</table>\n",
       "</div>"
      ],
      "text/plain": [
       "         X2        X1      X500  sigma_factor\n",
       "0  0.391218  0.411178  0.387226          0.01\n",
       "1  0.327345  0.327345  0.297405          0.01\n",
       "2  0.329341  0.363273  0.401198          0.01\n",
       "3  0.397206  0.455090  0.369261          0.01\n",
       "4  0.305389  0.279441  0.335329          0.01"
      ]
     },
     "metadata": {},
     "output_type": "display_data"
    }
   ],
   "source": [
    "display(df.head())"
   ]
  },
  {
   "cell_type": "code",
   "execution_count": 16,
   "id": "c4dbdaf1-9af7-4e6d-83b6-a9cabc18dc91",
   "metadata": {},
   "outputs": [
    {
     "data": {
      "image/png": "[encoded data removed]",
      "text/plain": [
       "<Figure size 800x600 with 3 Axes>"
      ]
     },
     "metadata": {},
     "output_type": "display_data"
    }
   ],
   "source": [
    "fig, axs = plt.subplots(3, 1, figsize=(8, 6), sharey=True, sharex=True)\n",
    "axs = axs.flatten()\n",
    "\n",
    "for ax, name in zip(axs, [\"X1\", \"X2\", \"X500\"]):\n",
    "    sns.lineplot(data=df, x=\"sigma_factor\", y=name, ax=ax, marker=\"o\")\n",
    "\n",
    "    ax.axhline([0.05], ls=\"--\", color=\"red\", label=\"alpha\")\n",
    "    ax.set(title=name, ylabel=\"pvalue\", xlabel=\"SNR (beta)\")\n",
    "    ax.legend()\n",
    "fig.suptitle(\n",
    "    \"Correlated Logit model with FeatureImportanceForestClassifier (OG coleman)\"\n",
    ")\n",
    "fig.tight_layout()"
   ]
  },
  {
   "cell_type": "code",
   "execution_count": 17,
   "id": "44705317-7a08-42bd-bf7b-5c5219fdc5b3",
   "metadata": {
    "scrolled": true
   },
   "outputs": [
    {
     "name": "stdout",
     "output_type": "stream",
     "text": [
      "X2:  0.007984031936127744\n",
      "X1:  0.00998003992015968\n",
      "X500:  0.00998003992015968\n",
      "X2:  0.00998003992015968\n",
      "X1:  0.013972055888223553\n",
      "X500:  0.00998003992015968\n",
      "X2:  0.017964071856287425\n",
      "X1:  0.027944111776447105\n",
      "X500:  0.01996007984031936\n",
      "X2:  0.005988023952095809\n",
      "X1:  0.007984031936127744\n",
      "X500:  0.00998003992015968\n",
      "X2:  0.005988023952095809\n",
      "X1:  0.003992015968063872\n",
      "X500:  0.00998003992015968\n",
      "X2:  0.001996007984031936\n",
      "X1:  0.003992015968063872\n",
      "X500:  0.00998003992015968\n",
      "X2:  0.001996007984031936\n",
      "X1:  0.005988023952095809\n",
      "X500:  0.005988023952095809\n",
      "X2:  0.013972055888223553\n",
      "X1:  0.023952095808383235\n",
      "X500:  0.00998003992015968\n",
      "X2:  0.011976047904191617\n",
      "X1:  0.01996007984031936\n",
      "X500:  0.015968063872255488\n",
      "X2:  0.007984031936127744\n",
      "X1:  0.007984031936127744\n",
      "X500:  0.011976047904191617\n",
      "X2:  0.013972055888223553\n",
      "X1:  0.013972055888223553\n",
      "X500:  0.011976047904191617\n",
      "X2:  0.005988023952095809\n",
      "X1:  0.013972055888223553\n",
      "X500:  0.017964071856287425\n",
      "X2:  0.001996007984031936\n",
      "X1:  0.007984031936127744\n",
      "X500:  0.007984031936127744\n",
      "X2:  0.001996007984031936\n",
      "X1:  0.005988023952095809\n",
      "X500:  0.003992015968063872\n",
      "X2:  0.001996007984031936\n",
      "X1:  0.007984031936127744\n",
      "X500:  0.007984031936127744\n",
      "X2:  0.001996007984031936\n",
      "X1:  0.013972055888223553\n",
      "X500:  0.011976047904191617\n",
      "X2:  0.001996007984031936\n",
      "X1:  0.011976047904191617\n",
      "X500:  0.015968063872255488\n",
      "X2:  0.001996007984031936\n",
      "X1:  0.003992015968063872\n",
      "X500:  0.003992015968063872\n",
      "X2:  0.001996007984031936\n",
      "X1:  0.021956087824351298\n",
      "X500:  0.021956087824351298\n",
      "X2:  0.001996007984031936\n",
      "X1:  0.001996007984031936\n",
      "X500:  0.005988023952095809\n",
      "X2:  0.001996007984031936\n",
      "X1:  0.011976047904191617\n",
      "X500:  0.015968063872255488\n",
      "X2:  0.001996007984031936\n",
      "X1:  0.011976047904191617\n",
      "X500:  0.00998003992015968\n",
      "X2:  0.001996007984031936\n",
      "X1:  0.011976047904191617\n",
      "X500:  0.011976047904191617\n",
      "X2:  0.001996007984031936\n",
      "X1:  0.011976047904191617\n",
      "X500:  0.013972055888223553\n",
      "X2:  0.001996007984031936\n",
      "X1:  0.001996007984031936\n",
      "X500:  0.003992015968063872\n",
      "X2:  0.001996007984031936\n",
      "X1:  0.00998003992015968\n",
      "X500:  0.013972055888223553\n",
      "X2:  0.001996007984031936\n",
      "X1:  0.011976047904191617\n",
      "X500:  0.007984031936127744\n",
      "X2:  0.001996007984031936\n",
      "X1:  0.01996007984031936\n",
      "X500:  0.01996007984031936\n",
      "X2:  0.001996007984031936\n",
      "X1:  0.007984031936127744\n",
      "X500:  0.00998003992015968\n",
      "X2:  0.001996007984031936\n",
      "X1:  0.007984031936127744\n",
      "X500:  0.007984031936127744\n",
      "X2:  0.001996007984031936\n",
      "X1:  0.011976047904191617\n",
      "X500:  0.00998003992015968\n",
      "X2:  0.001996007984031936\n",
      "X1:  0.003992015968063872\n",
      "X500:  0.003992015968063872\n",
      "X2:  0.001996007984031936\n",
      "X1:  0.005988023952095809\n",
      "X500:  0.003992015968063872\n",
      "X2:  0.001996007984031936\n",
      "X1:  0.011976047904191617\n",
      "X500:  0.021956087824351298\n",
      "X2:  0.001996007984031936\n",
      "X1:  0.00998003992015968\n",
      "X500:  0.011976047904191617\n",
      "X2:  0.001996007984031936\n",
      "X1:  0.005988023952095809\n",
      "X500:  0.00998003992015968\n",
      "X2:  0.001996007984031936\n",
      "X1:  0.005988023952095809\n",
      "X500:  0.005988023952095809\n",
      "X2:  0.001996007984031936\n",
      "X1:  0.001996007984031936\n",
      "X500:  0.001996007984031936\n",
      "X2:  0.001996007984031936\n",
      "X1:  0.003992015968063872\n",
      "X500:  0.005988023952095809\n",
      "X2:  0.001996007984031936\n",
      "X1:  0.001996007984031936\n",
      "X500:  0.007984031936127744\n",
      "X2:  0.001996007984031936\n",
      "X1:  0.003992015968063872\n",
      "X500:  0.003992015968063872\n",
      "X2:  0.001996007984031936\n",
      "X1:  0.007984031936127744\n",
      "X500:  0.007984031936127744\n",
      "X2:  0.001996007984031936\n",
      "X1:  0.007984031936127744\n",
      "X500:  0.00998003992015968\n",
      "X2:  0.001996007984031936\n",
      "X1:  0.001996007984031936\n",
      "X500:  0.003992015968063872\n",
      "X2:  0.001996007984031936\n",
      "X1:  0.003992015968063872\n",
      "X500:  0.007984031936127744\n",
      "X2:  0.001996007984031936\n",
      "X1:  0.00998003992015968\n",
      "X500:  0.011976047904191617\n",
      "X2:  0.001996007984031936\n",
      "X1:  0.003992015968063872\n",
      "X500:  0.003992015968063872\n",
      "X2:  0.001996007984031936\n",
      "X1:  0.005988023952095809\n",
      "X500:  0.001996007984031936\n",
      "X2:  0.001996007984031936\n",
      "X1:  0.01996007984031936\n",
      "X500:  0.01996007984031936\n",
      "X2:  0.001996007984031936\n",
      "X1:  0.007984031936127744\n",
      "X500:  0.00998003992015968\n",
      "X2:  0.001996007984031936\n",
      "X1:  0.013972055888223553\n",
      "X500:  0.007984031936127744\n",
      "X2:  0.001996007984031936\n",
      "X1:  0.007984031936127744\n",
      "X500:  0.007984031936127744\n",
      "X2:  0.001996007984031936\n",
      "X1:  0.011976047904191617\n",
      "X500:  0.007984031936127744\n",
      "X2:  0.001996007984031936\n",
      "X1:  0.005988023952095809\n",
      "X500:  0.007984031936127744\n",
      "X2:  0.001996007984031936\n",
      "X1:  0.013972055888223553\n",
      "X500:  0.013972055888223553\n",
      "X2:  0.001996007984031936\n",
      "X1:  0.007984031936127744\n",
      "X500:  0.005988023952095809\n",
      "X2:  0.001996007984031936\n",
      "X1:  0.003992015968063872\n",
      "X500:  0.005988023952095809\n",
      "X2:  0.001996007984031936\n",
      "X1:  0.015968063872255488\n",
      "X500:  0.017964071856287425\n",
      "X2:  0.001996007984031936\n",
      "X1:  0.011976047904191617\n",
      "X500:  0.015968063872255488\n",
      "X2:  0.001996007984031936\n",
      "X1:  0.017964071856287425\n",
      "X500:  0.01996007984031936\n",
      "X2:  0.001996007984031936\n",
      "X1:  0.00998003992015968\n",
      "X500:  0.00998003992015968\n",
      "X2:  0.001996007984031936\n",
      "X1:  0.007984031936127744\n",
      "X500:  0.00998003992015968\n",
      "X2:  0.001996007984031936\n",
      "X1:  0.011976047904191617\n",
      "X500:  0.017964071856287425\n",
      "X2:  0.001996007984031936\n",
      "X1:  0.005988023952095809\n",
      "X500:  0.005988023952095809\n",
      "X2:  0.001996007984031936\n",
      "X1:  0.017964071856287425\n",
      "X500:  0.013972055888223553\n",
      "X2:  0.001996007984031936\n",
      "X1:  0.00998003992015968\n",
      "X500:  0.00998003992015968\n",
      "X2:  0.001996007984031936\n",
      "X1:  0.003992015968063872\n",
      "X500:  0.003992015968063872\n",
      "X2:  0.001996007984031936\n",
      "X1:  0.007984031936127744\n",
      "X500:  0.007984031936127744\n",
      "X2:  0.001996007984031936\n",
      "X1:  0.015968063872255488\n",
      "X500:  0.023952095808383235\n",
      "X2:  0.001996007984031936\n",
      "X1:  0.005988023952095809\n",
      "X500:  0.007984031936127744\n",
      "X2:  0.001996007984031936\n",
      "X1:  0.00998003992015968\n",
      "X500:  0.007984031936127744\n",
      "X2:  0.001996007984031936\n",
      "X1:  0.007984031936127744\n",
      "X500:  0.00998003992015968\n",
      "X2:  0.001996007984031936\n",
      "X1:  0.00998003992015968\n",
      "X500:  0.007984031936127744\n",
      "X2:  0.001996007984031936\n",
      "X1:  0.021956087824351298\n",
      "X500:  0.011976047904191617\n",
      "X2:  0.001996007984031936\n",
      "X1:  0.011976047904191617\n",
      "X500:  0.013972055888223553\n"
     ]
    }
   ],
   "source": [
    "pvalue_dict = defaultdict(list)\n",
    "rng = np.random.default_rng(seed)\n",
    "\n",
    "beta_space = np.hstack((np.linspace(0.01, 2.5, 8), np.linspace(5, 20, 7)))\n",
    "# beta_space = j_space.copy()\n",
    "for beta in beta_space:\n",
    "    for idx in range(5):\n",
    "        new_seed = rng.integers(0, np.iinfo(np.uint32).max, dtype=np.uint32)\n",
    "\n",
    "        elements_dict = correlated_logit_model(\n",
    "            beta, new_seed, permute_per_tree=True, sample_dataset_per_tree=True\n",
    "        )\n",
    "        for key, value in elements_dict.items():\n",
    "            pvalue_dict[key].append(value)\n",
    "        pvalue_dict[\"sigma_factor\"].append(beta)\n",
    "\n",
    "df = pd.DataFrame(pvalue_dict)"
   ]
  },
  {
   "cell_type": "code",
   "execution_count": 18,
   "id": "88ea2cde-1d4b-4e26-9357-a0f128075c03",
   "metadata": {},
   "outputs": [
    {
     "data": {
      "image/png": "[encoded data removed]",
      "text/plain": [
       "<Figure size 800x600 with 3 Axes>"
      ]
     },
     "metadata": {},
     "output_type": "display_data"
    }
   ],
   "source": [
    "fig, axs = plt.subplots(3, 1, figsize=(8, 6), sharey=True, sharex=True)\n",
    "axs = axs.flatten()\n",
    "\n",
    "for ax, name in zip(axs, [\"X1\", \"X2\", \"X500\"]):\n",
    "    sns.lineplot(data=df, x=\"sigma_factor\", y=name, ax=ax, marker=\"o\")\n",
    "\n",
    "    ax.axhline([0.05], ls=\"--\", color=\"red\", label=\"alpha\")\n",
    "    ax.set(title=name, ylabel=\"pvalue\", xlabel=\"SNR (beta)\")\n",
    "    ax.legend()\n",
    "fig.suptitle(\n",
    "    \"Correlated Logit model with FeatureImportanceForestClassifier (permute per tree and sample dataset)\"\n",
    ")\n",
    "fig.tight_layout()"
   ]
  },
  {
   "cell_type": "code",
   "execution_count": 20,
   "id": "9b0e5b58-5569-4a61-92f0-b6ad1db9ab3d",
   "metadata": {
    "scrolled": true
   },
   "outputs": [
    {
     "name": "stdout",
     "output_type": "stream",
     "text": [
      "X2:  0.3912175648702595\n",
      "X1:  0.44510978043912175\n",
      "X500:  0.31137724550898205\n",
      "X2:  0.29141716566866266\n",
      "X1:  0.35528942115768464\n",
      "X500:  0.36726546906187624\n",
      "X2:  0.31137724550898205\n",
      "X1:  0.3393213572854291\n",
      "X500:  0.3972055888223553\n",
      "X2:  0.3812375249500998\n",
      "X1:  0.47105788423153694\n",
      "X500:  0.45708582834331335\n",
      "X2:  0.32934131736526945\n",
      "X1:  0.2834331337325349\n",
      "X500:  0.32934131736526945\n",
      "X2:  0.4091816367265469\n",
      "X1:  0.3932135728542914\n",
      "X500:  0.2754491017964072\n",
      "X2:  0.15768463073852296\n",
      "X1:  0.3592814371257485\n",
      "X500:  0.405189620758483\n",
      "X2:  0.38922155688622756\n",
      "X1:  0.39520958083832336\n",
      "X500:  0.40119760479041916\n",
      "X2:  0.23353293413173654\n",
      "X1:  0.3413173652694611\n",
      "X500:  0.3213572854291417\n",
      "X2:  0.5289421157684631\n",
      "X1:  0.32934131736526945\n",
      "X500:  0.3652694610778443\n",
      "X2:  0.24151696606786427\n",
      "X1:  0.3772455089820359\n",
      "X500:  0.3812375249500998\n",
      "X2:  0.06986027944111776\n",
      "X1:  0.31736526946107785\n",
      "X500:  0.36327345309381237\n",
      "X2:  0.05788423153692615\n",
      "X1:  0.43912175648702595\n",
      "X500:  0.38922155688622756\n",
      "X2:  0.003992015968063872\n",
      "X1:  0.3872255489021956\n",
      "X500:  0.3592814371257485\n",
      "X2:  0.06786427145708583\n",
      "X1:  0.3193612774451098\n",
      "X500:  0.40718562874251496\n",
      "X2:  0.06387225548902195\n",
      "X1:  0.33532934131736525\n",
      "X500:  0.3912175648702595\n",
      "X2:  0.001996007984031936\n",
      "X1:  0.3992015968063872\n",
      "X500:  0.38922155688622756\n",
      "X2:  0.015968063872255488\n",
      "X1:  0.3812375249500998\n",
      "X500:  0.3193612774451098\n",
      "X2:  0.04590818363273453\n",
      "X1:  0.3273453093812375\n",
      "X500:  0.2634730538922156\n",
      "X2:  0.06786427145708583\n",
      "X1:  0.3652694610778443\n",
      "X500:  0.3592814371257485\n",
      "X2:  0.001996007984031936\n",
      "X1:  0.34331337325349304\n",
      "X500:  0.3992015968063872\n",
      "X2:  0.08582834331337326\n",
      "X1:  0.31137724550898205\n",
      "X500:  0.35528942115768464\n",
      "X2:  0.43313373253493015\n",
      "X1:  0.3373253493013972\n",
      "X500:  0.4151696606786427\n",
      "X2:  0.001996007984031936\n",
      "X1:  0.3652694610778443\n",
      "X500:  0.36726546906187624\n",
      "X2:  0.15768463073852296\n",
      "X1:  0.3393213572854291\n",
      "X500:  0.4231536926147705\n",
      "X2:  0.001996007984031936\n",
      "X1:  0.3273453093812375\n",
      "X500:  0.3413173652694611\n",
      "X2:  0.001996007984031936\n",
      "X1:  0.4171656686626746\n",
      "X500:  0.3273453093812375\n",
      "X2:  0.16966067864271456\n",
      "X1:  0.3912175648702595\n",
      "X500:  0.3592814371257485\n",
      "X2:  0.02594810379241517\n",
      "X1:  0.3213572854291417\n",
      "X500:  0.3393213572854291\n",
      "X2:  0.001996007984031936\n",
      "X1:  0.34331337325349304\n",
      "X500:  0.35528942115768464\n",
      "X2:  0.001996007984031936\n",
      "X1:  0.3373253493013972\n",
      "X500:  0.3532934131736527\n",
      "X2:  0.001996007984031936\n",
      "X1:  0.4171656686626746\n",
      "X500:  0.3772455089820359\n",
      "X2:  0.001996007984031936\n",
      "X1:  0.3872255489021956\n",
      "X500:  0.3652694610778443\n",
      "X2:  0.001996007984031936\n",
      "X1:  0.34530938123752497\n",
      "X500:  0.3033932135728543\n",
      "X2:  0.011976047904191617\n",
      "X1:  0.35129740518962077\n",
      "X500:  0.43313373253493015\n",
      "X2:  0.001996007984031936\n",
      "X1:  0.35129740518962077\n",
      "X500:  0.31137724550898205\n",
      "X2:  0.003992015968063872\n",
      "X1:  0.3532934131736527\n",
      "X500:  0.32934131736526945\n",
      "X2:  0.001996007984031936\n",
      "X1:  0.29141716566866266\n",
      "X500:  0.28542914171656686\n",
      "X2:  0.03792415169660679\n",
      "X1:  0.3772455089820359\n",
      "X500:  0.36726546906187624\n",
      "X2:  0.03592814371257485\n",
      "X1:  0.4590818363273453\n",
      "X500:  0.4091816367265469\n",
      "X2:  0.001996007984031936\n",
      "X1:  0.3193612774451098\n",
      "X500:  0.3772455089820359\n",
      "X2:  0.001996007984031936\n",
      "X1:  0.3473053892215569\n",
      "X500:  0.41916167664670656\n",
      "X2:  0.001996007984031936\n",
      "X1:  0.4091816367265469\n",
      "X500:  0.4291417165668663\n",
      "X2:  0.001996007984031936\n",
      "X1:  0.3532934131736527\n",
      "X500:  0.3273453093812375\n",
      "X2:  0.001996007984031936\n",
      "X1:  0.3373253493013972\n",
      "X500:  0.36327345309381237\n",
      "X2:  0.001996007984031936\n",
      "X1:  0.40718562874251496\n",
      "X500:  0.36926147704590817\n",
      "X2:  0.001996007984031936\n",
      "X1:  0.3273453093812375\n",
      "X500:  0.3213572854291417\n",
      "X2:  0.001996007984031936\n",
      "X1:  0.3393213572854291\n",
      "X500:  0.3473053892215569\n",
      "X2:  0.005988023952095809\n",
      "X1:  0.37924151696606784\n",
      "X500:  0.3972055888223553\n",
      "X2:  0.001996007984031936\n",
      "X1:  0.37524950099800397\n",
      "X500:  0.3712574850299401\n",
      "X2:  0.001996007984031936\n",
      "X1:  0.28542914171656686\n",
      "X500:  0.3592814371257485\n",
      "X2:  0.001996007984031936\n",
      "X1:  0.38922155688622756\n",
      "X500:  0.36127744510978044\n",
      "X2:  0.001996007984031936\n",
      "X1:  0.4251497005988024\n",
      "X500:  0.42714570858283435\n",
      "X2:  0.001996007984031936\n",
      "X1:  0.3253493013972056\n",
      "X500:  0.3473053892215569\n",
      "X2:  0.001996007984031936\n",
      "X1:  0.35528942115768464\n",
      "X500:  0.3073852295409182\n",
      "X2:  0.001996007984031936\n",
      "X1:  0.34331337325349304\n",
      "X500:  0.31736526946107785\n",
      "X2:  0.001996007984031936\n",
      "X1:  0.3712574850299401\n",
      "X500:  0.38323353293413176\n",
      "X2:  0.001996007984031936\n",
      "X1:  0.3912175648702595\n",
      "X500:  0.3473053892215569\n",
      "X2:  0.001996007984031936\n",
      "X1:  0.3073852295409182\n",
      "X500:  0.28542914171656686\n",
      "X2:  0.001996007984031936\n",
      "X1:  0.35728542914171657\n",
      "X500:  0.37924151696606784\n",
      "X2:  0.001996007984031936\n",
      "X1:  0.3093812375249501\n",
      "X500:  0.36926147704590817\n",
      "X2:  0.001996007984031936\n",
      "X1:  0.3532934131736527\n",
      "X500:  0.3712574850299401\n",
      "X2:  0.001996007984031936\n",
      "X1:  0.3852295409181637\n",
      "X500:  0.36127744510978044\n",
      "X2:  0.001996007984031936\n",
      "X1:  0.3852295409181637\n",
      "X500:  0.3712574850299401\n",
      "X2:  0.001996007984031936\n",
      "X1:  0.3852295409181637\n",
      "X500:  0.38323353293413176\n",
      "X2:  0.001996007984031936\n",
      "X1:  0.36726546906187624\n",
      "X500:  0.3373253493013972\n",
      "X2:  0.001996007984031936\n",
      "X1:  0.3712574850299401\n",
      "X500:  0.3812375249500998\n",
      "X2:  0.001996007984031936\n",
      "X1:  0.313373253493014\n",
      "X500:  0.3193612774451098\n",
      "X2:  0.001996007984031936\n",
      "X1:  0.34530938123752497\n",
      "X500:  0.29141716566866266\n",
      "X2:  0.001996007984031936\n",
      "X1:  0.3972055888223553\n",
      "X500:  0.34530938123752497\n",
      "X2:  0.001996007984031936\n",
      "X1:  0.3772455089820359\n",
      "X500:  0.40119760479041916\n",
      "X2:  0.001996007984031936\n",
      "X1:  0.3652694610778443\n",
      "X500:  0.3972055888223553\n",
      "X2:  0.001996007984031936\n",
      "X1:  0.35528942115768464\n",
      "X500:  0.34331337325349304\n",
      "X2:  0.001996007984031936\n",
      "X1:  0.3532934131736527\n",
      "X500:  0.3852295409181637\n",
      "X2:  0.001996007984031936\n",
      "X1:  0.4291417165668663\n",
      "X500:  0.3473053892215569\n"
     ]
    }
   ],
   "source": [
    "pvalue_dict = defaultdict(list)\n",
    "rng = np.random.default_rng(seed)\n",
    "\n",
    "beta_space = np.hstack((np.linspace(0.01, 2.5, 8), np.linspace(5, 20, 7)))\n",
    "# beta_space = j_space.copy()\n",
    "for beta in beta_space:\n",
    "    for idx in range(5):\n",
    "        new_seed = rng.integers(0, np.iinfo(np.uint32).max, dtype=np.uint32)\n",
    "\n",
    "        elements_dict = correlated_logit_model(\n",
    "            beta, new_seed, permute_per_tree=True, sample_dataset_per_tree=False\n",
    "        )\n",
    "        for key, value in elements_dict.items():\n",
    "            pvalue_dict[key].append(value)\n",
    "        pvalue_dict[\"sigma_factor\"].append(beta)\n",
    "\n",
    "df = pd.DataFrame(pvalue_dict)"
   ]
  },
  {
   "cell_type": "code",
   "execution_count": 21,
   "id": "34294429-04f3-4b12-baf3-fa6fdc11646f",
   "metadata": {},
   "outputs": [
    {
     "data": {
      "image/png": "[encoded data removed]",
      "text/plain": [
       "<Figure size 800x600 with 3 Axes>"
      ]
     },
     "metadata": {},
     "output_type": "display_data"
    }
   ],
   "source": [
    "fig, axs = plt.subplots(3, 1, figsize=(8, 6), sharey=True, sharex=True)\n",
    "axs = axs.flatten()\n",
    "\n",
    "for ax, name in zip(axs, [\"X1\", \"X2\", \"X500\"]):\n",
    "    sns.lineplot(data=df, x=\"sigma_factor\", y=name, ax=ax, marker=\"o\")\n",
    "\n",
    "    ax.axhline([0.05], ls=\"--\", color=\"red\", label=\"alpha\")\n",
    "    ax.set(title=name, ylabel=\"pvalue\", xlabel=\"SNR (beta)\")\n",
    "    ax.legend()\n",
    "fig.suptitle(\n",
    "    \"Correlated Logit model with Coleman Forest (permute per tree, but not sample dataset per tree)\"\n",
    ")\n",
    "fig.tight_layout()"
   ]
  },
  {
   "cell_type": "markdown",
   "id": "1c50ea7c-fd59-46c1-9408-ac119592f855",
   "metadata": {},
   "source": []
  }
 ],
 "metadata": {
  "kernelspec": {
   "display_name": "sktree",
   "language": "python",
   "name": "sktree"
  },
  "language_info": {
   "codemirror_mode": {
    "name": "ipython",
    "version": 3
   },
   "file_extension": ".py",
   "mimetype": "text/x-python",
   "name": "python",
   "nbconvert_exporter": "python",
   "pygments_lexer": "ipython3",
   "version": "3.9.18"
  }
 },
 "nbformat": 4,
 "nbformat_minor": 5
}
