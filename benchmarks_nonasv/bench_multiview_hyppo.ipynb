{
 "cells": [
  {
   "cell_type": "markdown",
   "id": "c37f540f-444b-4040-9bba-c945e6b65bfb",
   "metadata": {},
   "source": [
    "# Benchmarking Analysis for Multiview Hypothesis Testers\n",
    "\n",
    "Here, we are interested in analyzing the performance of using multi-view trees in the presence\n",
    "of two views of data, when one of the datasets has a significantly greater number of dimensions.\n",
    "\n",
    "For example, in liquid biopsies from cancer patients, we might obtain features describing the\n",
    "fragment lengths of DNA found, or a description of the fragment ends (e.g. what is the ratio of base-pairs\n",
    "found at the end). These might have wildly different dimensionalities like 1000 vs 10,000 if we consider\n",
    "different levels of complexities of each of these biological characteristics.\n",
    "\n",
    "So we want a hypothesis test that is i) aware of the fact that ``X`` is comprised of two feature-sets, and ii)\n",
    "is able to handle wildly different dimensionalities in each of the feature-sets with sufficient power\n",
    "and type-I error rate to provide useful answers to cancer biomarker hypotheses."
   ]
  },
  {
   "cell_type": "code",
   "execution_count": 2,
   "id": "68cf4cc8-098d-4810-ad70-0e4234fef660",
   "metadata": {},
   "outputs": [
    {
     "name": "stderr",
     "output_type": "stream",
     "text": [
      "<frozen importlib._bootstrap>:228: RuntimeWarning: sktree.tree._oblique_splitter.MultiViewSplitter size changed, may indicate binary incompatibility. Expected 2504 from C header, got 2712 from PyObject\n"
     ]
    }
   ],
   "source": [
    "from collections import defaultdict\n",
    "\n",
    "import matplotlib.pyplot as plt\n",
    "import numpy as np\n",
    "import pandas as pd\n",
    "import seaborn as sns\n",
    "from scipy.special import expit\n",
    "\n",
    "from sktree import HonestForestClassifier, RandomForestClassifier, RandomForestRegressor\n",
    "from sktree.stats import (\n",
    "    FeatureImportanceForestClassifier,\n",
    "    FeatureImportanceForestRegressor,\n",
    "    PermutationForestRegressor,\n",
    ")\n",
    "\n",
    "seed = 12345"
   ]
  },
  {
   "cell_type": "markdown",
   "id": "2f20fdbc-8a2e-48b8-a52d-1c4696562e5c",
   "metadata": {},
   "source": [
    "# Simulate data with varying dimensionality\n",
    "\n",
    "Here, we will implement a function to simulate data with a varying number of dimensions in the second view."
   ]
  },
  {
   "cell_type": "code",
   "execution_count": null,
   "id": "20692bea-a3f9-43b1-ab20-dfbc7aa25f03",
   "metadata": {},
   "outputs": [],
   "source": []
  }
 ],
 "metadata": {
  "kernelspec": {
   "display_name": "sktree",
   "language": "python",
   "name": "sktree"
  },
  "language_info": {
   "codemirror_mode": {
    "name": "ipython",
    "version": 3
   },
   "file_extension": ".py",
   "mimetype": "text/x-python",
   "name": "python",
   "nbconvert_exporter": "python",
   "pygments_lexer": "ipython3",
   "version": "3.9.15"
  }
 },
 "nbformat": 4,
 "nbformat_minor": 5
}
