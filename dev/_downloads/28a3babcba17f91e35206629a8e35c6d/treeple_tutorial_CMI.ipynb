{
  "cells": [
    {
      "cell_type": "markdown",
      "metadata": {},
      "source": [
        "\n# Treeple tutorial for calculating CMI\n"
      ]
    },
    {
      "cell_type": "code",
      "execution_count": null,
      "metadata": {
        "collapsed": false
      },
      "outputs": [],
      "source": [
        "import matplotlib.pyplot as plt\nimport numpy as np\nfrom scipy.stats import entropy\n\nfrom sktree.datasets import make_trunk_classification\nfrom sktree.ensemble import HonestForestClassifier\nfrom sktree.stats import build_hyppo_oob_forest\nfrom sktree.tree import MultiViewDecisionTreeClassifier"
      ]
    },
    {
      "cell_type": "markdown",
      "metadata": {},
      "source": [
        "## CMI\n\nConditional mutual information (*CMI*) measures the dependence of *Y* on\n*X* conditioned on *Z*. It can be calculated by the difference between\nthe joint MI (``I([X, Z]; Y)``) and the MI on Z (``I(Y; Z)``):\n\n\\begin{align}I(X; Y | Z) = I([X, Z]; Y) - I(Y; Z)\\end{align}\n\nWith a multiview binary class simulation as an example, this tutorial\nwill show how to use ``treeple`` to calculate the statistic with\nmultiview data.\n\n"
      ]
    },
    {
      "cell_type": "markdown",
      "metadata": {},
      "source": [
        "## Create a simulation with two gaussians\n\n"
      ]
    },
    {
      "cell_type": "code",
      "execution_count": null,
      "metadata": {
        "collapsed": false
      },
      "outputs": [],
      "source": [
        "# create a binary class simulation with two gaussians\n# 500 samples for each class, class zero is standard\n# gaussian, and class one has a mean at one for Z\nZ, y = make_trunk_classification(\n    n_samples=1000,\n    n_dim=1,\n    mu_0=0,\n    mu_1=1,\n    n_informative=1,\n    seed=1,\n)\n\n\nX, y = make_trunk_classification(\n    n_samples=1000,\n    n_dim=1,\n    mu_0=0,\n    mu_1=2,\n    n_informative=1,\n    seed=1,\n)\n\n\n# scatter plot the samples for Z\nplt.hist(Z[:500], bins=15, alpha=0.6, color=\"blue\", label=\"negative\")\nplt.hist(Z[500:], bins=15, alpha=0.6, color=\"red\", label=\"positive\")\nplt.legend()\nplt.show()\n\n\n# scatter plot the samples for X\nplt.hist(X[:500], bins=15, alpha=0.6, color=\"blue\", label=\"negative\")\nplt.hist(X[500:], bins=15, alpha=0.6, color=\"red\", label=\"positive\")\nplt.legend()\nplt.show()"
      ]
    },
    {
      "cell_type": "markdown",
      "metadata": {},
      "source": [
        "## Fit the model with X and Z\n\n"
      ]
    },
    {
      "cell_type": "code",
      "execution_count": null,
      "metadata": {
        "collapsed": false
      },
      "outputs": [],
      "source": [
        "# initialize the forest with 100 trees\nest = HonestForestClassifier(\n    n_estimators=100,\n    max_samples=1.6,\n    max_features=0.3,\n    bootstrap=True,\n    stratify=True,\n    tree_estimator=MultiViewDecisionTreeClassifier(),\n    random_state=1,\n)\n\n# fit the model and obtain the tree posteriors\n_, observe_proba = build_hyppo_oob_forest(est, np.hstack((X, Z)), y)\n\n# generate forest posteriors for the two classes\nobserve_proba = np.nanmean(observe_proba, axis=0)\n\n\n# scatter plot the posterior probabilities for class one\nplt.hist(observe_proba[:500][:, 1], bins=30, alpha=0.6, color=\"blue\", label=\"negative\")\nplt.hist(observe_proba[500:][:, 1], bins=30, alpha=0.6, color=\"red\", label=\"positive\")\nplt.legend()\nplt.show()"
      ]
    },
    {
      "cell_type": "markdown",
      "metadata": {},
      "source": [
        "## Fit the model with Z only\n\n"
      ]
    },
    {
      "cell_type": "code",
      "execution_count": null,
      "metadata": {
        "collapsed": false
      },
      "outputs": [],
      "source": [
        "# initialize the forest with 100 trees\nest = HonestForestClassifier(\n    n_estimators=100,\n    max_samples=1.6,\n    max_features=0.3,\n    bootstrap=True,\n    stratify=True,\n    random_state=1,\n)\n\n# fit the model and obtain the tree posteriors\n_, single_proba = build_hyppo_oob_forest(est, Z, y)\n\n# generate forest posteriors for the two classes\nsingle_proba = np.nanmean(single_proba, axis=0)\n\n\n# scatter plot the posterior probabilities for class one\nplt.hist(single_proba[:500][:, 1], bins=30, alpha=0.6, color=\"blue\", label=\"negative\")\nplt.hist(single_proba[500:][:, 1], bins=30, alpha=0.6, color=\"red\", label=\"positive\")\nplt.legend()\nplt.show()"
      ]
    },
    {
      "cell_type": "markdown",
      "metadata": {},
      "source": [
        "## Calculate the statistic\n\n"
      ]
    },
    {
      "cell_type": "code",
      "execution_count": null,
      "metadata": {
        "collapsed": false
      },
      "outputs": [],
      "source": [
        "def Calculate_MI(y_true, y_pred_proba):\n    # calculate the conditional entropy\n    H_YX = np.mean(entropy(y_pred_proba, base=np.exp(1), axis=1))\n\n    # empirical count of each class (n_classes)\n    _, counts = np.unique(y_true, return_counts=True)\n    # calculate the entropy of labels\n    H_Y = entropy(counts, base=np.exp(1))\n    return H_Y - H_YX\n\n\njoint_mi = Calculate_MI(y, observe_proba)\nmi = Calculate_MI(y, single_proba)\n\nprint(\"CMI =\", round(joint_mi - mi, 2))"
      ]
    }
  ],
  "metadata": {
    "kernelspec": {
      "display_name": "Python 3",
      "language": "python",
      "name": "python3"
    },
    "language_info": {
      "codemirror_mode": {
        "name": "ipython",
        "version": 3
      },
      "file_extension": ".py",
      "mimetype": "text/x-python",
      "name": "python",
      "nbconvert_exporter": "python",
      "pygments_lexer": "ipython3",
      "version": "3.9.19"
    }
  },
  "nbformat": 4,
  "nbformat_minor": 0
}