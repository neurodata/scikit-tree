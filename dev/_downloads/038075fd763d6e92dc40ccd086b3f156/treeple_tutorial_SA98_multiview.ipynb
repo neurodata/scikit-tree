{
  "cells": [
    {
      "cell_type": "markdown",
      "metadata": {},
      "source": [
        "\n# Treeple tutorial for calculating S@98 with multiview data\n"
      ]
    },
    {
      "cell_type": "code",
      "execution_count": null,
      "metadata": {
        "collapsed": false
      },
      "outputs": [],
      "source": [
        "import matplotlib.pyplot as plt\nimport numpy as np\nfrom sklearn.metrics import RocCurveDisplay, roc_curve\n\nfrom sktree.datasets import make_trunk_classification\nfrom sktree.ensemble import HonestForestClassifier\nfrom sktree.stats import build_hyppo_oob_forest\nfrom sktree.tree import MultiViewDecisionTreeClassifier"
      ]
    },
    {
      "cell_type": "markdown",
      "metadata": {},
      "source": [
        "## S@98 with multiview data\n\nSensitivity at 98% specificity (*S@98*) measures, namely, the true\npositive rate (*TPR*) when the false positive rate (*FPR*) is at 98%.\n\nWith a multiview binary class simulation as an example, this tutorial\nwill show how to use ``treeple`` to calculate the statistic with\nmultiview data. For data with a single feature set, you can check out\nthe simpler S@98 tutorial.\n\n"
      ]
    },
    {
      "cell_type": "markdown",
      "metadata": {},
      "source": [
        "## Create a two-dimensional simulation with gaussians\n\n"
      ]
    },
    {
      "cell_type": "code",
      "execution_count": null,
      "metadata": {
        "collapsed": false
      },
      "outputs": [],
      "source": [
        "# create a binary class simulation with two gaussians\n# 500 samples for each class, class zero is standard\n# gaussian, and class one has a mean at one\nX_Z, y = make_trunk_classification(\n    n_samples=1000,\n    n_dim=2,\n    mu_0=0,\n    mu_1=1,\n    n_informative=2,\n    seed=1,\n)\n\nZ = X_Z[:, 0].reshape(-1, 1)\nX = X_Z[:, 1].reshape(-1, 1)\n\n\n# scatter plot the samples for Z\nplt.hist(Z[:500], bins=15, alpha=0.6, color=\"blue\", label=\"negative\")\nplt.hist(Z[500:], bins=15, alpha=0.6, color=\"red\", label=\"positive\")\nplt.legend()\nplt.show()\n\n\n# scatter plot the samples for X\nplt.hist(X[:500], bins=15, alpha=0.6, color=\"blue\", label=\"negative\")\nplt.hist(X[500:], bins=15, alpha=0.6, color=\"red\", label=\"positive\")\nplt.legend()\nplt.show()"
      ]
    },
    {
      "cell_type": "markdown",
      "metadata": {},
      "source": [
        "## Fit the model with X and Z\n\n"
      ]
    },
    {
      "cell_type": "code",
      "execution_count": null,
      "metadata": {
        "collapsed": false
      },
      "outputs": [],
      "source": [
        "# initialize the forest with 100 trees\nest = HonestForestClassifier(\n    n_estimators=100,\n    max_samples=1.6,\n    max_features=0.3,\n    bootstrap=True,\n    stratify=True,\n    tree_estimator=MultiViewDecisionTreeClassifier(),\n    random_state=1,\n)\n\n# fit the model and obtain the tree posteriors\n_, observe_proba = build_hyppo_oob_forest(est, X_Z, y)\n\n# generate forest posteriors for the two classes\nobserve_proba = np.nanmean(observe_proba, axis=0)\n\n\n# scatter plot the posterior probabilities for class one\nplt.hist(observe_proba[:500][:, 1], bins=30, alpha=0.6, color=\"blue\", label=\"negative\")\nplt.hist(observe_proba[500:][:, 1], bins=30, alpha=0.6, color=\"red\", label=\"positive\")\nplt.legend()\nplt.show()"
      ]
    },
    {
      "cell_type": "markdown",
      "metadata": {},
      "source": [
        "## Calculate the statistic\n\n"
      ]
    },
    {
      "cell_type": "code",
      "execution_count": null,
      "metadata": {
        "collapsed": false
      },
      "outputs": [],
      "source": [
        "def Calculate_SA(y_true, y_pred_proba, max_fpr=0.02) -> float:\n    \"\"\"Calculate the sensitivity at a specific specificity\"\"\"\n    # check the shape of true labels\n    if y_true.squeeze().ndim != 1:\n        raise ValueError(f\"y_true must be 1d, not {y_true.shape}\")\n\n    # find the positive class and calculate fpr and tpr\n    if 0 in y_true or -1 in y_true:\n        fpr, tpr, thresholds = roc_curve(\n            y_true, y_pred_proba[:, 1], pos_label=1, drop_intermediate=False\n        )\n    else:\n        fpr, tpr, thresholds = roc_curve(\n            y_true, y_pred_proba[:, 1], pos_label=2, drop_intermediate=False\n        )\n    sa98 = max([tpr for (fpr, tpr) in zip(fpr, tpr) if fpr <= max_fpr])\n    RocCurveDisplay(fpr=fpr, tpr=tpr).plot(label=\"ROC Curve\")\n\n    spec = int((1 - max_fpr) * 100)\n    plt.axvline(\n        x=max_fpr,\n        color=\"r\",\n        ymin=0,\n        ymax=sa98,\n        label=\"S@\" + str(spec) + \" = \" + str(round(sa98, 2)),\n        linestyle=\"--\",\n    )\n    plt.axhline(y=sa98, xmin=0, xmax=max_fpr, color=\"r\", linestyle=\"--\")\n    plt.legend()\n\n    return sa98\n\n\nsa98 = Calculate_SA(y, observe_proba, max_fpr=0.02)"
      ]
    }
  ],
  "metadata": {
    "kernelspec": {
      "display_name": "Python 3",
      "language": "python",
      "name": "python3"
    },
    "language_info": {
      "codemirror_mode": {
        "name": "ipython",
        "version": 3
      },
      "file_extension": ".py",
      "mimetype": "text/x-python",
      "name": "python",
      "nbconvert_exporter": "python",
      "pygments_lexer": "ipython3",
      "version": "3.9.19"
    }
  },
  "nbformat": 4,
  "nbformat_minor": 0
}