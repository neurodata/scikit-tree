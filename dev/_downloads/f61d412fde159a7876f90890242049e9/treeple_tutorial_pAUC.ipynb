{
  "cells": [
    {
      "cell_type": "markdown",
      "metadata": {},
      "source": [
        "\n# Treeple tutorial for calculating pAUC\n"
      ]
    },
    {
      "cell_type": "code",
      "execution_count": null,
      "metadata": {
        "collapsed": false
      },
      "outputs": [],
      "source": [
        "import matplotlib.pyplot as plt\nimport numpy as np\nfrom sklearn.metrics import RocCurveDisplay, roc_auc_score, roc_curve\n\nfrom sktree.datasets import make_trunk_classification\nfrom sktree.ensemble import HonestForestClassifier\nfrom sktree.stats import build_hyppo_oob_forest"
      ]
    },
    {
      "cell_type": "markdown",
      "metadata": {},
      "source": [
        "## pAUC@r\n\nPartial area under the ROC curve (*pAUC*) integrates the true positive\nrates (*TPR*) when the false positive rates (*FPR*) are below a specific\npercentage threshold. Then the value is normalized by that percentage.\n\n\\begin{align}pAUC@r = \\frac{100}{100 - r} \\int_{T_r}^\\infty \\int_{\\mathcal{X}} \\mathbb{I}\\{\\eta(X_1) > \\eta(X_0) \\} dF_1 dF_0\\end{align}\n\nWith a binary class simulation as an example, this tutorial will show\nhow to use ``treeple`` to calculate the statistic with 90% specificity\nthreshold.\n\n"
      ]
    },
    {
      "cell_type": "markdown",
      "metadata": {},
      "source": [
        "## Create a simulation with two gaussians\n\n"
      ]
    },
    {
      "cell_type": "code",
      "execution_count": null,
      "metadata": {
        "collapsed": false
      },
      "outputs": [],
      "source": [
        "# create a binary class simulation with two gaussians\n# 500 samples for each class, class zero is standard\n# gaussian, and class one has a mean at one\nX, y = make_trunk_classification(\n    n_samples=1000,\n    n_dim=1,\n    mu_0=0,\n    mu_1=1,\n    n_informative=1,\n    seed=1,\n)\n\n\n# scatter plot the samples\nplt.hist(X[:500], bins=15, alpha=0.6, color=\"blue\", label=\"negative\")\nplt.hist(X[500:], bins=15, alpha=0.6, color=\"red\", label=\"positive\")\nplt.legend()\nplt.show()"
      ]
    },
    {
      "cell_type": "markdown",
      "metadata": {},
      "source": [
        "## Fit the model\n\n"
      ]
    },
    {
      "cell_type": "code",
      "execution_count": null,
      "metadata": {
        "collapsed": false
      },
      "outputs": [],
      "source": [
        "# initialize the forest with 100 trees\nest = HonestForestClassifier(\n    n_estimators=100,\n    max_samples=1.6,\n    max_features=0.3,\n    bootstrap=True,\n    stratify=True,\n    random_state=1,\n)\n\n# fit the model and obtain the tree posteriors\n_, observe_proba = build_hyppo_oob_forest(est, X, y)\n\n# generate forest posteriors for the two classes\nobserve_proba = np.nanmean(observe_proba, axis=0)\n\n\n# scatter plot the posterior probabilities for class one\nplt.hist(observe_proba[:500][:, 1], bins=30, alpha=0.6, color=\"blue\", label=\"negative\")\nplt.hist(observe_proba[500:][:, 1], bins=30, alpha=0.6, color=\"red\", label=\"positive\")\nplt.legend()\nplt.show()"
      ]
    },
    {
      "cell_type": "markdown",
      "metadata": {},
      "source": [
        "## Calculate the statistic\n\n"
      ]
    },
    {
      "cell_type": "code",
      "execution_count": null,
      "metadata": {
        "collapsed": false
      },
      "outputs": [],
      "source": [
        "def Calculate_pAUC(y_true, y_pred_proba, max_fpr=0.1) -> float:\n    # check the shape of true labels\n    if y_true.squeeze().ndim != 1:\n        raise ValueError(f\"y_true must be 1d, not {y_true.shape}\")\n\n    # find the positive class and calculate fpr and tpr\n    if 0 in y_true or -1 in y_true:\n        fpr, tpr, thresholds = roc_curve(\n            y_true, y_pred_proba[:, 1], pos_label=1, drop_intermediate=False\n        )\n    else:\n        fpr, tpr, thresholds = roc_curve(\n            y_true, y_pred_proba[:, 1], pos_label=2, drop_intermediate=False\n        )\n    RocCurveDisplay(fpr=fpr, tpr=tpr).plot(label=\"ROC Curve\")\n    # Calculate pAUC at the specific threshold\n    pAUC = roc_auc_score(y_true, y_pred_proba[:, 1], max_fpr=max_fpr)\n\n    pos = np.where(fpr == max_fpr)[0][-1]\n    plt.fill_between(\n        fpr[:pos],\n        tpr[:pos],\n        color=\"r\",\n        alpha=0.6,\n        label=\"pAUC@90 = \" + str(round(pAUC, 2)),\n        linestyle=\"--\",\n    )\n    plt.legend()\n    return pAUC\n\n\npAUC = Calculate_pAUC(y, observe_proba)"
      ]
    }
  ],
  "metadata": {
    "kernelspec": {
      "display_name": "Python 3",
      "language": "python",
      "name": "python3"
    },
    "language_info": {
      "codemirror_mode": {
        "name": "ipython",
        "version": 3
      },
      "file_extension": ".py",
      "mimetype": "text/x-python",
      "name": "python",
      "nbconvert_exporter": "python",
      "pygments_lexer": "ipython3",
      "version": "3.9.19"
    }
  },
  "nbformat": 4,
  "nbformat_minor": 0
}