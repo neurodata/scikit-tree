{
 "cells": [
  {
   "cell_type": "markdown",
   "id": "355a421f-926e-4ce6-ba03-b03893f47fed",
   "metadata": {},
   "source": [
    "# Analysis of (Conditional) Mutual Information with Supervised Forests\n",
    "\n",
    "Compared to unsupervised forests, supervised forests are useful for computing direct estimates of entropy based on their abilities to predict probabilities. Moreover, supervised forests lend themselves well to computing (C)MI between discrete and continuous variables (i.e. when Y is categorical but X is continuous for (X, Y) input data).\n",
    "\n",
    "- MI: I(X;Y) = H(Y) - H(Y|X)\n",
    "- CMI: I(X;Y | Z) = H(Y|Z) - H(Y | X, Z)\n",
    "\n",
    "Specifically, we will extend the separated Gaussian simulations of the uncertainty forest paper.\n",
    "\n",
    "$\n",
    "\\begin{align}\n",
    "    I(X; Y | Z) = H(X | Z) - H(X | Y, Z)  \\quad \\text{(Entropy identity)}\\\\\n",
    "    = (H(X, Z) - H(Z)) - (H(X, Z | Y) - H(Z | Y)) \\quad \\text{(By chain rule)} \\\\\n",
    "    = H(X, Z) - H(Z) - H(X, Z | Y) + H(Z | Y)  \\quad \\text{(Simplify)}\n",
    "\\end{align}\n",
    "$\n",
    "\n",
    "Now each quantity is directly computable from $(X \\cup Z) \\sim$ multivariate Gaussian with Y being categorical.\n",
    "\n"
   ]
  },
  {
   "cell_type": "code",
   "execution_count": 1,
   "id": "daa90182-c238-42dc-882b-0f1849461125",
   "metadata": {},
   "outputs": [],
   "source": [
    "%load_ext lab_black"
   ]
  },
  {
   "cell_type": "code",
   "execution_count": 2,
   "id": "c482e3c5-b7f6-4b7a-a81e-e76a1c718206",
   "metadata": {},
   "outputs": [],
   "source": [
    "import numpy as np\n",
    "import scipy\n",
    "import scipy.spatial\n",
    "from tqdm import tqdm\n",
    "\n",
    "from sklearn.neighbors import NearestNeighbors\n",
    "from sktree.neighbors import forest_distance\n",
    "import sktree\n",
    "from sktree.experimental.simulate import (\n",
    "    simulate_helix,\n",
    "    simulate_multivariate_gaussian,\n",
    "    simulate_sphere,\n",
    "    embed_high_dims,\n",
    "    simulate_separate_gaussians,\n",
    "    mi_separated_gaussians,\n",
    "    cmi_separated_gaussians,\n",
    ")\n",
    "from sktree.experimental.ksg import _compute_radius_nbrs, mutual_info_ksg_nn\n",
    "from sktree.experimental.mutual_info import (\n",
    "    entropy_gaussian,\n",
    "    entropy_weibull,\n",
    "    cmi_from_entropy,\n",
    "    mi_from_entropy,\n",
    "    mi_gaussian,\n",
    "    cmi_gaussian,\n",
    "    mi_gamma,\n",
    ")\n",
    "from sktree.experimental import mutual_info_ksg, SupervisedInfoForest\n",
    "from sktree.tree import compute_forest_similarity_matrix, ObliqueDecisionTreeClassifier\n",
    "from sktree import (\n",
    "    UnsupervisedRandomForest,\n",
    "    UnsupervisedObliqueRandomForest,\n",
    "    ObliqueRandomForestClassifier,\n",
    "    ObliqueRandomForestRegressor,\n",
    "    NearestNeighborsMetaEstimator,\n",
    "    HonestForestClassifier,\n",
    ")\n",
    "from sklearn.tree import DecisionTreeClassifier\n",
    "\n",
    "import pandas as pd\n",
    "\n",
    "import matplotlib.pyplot as plt\n",
    "import seaborn as sns"
   ]
  },
  {
   "cell_type": "code",
   "execution_count": 3,
   "id": "a1581502-8980-404a-a672-019ae95b8609",
   "metadata": {},
   "outputs": [],
   "source": [
    "%load_ext autoreload\n",
    "%autoreload 2"
   ]
  },
  {
   "cell_type": "markdown",
   "id": "9ed18c2d-7c0f-44a2-a240-fa7aa7fd9df5",
   "metadata": {},
   "source": [
    "## Define Hyperparameters of the Simulation"
   ]
  },
  {
   "cell_type": "code",
   "execution_count": 4,
   "id": "037d0d4d-5c0d-4f0d-8318-bcf7af194cdf",
   "metadata": {},
   "outputs": [],
   "source": [
    "seed = 12345\n",
    "rng = np.random.default_rng(seed)"
   ]
  },
  {
   "cell_type": "code",
   "execution_count": 5,
   "id": "efddcb34-6007-4312-b7f4-e17a48f3614d",
   "metadata": {},
   "outputs": [],
   "source": [
    "n_jobs = -1\n",
    "n_estimators = 100\n",
    "feature_combinations = 2.0\n",
    "n_nbrs = 5\n",
    "\n",
    "# hyperparameters of the simulation\n",
    "n_samples = 1000\n",
    "n_noise_dims = 20\n",
    "alpha = 0.001\n",
    "n_classes = 2\n",
    "\n",
    "# dimensionality of mvg\n",
    "n_dims = 3\n",
    "\n",
    "# for sphere\n",
    "radius = 1.0\n",
    "\n",
    "# for helix\n",
    "radius_a = 0.0\n",
    "radius_b = 2.0\n",
    "\n",
    "# manifold parameters\n",
    "radii_func = lambda: rng.uniform(0, 1)"
   ]
  },
  {
   "cell_type": "markdown",
   "id": "e20f862e-4a93-4fba-8066-0606fe71b667",
   "metadata": {},
   "source": [
    "## Setup a single simulation\n",
    "\n",
    "Now, to demonstrate what the data would look like fromm a single parameterized simulation, we want to show the entire workflow from data generation to analysis and output value."
   ]
  },
  {
   "cell_type": "code",
   "execution_count": 6,
   "id": "602422ed-7735-4396-8c28-f32a9fdf62a3",
   "metadata": {},
   "outputs": [
    {
     "name": "stdout",
     "output_type": "stream",
     "text": [
      "(1000, 3) (1000,)\n"
     ]
    }
   ],
   "source": [
    "# simulate separated Gaussians\n",
    "# simulate multivariate Gaussian\n",
    "X, y, means, sigmas, pi = simulate_separate_gaussians(\n",
    "    n_dims=n_dims, n_samples=n_samples, n_classes=n_classes, seed=seed\n",
    ")\n",
    "\n",
    "print(X.shape, y.shape)"
   ]
  },
  {
   "cell_type": "code",
   "execution_count": 7,
   "id": "3de9593a-de44-4512-bfe8-f3c489eefd96",
   "metadata": {},
   "outputs": [
    {
     "name": "stdout",
     "output_type": "stream",
     "text": [
      "2 2\n",
      "(3,) [0.5 0.5]\n"
     ]
    }
   ],
   "source": [
    "print(len(means), len(sigmas))\n",
    "print(means[0].shape, pi)"
   ]
  },
  {
   "cell_type": "code",
   "execution_count": 8,
   "id": "6d4b5d32-fce7-4198-95d1-ceb01400456b",
   "metadata": {},
   "outputs": [
    {
     "name": "stdout",
     "output_type": "stream",
     "text": [
      "[array([[1., 0., 0.],\n",
      "       [0., 1., 0.],\n",
      "       [0., 0., 1.]]), array([[1., 0., 0.],\n",
      "       [0., 1., 0.],\n",
      "       [0., 0., 1.]])]\n"
     ]
    }
   ],
   "source": [
    "print(sigmas)"
   ]
  },
  {
   "cell_type": "code",
   "execution_count": 9,
   "id": "84c17ab8-6e7d-478c-8e9c-757bf1a2c527",
   "metadata": {
    "tags": []
   },
   "outputs": [],
   "source": [
    "# compute ground-truth MI/CMI\n",
    "# I(X;Y)\n",
    "# I(X;Y |Z)\n",
    "\n",
    "# true MI and CMI\n",
    "true_mi = mi_separated_gaussians(means, sigmas, pi, seed=seed)"
   ]
  },
  {
   "cell_type": "code",
   "execution_count": 10,
   "id": "ee0fa67d-aac1-4e20-b153-0fb51d8b16b9",
   "metadata": {},
   "outputs": [
    {
     "name": "stdout",
     "output_type": "stream",
     "text": [
      "4.351104834412363 2.8469010556693393 4.2568155996140185 2.8378770664093453\n"
     ]
    }
   ],
   "source": [
    "true_cmi = cmi_separated_gaussians(means, sigmas, pi, condition_idx=[1, 2], seed=seed)"
   ]
  },
  {
   "cell_type": "code",
   "execution_count": 11,
   "id": "dee49368-27f5-4f33-a9ce-525483e2abba",
   "metadata": {},
   "outputs": [
    {
     "name": "stdout",
     "output_type": "stream",
     "text": [
      "[(2, 2), (2, 2)]\n"
     ]
    }
   ],
   "source": [
    "condition_idx = [1, 2]\n",
    "z_sigmas = [sigma[np.ix_(condition_idx, condition_idx)] for sigma in sigmas]\n",
    "print([sigma.shape for sigma in z_sigmas])"
   ]
  },
  {
   "cell_type": "code",
   "execution_count": 12,
   "id": "fb21dfe6-4cec-4aa2-ba1b-4e1d760a1f93",
   "metadata": {},
   "outputs": [
    {
     "name": "stdout",
     "output_type": "stream",
     "text": [
      "0.09428923479834417\n",
      "0.08526524553835024\n"
     ]
    }
   ],
   "source": [
    "print(true_mi)\n",
    "print(true_cmi)"
   ]
  },
  {
   "cell_type": "code",
   "execution_count": 13,
   "id": "bf304453-a772-4148-a41a-f3e9de322b0a",
   "metadata": {},
   "outputs": [
    {
     "name": "stdout",
     "output_type": "stream",
     "text": [
      "(1000, 3) (1000,) (1000, 21) (1000, 21)\n"
     ]
    }
   ],
   "source": [
    "_X = embed_high_dims(X[:, [1]], n_dims=n_noise_dims, random_state=seed)\n",
    "_Z = embed_high_dims(X[:, [2]], n_dims=n_noise_dims, random_state=seed)\n",
    "highdim_X = np.hstack((_X, _Z))\n",
    "\n",
    "print(X.shape, y.shape, _X.shape, _Z.shape)"
   ]
  },
  {
   "cell_type": "markdown",
   "id": "b9a79406-10cb-4a72-a016-109a2a752eac",
   "metadata": {},
   "source": [
    "# Setup SupervisedInfoForest\n",
    "\n",
    "The info forest object is just a meta-estimator that I wrote to expose the sklearn API for computing MI/CMI. It proceeds by fitting multiple forests."
   ]
  },
  {
   "cell_type": "code",
   "execution_count": 17,
   "id": "c6e3014d-ace3-41c2-9f30-cf2015737e4a",
   "metadata": {},
   "outputs": [],
   "source": [
    "tree_estimator = ObliqueDecisionTreeClassifier(\n",
    "    feature_combinations=feature_combinations,\n",
    "    random_state=seed,\n",
    ")\n",
    "tree_estimator = DecisionTreeClassifier(\n",
    "    # feature_combinations=feature_combinations,\n",
    "    random_state=seed,\n",
    ")\n",
    "\n",
    "estimator = HonestForestClassifier(\n",
    "    n_estimators=n_estimators,\n",
    "    n_jobs=n_jobs,\n",
    "    random_state=seed,\n",
    "    tree_estimator=tree_estimator,\n",
    ")\n",
    "est = SupervisedInfoForest(\n",
    "    estimator=estimator, y_categorical=True, n_jobs=n_jobs, random_state=seed\n",
    ")"
   ]
  },
  {
   "cell_type": "code",
   "execution_count": 18,
   "id": "e5e5d360-6007-4997-83dc-ff4bb425ab8e",
   "metadata": {},
   "outputs": [
    {
     "ename": "NotFittedError",
     "evalue": "This HonestTreeClassifier instance is not fitted yet. Call 'fit' with appropriate arguments before using this estimator.",
     "output_type": "error",
     "traceback": [
      "\u001b[0;31m---------------------------------------------------------------------------\u001b[0m",
      "\u001b[0;31mNotFittedError\u001b[0m                            Traceback (most recent call last)",
      "\u001b[0;32m/var/folders/6_/sl83qtkd68x3_mvfys07_6qm0000gn/T/ipykernel_29276/2854228724.py\u001b[0m in \u001b[0;36m<cell line: 1>\u001b[0;34m()\u001b[0m\n\u001b[0;32m----> 1\u001b[0;31m \u001b[0mpred_cmi\u001b[0m \u001b[0;34m=\u001b[0m \u001b[0mest\u001b[0m\u001b[0;34m.\u001b[0m\u001b[0mpredict_cmi\u001b[0m\u001b[0;34m(\u001b[0m\u001b[0m_X\u001b[0m\u001b[0;34m,\u001b[0m \u001b[0my\u001b[0m\u001b[0;34m,\u001b[0m \u001b[0m_Z\u001b[0m\u001b[0;34m)\u001b[0m\u001b[0;34m\u001b[0m\u001b[0;34m\u001b[0m\u001b[0m\n\u001b[0m",
      "\u001b[0;32m~/Documents/scikit-tree/sktree/experimental/forest.py\u001b[0m in \u001b[0;36mpredict_cmi\u001b[0;34m(self, X, y, Z)\u001b[0m\n\u001b[1;32m     87\u001b[0m \u001b[0;34m\u001b[0m\u001b[0m\n\u001b[1;32m     88\u001b[0m         \u001b[0;31m# compute the entropy of H(Y | X, Z)\u001b[0m\u001b[0;34m\u001b[0m\u001b[0;34m\u001b[0m\u001b[0m\n\u001b[0;32m---> 89\u001b[0;31m         H_yxz = cond_entropy(\n\u001b[0m\u001b[1;32m     90\u001b[0m             \u001b[0mself\u001b[0m\u001b[0;34m.\u001b[0m\u001b[0mestimator_yxz_\u001b[0m\u001b[0;34m,\u001b[0m \u001b[0mXZ\u001b[0m\u001b[0;34m,\u001b[0m \u001b[0my\u001b[0m\u001b[0;34m,\u001b[0m \u001b[0msample_indices\u001b[0m\u001b[0;34m,\u001b[0m \u001b[0mkappa\u001b[0m\u001b[0;34m=\u001b[0m\u001b[0;36m3\u001b[0m\u001b[0;34m,\u001b[0m \u001b[0mseed\u001b[0m\u001b[0;34m=\u001b[0m\u001b[0mself\u001b[0m\u001b[0;34m.\u001b[0m\u001b[0mrandom_state\u001b[0m\u001b[0;34m\u001b[0m\u001b[0;34m\u001b[0m\u001b[0m\n\u001b[1;32m     91\u001b[0m         )\n",
      "\u001b[0;32m~/Documents/scikit-tree/sktree/experimental/forest.py\u001b[0m in \u001b[0;36mcond_entropy\u001b[0;34m(est, X, y, estimators_samples_, kappa, seed)\u001b[0m\n\u001b[1;32m    158\u001b[0m \u001b[0;34m\u001b[0m\u001b[0m\n\u001b[1;32m    159\u001b[0m     \u001b[0;31m# get leaves of each tree for each sample (n_samples, n_estimators)\u001b[0m\u001b[0;34m\u001b[0m\u001b[0;34m\u001b[0m\u001b[0m\n\u001b[0;32m--> 160\u001b[0;31m     \u001b[0mX_leaves\u001b[0m \u001b[0;34m=\u001b[0m \u001b[0mest\u001b[0m\u001b[0;34m.\u001b[0m\u001b[0mapply\u001b[0m\u001b[0;34m(\u001b[0m\u001b[0mX\u001b[0m\u001b[0;34m)\u001b[0m\u001b[0;34m\u001b[0m\u001b[0;34m\u001b[0m\u001b[0m\n\u001b[0m\u001b[1;32m    161\u001b[0m     \u001b[0mn_classes\u001b[0m \u001b[0;34m=\u001b[0m \u001b[0mest\u001b[0m\u001b[0;34m.\u001b[0m\u001b[0mn_classes_\u001b[0m\u001b[0;34m\u001b[0m\u001b[0;34m\u001b[0m\u001b[0m\n\u001b[1;32m    162\u001b[0m     \u001b[0mn_samples\u001b[0m \u001b[0;34m=\u001b[0m \u001b[0mX\u001b[0m\u001b[0;34m.\u001b[0m\u001b[0mshape\u001b[0m\u001b[0;34m[\u001b[0m\u001b[0;36m0\u001b[0m\u001b[0;34m]\u001b[0m\u001b[0;34m\u001b[0m\u001b[0;34m\u001b[0m\u001b[0m\n",
      "\u001b[0;32m~/Documents/scikit-tree/sktree/ensemble/_honest_forest.py\u001b[0m in \u001b[0;36mapply\u001b[0;34m(self, X)\u001b[0m\n\u001b[1;32m    504\u001b[0m             \u001b[0;32mreturn\u001b[0m \u001b[0mthe\u001b[0m \u001b[0mindex\u001b[0m \u001b[0mof\u001b[0m \u001b[0mthe\u001b[0m \u001b[0mleaf\u001b[0m \u001b[0mx\u001b[0m \u001b[0mends\u001b[0m \u001b[0mup\u001b[0m \u001b[0;32min\u001b[0m\u001b[0;34m.\u001b[0m\u001b[0;34m\u001b[0m\u001b[0;34m\u001b[0m\u001b[0m\n\u001b[1;32m    505\u001b[0m         \"\"\"\n\u001b[0;32m--> 506\u001b[0;31m         \u001b[0;32mreturn\u001b[0m \u001b[0mself\u001b[0m\u001b[0;34m.\u001b[0m\u001b[0mestimator_\u001b[0m\u001b[0;34m.\u001b[0m\u001b[0mapply\u001b[0m\u001b[0;34m(\u001b[0m\u001b[0mX\u001b[0m\u001b[0;34m)\u001b[0m\u001b[0;34m\u001b[0m\u001b[0;34m\u001b[0m\u001b[0m\n\u001b[0m\u001b[1;32m    507\u001b[0m \u001b[0;34m\u001b[0m\u001b[0m\n\u001b[1;32m    508\u001b[0m     \u001b[0;32mdef\u001b[0m \u001b[0mdecision_path\u001b[0m\u001b[0;34m(\u001b[0m\u001b[0mself\u001b[0m\u001b[0;34m,\u001b[0m \u001b[0mX\u001b[0m\u001b[0;34m)\u001b[0m\u001b[0;34m:\u001b[0m\u001b[0;34m\u001b[0m\u001b[0;34m\u001b[0m\u001b[0m\n",
      "\u001b[0;32m~/Documents/scikit-tree/sktree/_lib/./sklearn/tree/_classes.py\u001b[0m in \u001b[0;36mapply\u001b[0;34m(self, X, check_input)\u001b[0m\n\u001b[1;32m    743\u001b[0m             \u001b[0mnumbering\u001b[0m\u001b[0;34m.\u001b[0m\u001b[0;34m\u001b[0m\u001b[0;34m\u001b[0m\u001b[0m\n\u001b[1;32m    744\u001b[0m         \"\"\"\n\u001b[0;32m--> 745\u001b[0;31m         \u001b[0mcheck_is_fitted\u001b[0m\u001b[0;34m(\u001b[0m\u001b[0mself\u001b[0m\u001b[0;34m)\u001b[0m\u001b[0;34m\u001b[0m\u001b[0;34m\u001b[0m\u001b[0m\n\u001b[0m\u001b[1;32m    746\u001b[0m         \u001b[0mX\u001b[0m \u001b[0;34m=\u001b[0m \u001b[0mself\u001b[0m\u001b[0;34m.\u001b[0m\u001b[0m_validate_X_predict\u001b[0m\u001b[0;34m(\u001b[0m\u001b[0mX\u001b[0m\u001b[0;34m,\u001b[0m \u001b[0mcheck_input\u001b[0m\u001b[0;34m)\u001b[0m\u001b[0;34m\u001b[0m\u001b[0;34m\u001b[0m\u001b[0m\n\u001b[1;32m    747\u001b[0m         \u001b[0;32mreturn\u001b[0m \u001b[0mself\u001b[0m\u001b[0;34m.\u001b[0m\u001b[0mtree_\u001b[0m\u001b[0;34m.\u001b[0m\u001b[0mapply\u001b[0m\u001b[0;34m(\u001b[0m\u001b[0mX\u001b[0m\u001b[0;34m)\u001b[0m\u001b[0;34m\u001b[0m\u001b[0;34m\u001b[0m\u001b[0m\n",
      "\u001b[0;32m~/miniforge3/envs/sktree/lib/python3.9/site-packages/sklearn/utils/validation.py\u001b[0m in \u001b[0;36mcheck_is_fitted\u001b[0;34m(estimator, attributes, msg, all_or_any)\u001b[0m\n\u001b[1;32m   1438\u001b[0m \u001b[0;34m\u001b[0m\u001b[0m\n\u001b[1;32m   1439\u001b[0m     \u001b[0;32mif\u001b[0m \u001b[0;32mnot\u001b[0m \u001b[0mfitted\u001b[0m\u001b[0;34m:\u001b[0m\u001b[0;34m\u001b[0m\u001b[0;34m\u001b[0m\u001b[0m\n\u001b[0;32m-> 1440\u001b[0;31m         \u001b[0;32mraise\u001b[0m \u001b[0mNotFittedError\u001b[0m\u001b[0;34m(\u001b[0m\u001b[0mmsg\u001b[0m \u001b[0;34m%\u001b[0m \u001b[0;34m{\u001b[0m\u001b[0;34m\"name\"\u001b[0m\u001b[0;34m:\u001b[0m \u001b[0mtype\u001b[0m\u001b[0;34m(\u001b[0m\u001b[0mestimator\u001b[0m\u001b[0;34m)\u001b[0m\u001b[0;34m.\u001b[0m\u001b[0m__name__\u001b[0m\u001b[0;34m}\u001b[0m\u001b[0;34m)\u001b[0m\u001b[0;34m\u001b[0m\u001b[0;34m\u001b[0m\u001b[0m\n\u001b[0m\u001b[1;32m   1441\u001b[0m \u001b[0;34m\u001b[0m\u001b[0m\n\u001b[1;32m   1442\u001b[0m \u001b[0;34m\u001b[0m\u001b[0m\n",
      "\u001b[0;31mNotFittedError\u001b[0m: This HonestTreeClassifier instance is not fitted yet. Call 'fit' with appropriate arguments before using this estimator."
     ]
    }
   ],
   "source": [
    "pred_cmi = est.predict_cmi(_X, y, _Z)"
   ]
  },
  {
   "cell_type": "code",
   "execution_count": null,
   "id": "726a83f2-5084-4958-9d01-71e2c3e86ebb",
   "metadata": {},
   "outputs": [],
   "source": [
    "pred_mi = est.predict_cmi(_X, y)"
   ]
  },
  {
   "cell_type": "code",
   "execution_count": null,
   "id": "18b82f0f-5842-4f2d-8239-1a0e4067c282",
   "metadata": {},
   "outputs": [],
   "source": [
    "print(pred_cmi, pred_mi)"
   ]
  },
  {
   "cell_type": "code",
   "execution_count": 69,
   "id": "c299a578-1984-4030-a34d-eb3219edd4be",
   "metadata": {},
   "outputs": [
    {
     "name": "stdout",
     "output_type": "stream",
     "text": [
      "-0.009832259764467277 -0.19976608189849127\n"
     ]
    }
   ],
   "source": [
    "print(pred_cmi, pred_mi)"
   ]
  },
  {
   "cell_type": "code",
   "execution_count": 62,
   "id": "7ab5065a-f606-4281-9631-15b1c460e048",
   "metadata": {},
   "outputs": [
    {
     "name": "stdout",
     "output_type": "stream",
     "text": [
      "-0.006589316434129411 -0.19854781628986418\n"
     ]
    }
   ],
   "source": [
    "print(pred_cmi, pred_mi)"
   ]
  },
  {
   "cell_type": "markdown",
   "id": "63a9f1b5-fee5-416b-823b-c3781fa7a2d4",
   "metadata": {},
   "source": [
    "# Analysis of dimensionality "
   ]
  },
  {
   "cell_type": "code",
   "execution_count": null,
   "id": "842ccb8a-c25a-4d2d-93e4-ea70687a3bba",
   "metadata": {},
   "outputs": [],
   "source": []
  },
  {
   "cell_type": "code",
   "execution_count": null,
   "id": "5e50fca6-a6ac-42ee-9b27-78e3b0552350",
   "metadata": {},
   "outputs": [],
   "source": []
  },
  {
   "cell_type": "code",
   "execution_count": null,
   "id": "d03d7125-9378-4058-957c-f79f59c38fc4",
   "metadata": {},
   "outputs": [],
   "source": []
  }
 ],
 "metadata": {
  "kernelspec": {
   "display_name": "sktree",
   "language": "python",
   "name": "sktree"
  },
  "language_info": {
   "codemirror_mode": {
    "name": "ipython",
    "version": 3
   },
   "file_extension": ".py",
   "mimetype": "text/x-python",
   "name": "python",
   "nbconvert_exporter": "python",
   "pygments_lexer": "ipython3",
   "version": "3.9.15"
  }
 },
 "nbformat": 4,
 "nbformat_minor": 5
}
