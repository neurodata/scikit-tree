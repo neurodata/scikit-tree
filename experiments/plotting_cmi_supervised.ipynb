{
 "cells": [
  {
   "cell_type": "markdown",
   "id": "355a421f-926e-4ce6-ba03-b03893f47fed",
   "metadata": {},
   "source": [
    "# Analysis of (Conditional) Mutual Information with Supervised Forests\n",
    "\n",
    "Compared to unsupervised forests, supervised forests are useful for computing direct estimates of entropy based on their abilities to predict probabilities. Moreover, supervised forests lend themselves well to computing (C)MI between discrete and continuous variables (i.e. when Y is categorical but X is continuous for (X, Y) input data).\n",
    "\n",
    "- MI: I(X;Y) = H(Y) - H(Y|X)\n",
    "- CMI: I(X;Y | Z) = H(Y|Z) - H(Y | X, Z)\n",
    "\n",
    "Specifically, we will extend the separated Gaussian simulations of the uncertainty forest paper.\n",
    "\n",
    "$\n",
    "\\begin{align}\n",
    "    I(X; Y | Z) = H(X | Z) - H(X | Y, Z)  \\quad \\text{(Entropy identity)}\\\\\n",
    "    = (H(X, Z) - H(Z)) - (H(X, Z | Y) - H(Z | Y)) \\quad \\text{(By chain rule)} \\\\\n",
    "    = H(X, Z) - H(Z) - H(X, Z | Y) + H(Z | Y)  \\quad \\text{(Simplify)}\n",
    "\\end{align}\n",
    "$\n",
    "\n",
    "Now each quantity is directly computable from $(X \\cup Z) \\sim$ multivariate Gaussian with Y being categorical.\n",
    "\n"
   ]
  },
  {
   "cell_type": "code",
   "execution_count": 3,
   "id": "daa90182-c238-42dc-882b-0f1849461125",
   "metadata": {},
   "outputs": [
    {
     "name": "stdout",
     "output_type": "stream",
     "text": [
      "The lab_black extension is already loaded. To reload it, use:\n",
      "  %reload_ext lab_black\n"
     ]
    }
   ],
   "source": [
    "%load_ext lab_black\n",
    "%load_ext autoreload\n",
    "%autoreload 2"
   ]
  },
  {
   "cell_type": "code",
   "execution_count": 22,
   "id": "c482e3c5-b7f6-4b7a-a81e-e76a1c718206",
   "metadata": {},
   "outputs": [],
   "source": [
    "import matplotlib.pyplot as plt\n",
    "import numpy as np\n",
    "import pandas as pd\n",
    "import scipy\n",
    "import scipy.spatial\n",
    "import seaborn as sns\n",
    "from sklearn.neighbors import NearestNeighbors\n",
    "from sklearn.tree import DecisionTreeClassifier\n",
    "from sklearn.utils.validation import check_is_fitted\n",
    "from tqdm import tqdm\n",
    "\n",
    "import sktree\n",
    "from sktree import (\n",
    "    HonestForestClassifier,\n",
    "    NearestNeighborsMetaEstimator,\n",
    "    ObliqueRandomForestClassifier,\n",
    "    ObliqueRandomForestRegressor,\n",
    "    UnsupervisedObliqueRandomForest,\n",
    "    UnsupervisedRandomForest,\n",
    ")\n",
    "from sktree.experimental import SupervisedInfoForest, mutual_info_ksg\n",
    "from sktree.experimental.ksg import _compute_radius_nbrs, mutual_info_ksg_nn\n",
    "from sktree.experimental.mutual_info import (\n",
    "    cmi_from_entropy,\n",
    "    cmi_gaussian,\n",
    "    entropy_gaussian,\n",
    "    entropy_weibull,\n",
    "    mi_from_entropy,\n",
    "    mi_gamma,\n",
    "    mi_gaussian,\n",
    ")\n",
    "from sktree.experimental.simulate import (\n",
    "    cmi_separated_gaussians,\n",
    "    embed_high_dims,\n",
    "    mi_separated_gaussians,\n",
    "    simulate_helix,\n",
    "    simulate_multivariate_gaussian,\n",
    "    simulate_separate_gaussians,\n",
    "    simulate_sphere,\n",
    ")\n",
    "from sktree.neighbors import forest_distance\n",
    "from sktree.tree import ObliqueDecisionTreeClassifier, compute_forest_similarity_matrix"
   ]
  },
  {
   "cell_type": "markdown",
   "id": "9ed18c2d-7c0f-44a2-a240-fa7aa7fd9df5",
   "metadata": {},
   "source": [
    "## Define Hyperparameters of the Simulation"
   ]
  },
  {
   "cell_type": "code",
   "execution_count": 6,
   "id": "037d0d4d-5c0d-4f0d-8318-bcf7af194cdf",
   "metadata": {},
   "outputs": [],
   "source": [
    "seed = 12345\n",
    "rng = np.random.default_rng(seed)"
   ]
  },
  {
   "cell_type": "code",
   "execution_count": 7,
   "id": "efddcb34-6007-4312-b7f4-e17a48f3614d",
   "metadata": {},
   "outputs": [],
   "source": [
    "n_jobs = -1\n",
    "n_estimators = 100\n",
    "feature_combinations = 2.0\n",
    "n_nbrs = 5\n",
    "\n",
    "# hyperparameters of the simulation\n",
    "n_samples = 1000\n",
    "n_noise_dims = 20\n",
    "alpha = 0.001\n",
    "n_classes = 2\n",
    "\n",
    "# dimensionality of mvg\n",
    "n_dims = 3\n",
    "\n",
    "# for sphere\n",
    "radius = 1.0\n",
    "\n",
    "# for helix\n",
    "radius_a = 0.0\n",
    "radius_b = 2.0\n",
    "\n",
    "# manifold parameters\n",
    "radii_func = lambda: rng.uniform(0, 1)"
   ]
  },
  {
   "cell_type": "markdown",
   "id": "e20f862e-4a93-4fba-8066-0606fe71b667",
   "metadata": {},
   "source": [
    "## Setup a single simulation\n",
    "\n",
    "Now, to demonstrate what the data would look like fromm a single parameterized simulation, we want to show the entire workflow from data generation to analysis and output value."
   ]
  },
  {
   "cell_type": "code",
   "execution_count": 8,
   "id": "602422ed-7735-4396-8c28-f32a9fdf62a3",
   "metadata": {},
   "outputs": [
    {
     "name": "stdout",
     "output_type": "stream",
     "text": [
      "(1000, 3) (1000,)\n"
     ]
    }
   ],
   "source": [
    "# simulate separated Gaussians\n",
    "# simulate multivariate Gaussian\n",
    "X, y, means, sigmas, pi = simulate_separate_gaussians(\n",
    "    n_dims=n_dims, n_samples=n_samples, n_classes=n_classes, seed=seed\n",
    ")\n",
    "\n",
    "print(X.shape, y.shape)"
   ]
  },
  {
   "cell_type": "code",
   "execution_count": 9,
   "id": "3de9593a-de44-4512-bfe8-f3c489eefd96",
   "metadata": {},
   "outputs": [
    {
     "name": "stdout",
     "output_type": "stream",
     "text": [
      "2 2\n",
      "(3,) [0.5 0.5]\n"
     ]
    }
   ],
   "source": [
    "print(len(means), len(sigmas))\n",
    "print(means[0].shape, pi)"
   ]
  },
  {
   "cell_type": "code",
   "execution_count": 10,
   "id": "6d4b5d32-fce7-4198-95d1-ceb01400456b",
   "metadata": {},
   "outputs": [
    {
     "name": "stdout",
     "output_type": "stream",
     "text": [
      "[array([[1., 0., 0.],\n",
      "       [0., 1., 0.],\n",
      "       [0., 0., 1.]]), array([[1., 0., 0.],\n",
      "       [0., 1., 0.],\n",
      "       [0., 0., 1.]])]\n"
     ]
    }
   ],
   "source": [
    "print(sigmas)"
   ]
  },
  {
   "cell_type": "code",
   "execution_count": 11,
   "id": "84c17ab8-6e7d-478c-8e9c-757bf1a2c527",
   "metadata": {
    "tags": []
   },
   "outputs": [],
   "source": [
    "# compute ground-truth MI/CMI\n",
    "# I(X;Y)\n",
    "# I(X;Y |Z)\n",
    "\n",
    "# true MI and CMI\n",
    "true_mi = mi_separated_gaussians(means, sigmas, pi, seed=seed)"
   ]
  },
  {
   "cell_type": "code",
   "execution_count": 13,
   "id": "ee0fa67d-aac1-4e20-b153-0fb51d8b16b9",
   "metadata": {},
   "outputs": [
    {
     "name": "stdout",
     "output_type": "stream",
     "text": [
      "4.351104834412363 2.8469010556693393 4.2568155996140185 2.8378770664093453\n"
     ]
    }
   ],
   "source": [
    "true_cmi = cmi_separated_gaussians(means, sigmas, pi, condition_idx=[1, 2], seed=seed)"
   ]
  },
  {
   "cell_type": "code",
   "execution_count": 14,
   "id": "dee49368-27f5-4f33-a9ce-525483e2abba",
   "metadata": {},
   "outputs": [
    {
     "name": "stdout",
     "output_type": "stream",
     "text": [
      "[(2, 2), (2, 2)]\n"
     ]
    }
   ],
   "source": [
    "condition_idx = [1, 2]\n",
    "z_sigmas = [sigma[np.ix_(condition_idx, condition_idx)] for sigma in sigmas]\n",
    "print([sigma.shape for sigma in z_sigmas])"
   ]
  },
  {
   "cell_type": "code",
   "execution_count": 16,
   "id": "fb21dfe6-4cec-4aa2-ba1b-4e1d760a1f93",
   "metadata": {},
   "outputs": [
    {
     "name": "stdout",
     "output_type": "stream",
     "text": [
      "0.09428923479834417\n",
      "0.08526524553835024\n"
     ]
    }
   ],
   "source": [
    "print(true_mi)\n",
    "print(true_cmi)"
   ]
  },
  {
   "cell_type": "code",
   "execution_count": 17,
   "id": "bf304453-a772-4148-a41a-f3e9de322b0a",
   "metadata": {},
   "outputs": [
    {
     "name": "stdout",
     "output_type": "stream",
     "text": [
      "(1000, 3) (1000,) (1000, 21) (1000, 21)\n"
     ]
    }
   ],
   "source": [
    "_X = embed_high_dims(X[:, [1]], n_dims=n_noise_dims, random_state=seed)\n",
    "_Z = embed_high_dims(X[:, [2]], n_dims=n_noise_dims, random_state=seed)\n",
    "highdim_X = np.hstack((_X, _Z))\n",
    "\n",
    "print(X.shape, y.shape, _X.shape, _Z.shape)"
   ]
  },
  {
   "cell_type": "markdown",
   "id": "b9a79406-10cb-4a72-a016-109a2a752eac",
   "metadata": {},
   "source": [
    "# Setup SupervisedInfoForest\n",
    "\n",
    "The info forest object is just a meta-estimator that I wrote to expose the sklearn API for computing MI/CMI. It proceeds by fitting multiple forests."
   ]
  },
  {
   "cell_type": "code",
   "execution_count": 29,
   "id": "c6e3014d-ace3-41c2-9f30-cf2015737e4a",
   "metadata": {},
   "outputs": [],
   "source": [
    "tree_estimator = ObliqueDecisionTreeClassifier(\n",
    "    feature_combinations=feature_combinations,\n",
    "    random_state=seed,\n",
    ")\n",
    "tree_estimator = DecisionTreeClassifier(\n",
    "    # feature_combinations=feature_combinations,\n",
    "    random_state=seed,\n",
    ")\n",
    "\n",
    "estimator = HonestForestClassifier(\n",
    "    n_estimators=n_estimators,\n",
    "    n_jobs=n_jobs,\n",
    "    random_state=seed,\n",
    "    tree_estimator=tree_estimator,\n",
    ")\n",
    "est = SupervisedInfoForest(\n",
    "    estimator=estimator, y_categorical=True, n_jobs=n_jobs, random_state=seed\n",
    ")"
   ]
  },
  {
   "cell_type": "code",
   "execution_count": 30,
   "id": "ebee771a-c4cc-4fda-9e36-1987c1bdee25",
   "metadata": {},
   "outputs": [
    {
     "data": {
      "text/html": [
       "<style>#sk-container-id-2 {color: black;}#sk-container-id-2 pre{padding: 0;}#sk-container-id-2 div.sk-toggleable {background-color: white;}#sk-container-id-2 label.sk-toggleable__label {cursor: pointer;display: block;width: 100%;margin-bottom: 0;padding: 0.3em;box-sizing: border-box;text-align: center;}#sk-container-id-2 label.sk-toggleable__label-arrow:before {content: \"▸\";float: left;margin-right: 0.25em;color: #696969;}#sk-container-id-2 label.sk-toggleable__label-arrow:hover:before {color: black;}#sk-container-id-2 div.sk-estimator:hover label.sk-toggleable__label-arrow:before {color: black;}#sk-container-id-2 div.sk-toggleable__content {max-height: 0;max-width: 0;overflow: hidden;text-align: left;background-color: #f0f8ff;}#sk-container-id-2 div.sk-toggleable__content pre {margin: 0.2em;color: black;border-radius: 0.25em;background-color: #f0f8ff;}#sk-container-id-2 input.sk-toggleable__control:checked~div.sk-toggleable__content {max-height: 200px;max-width: 100%;overflow: auto;}#sk-container-id-2 input.sk-toggleable__control:checked~label.sk-toggleable__label-arrow:before {content: \"▾\";}#sk-container-id-2 div.sk-estimator input.sk-toggleable__control:checked~label.sk-toggleable__label {background-color: #d4ebff;}#sk-container-id-2 div.sk-label input.sk-toggleable__control:checked~label.sk-toggleable__label {background-color: #d4ebff;}#sk-container-id-2 input.sk-hidden--visually {border: 0;clip: rect(1px 1px 1px 1px);clip: rect(1px, 1px, 1px, 1px);height: 1px;margin: -1px;overflow: hidden;padding: 0;position: absolute;width: 1px;}#sk-container-id-2 div.sk-estimator {font-family: monospace;background-color: #f0f8ff;border: 1px dotted black;border-radius: 0.25em;box-sizing: border-box;margin-bottom: 0.5em;}#sk-container-id-2 div.sk-estimator:hover {background-color: #d4ebff;}#sk-container-id-2 div.sk-parallel-item::after {content: \"\";width: 100%;border-bottom: 1px solid gray;flex-grow: 1;}#sk-container-id-2 div.sk-label:hover label.sk-toggleable__label {background-color: #d4ebff;}#sk-container-id-2 div.sk-serial::before {content: \"\";position: absolute;border-left: 1px solid gray;box-sizing: border-box;top: 0;bottom: 0;left: 50%;z-index: 0;}#sk-container-id-2 div.sk-serial {display: flex;flex-direction: column;align-items: center;background-color: white;padding-right: 0.2em;padding-left: 0.2em;position: relative;}#sk-container-id-2 div.sk-item {position: relative;z-index: 1;}#sk-container-id-2 div.sk-parallel {display: flex;align-items: stretch;justify-content: center;background-color: white;position: relative;}#sk-container-id-2 div.sk-item::before, #sk-container-id-2 div.sk-parallel-item::before {content: \"\";position: absolute;border-left: 1px solid gray;box-sizing: border-box;top: 0;bottom: 0;left: 50%;z-index: -1;}#sk-container-id-2 div.sk-parallel-item {display: flex;flex-direction: column;z-index: 1;position: relative;background-color: white;}#sk-container-id-2 div.sk-parallel-item:first-child::after {align-self: flex-end;width: 50%;}#sk-container-id-2 div.sk-parallel-item:last-child::after {align-self: flex-start;width: 50%;}#sk-container-id-2 div.sk-parallel-item:only-child::after {width: 0;}#sk-container-id-2 div.sk-dashed-wrapped {border: 1px dashed gray;margin: 0 0.4em 0.5em 0.4em;box-sizing: border-box;padding-bottom: 0.4em;background-color: white;}#sk-container-id-2 div.sk-label label {font-family: monospace;font-weight: bold;display: inline-block;line-height: 1.2em;}#sk-container-id-2 div.sk-label-container {text-align: center;}#sk-container-id-2 div.sk-container {/* jupyter's `normalize.less` sets `[hidden] { display: none; }` but bootstrap.min.css set `[hidden] { display: none !important; }` so we also need the `!important` here to be able to override the default hidden behavior on the sphinx rendered scikit-learn.org. See: https://github.com/scikit-learn/scikit-learn/issues/21755 */display: inline-block !important;position: relative;}#sk-container-id-2 div.sk-text-repr-fallback {display: none;}</style><div id=\"sk-container-id-2\" class=\"sk-top-container\"><div class=\"sk-text-repr-fallback\"><pre>SupervisedInfoForest(estimator=HonestForestClassifier(n_jobs=-1,\n",
       "                                                      random_state=12345,\n",
       "                                                      tree_estimator=DecisionTreeClassifier(random_state=12345)),\n",
       "                     n_jobs=-1, random_state=12345, y_categorical=True)</pre><b>In a Jupyter environment, please rerun this cell to show the HTML representation or trust the notebook. <br />On GitHub, the HTML representation is unable to render, please try loading this page with nbviewer.org.</b></div><div class=\"sk-container\" hidden><div class=\"sk-item sk-dashed-wrapped\"><div class=\"sk-label-container\"><div class=\"sk-label sk-toggleable\"><input class=\"sk-toggleable__control sk-hidden--visually\" id=\"sk-estimator-id-5\" type=\"checkbox\" ><label for=\"sk-estimator-id-5\" class=\"sk-toggleable__label sk-toggleable__label-arrow\">SupervisedInfoForest</label><div class=\"sk-toggleable__content\"><pre>SupervisedInfoForest(estimator=HonestForestClassifier(n_jobs=-1,\n",
       "                                                      random_state=12345,\n",
       "                                                      tree_estimator=DecisionTreeClassifier(random_state=12345)),\n",
       "                     n_jobs=-1, random_state=12345, y_categorical=True)</pre></div></div></div><div class=\"sk-parallel\"><div class=\"sk-parallel-item\"><div class=\"sk-item\"><div class=\"sk-label-container\"><div class=\"sk-label sk-toggleable\"><input class=\"sk-toggleable__control sk-hidden--visually\" id=\"sk-estimator-id-6\" type=\"checkbox\" ><label for=\"sk-estimator-id-6\" class=\"sk-toggleable__label sk-toggleable__label-arrow\">estimator: HonestForestClassifier</label><div class=\"sk-toggleable__content\"><pre>HonestForestClassifier(n_jobs=-1, random_state=12345,\n",
       "                       tree_estimator=DecisionTreeClassifier(random_state=12345))</pre></div></div></div><div class=\"sk-serial\"><div class=\"sk-item sk-dashed-wrapped\"><div class=\"sk-parallel\"><div class=\"sk-parallel-item\"><div class=\"sk-item\"><div class=\"sk-label-container\"><div class=\"sk-label sk-toggleable\"><input class=\"sk-toggleable__control sk-hidden--visually\" id=\"sk-estimator-id-7\" type=\"checkbox\" ><label for=\"sk-estimator-id-7\" class=\"sk-toggleable__label sk-toggleable__label-arrow\">tree_estimator: DecisionTreeClassifier</label><div class=\"sk-toggleable__content\"><pre>DecisionTreeClassifier(random_state=12345)</pre></div></div></div><div class=\"sk-serial\"><div class=\"sk-item\"><div class=\"sk-estimator sk-toggleable\"><input class=\"sk-toggleable__control sk-hidden--visually\" id=\"sk-estimator-id-8\" type=\"checkbox\" ><label for=\"sk-estimator-id-8\" class=\"sk-toggleable__label sk-toggleable__label-arrow\">DecisionTreeClassifier</label><div class=\"sk-toggleable__content\"><pre>DecisionTreeClassifier(random_state=12345)</pre></div></div></div></div></div></div></div></div></div></div></div></div></div></div></div>"
      ],
      "text/plain": [
       "SupervisedInfoForest(estimator=HonestForestClassifier(n_jobs=-1,\n",
       "                                                      random_state=12345,\n",
       "                                                      tree_estimator=DecisionTreeClassifier(random_state=12345)),\n",
       "                     n_jobs=-1, random_state=12345, y_categorical=True)"
      ]
     },
     "execution_count": 30,
     "metadata": {},
     "output_type": "execute_result"
    }
   ],
   "source": [
    "est.fit(_X, y, _Z)"
   ]
  },
  {
   "cell_type": "code",
   "execution_count": 33,
   "id": "4ca327d7-b1f6-49a1-ad2e-3d7346904c6e",
   "metadata": {},
   "outputs": [],
   "source": [
    "check_is_fitted(est)"
   ]
  },
  {
   "cell_type": "code",
   "execution_count": 38,
   "id": "b0781b14-051e-4476-9bd4-44c6af841f8e",
   "metadata": {},
   "outputs": [
    {
     "ename": "NotFittedError",
     "evalue": "This HonestTreeClassifier instance is not fitted yet. Call 'fit' with appropriate arguments before using this estimator.",
     "output_type": "error",
     "traceback": [
      "\u001b[0;31m---------------------------------------------------------------------------\u001b[0m",
      "\u001b[0;31mNotFittedError\u001b[0m                            Traceback (most recent call last)",
      "Cell \u001b[0;32mIn[38], line 1\u001b[0m\n\u001b[0;32m----> 1\u001b[0m \u001b[38;5;28mprint\u001b[39m(\u001b[43mest\u001b[49m\u001b[38;5;241;43m.\u001b[39;49m\u001b[43mestimator_yxz_\u001b[49m\u001b[38;5;241;43m.\u001b[39;49m\u001b[43mapply\u001b[49m\u001b[43m(\u001b[49m\u001b[43mX\u001b[49m\u001b[43m)\u001b[49m)\n",
      "File \u001b[0;32m~/Documents/scikit-tree/sktree/ensemble/_honest_forest.py:512\u001b[0m, in \u001b[0;36mHonestForestClassifier.apply\u001b[0;34m(self, X)\u001b[0m\n\u001b[1;32m    495\u001b[0m \u001b[38;5;28;01mdef\u001b[39;00m \u001b[38;5;21mapply\u001b[39m(\u001b[38;5;28mself\u001b[39m, X):\n\u001b[1;32m    496\u001b[0m \u001b[38;5;250m    \u001b[39m\u001b[38;5;124;03m\"\"\"\u001b[39;00m\n\u001b[1;32m    497\u001b[0m \u001b[38;5;124;03m    Apply trees in the forest to X, return leaf indices.\u001b[39;00m\n\u001b[1;32m    498\u001b[0m \n\u001b[0;32m   (...)\u001b[0m\n\u001b[1;32m    510\u001b[0m \u001b[38;5;124;03m        return the index of the leaf x ends up in.\u001b[39;00m\n\u001b[1;32m    511\u001b[0m \u001b[38;5;124;03m    \"\"\"\u001b[39;00m\n\u001b[0;32m--> 512\u001b[0m     \u001b[38;5;28;01mreturn\u001b[39;00m \u001b[38;5;28;43mself\u001b[39;49m\u001b[38;5;241;43m.\u001b[39;49m\u001b[43mestimator_\u001b[49m\u001b[38;5;241;43m.\u001b[39;49m\u001b[43mapply\u001b[49m\u001b[43m(\u001b[49m\u001b[43mX\u001b[49m\u001b[43m)\u001b[49m\n",
      "File \u001b[0;32m~/Documents/scikit-tree/sktree/_lib/./sklearn/tree/_classes.py:792\u001b[0m, in \u001b[0;36mBaseDecisionTree.apply\u001b[0;34m(self, X, check_input)\u001b[0m\n\u001b[1;32m    768\u001b[0m \u001b[38;5;28;01mdef\u001b[39;00m \u001b[38;5;21mapply\u001b[39m(\u001b[38;5;28mself\u001b[39m, X, check_input\u001b[38;5;241m=\u001b[39m\u001b[38;5;28;01mTrue\u001b[39;00m):\n\u001b[1;32m    769\u001b[0m \u001b[38;5;250m    \u001b[39m\u001b[38;5;124;03m\"\"\"Return the index of the leaf that each sample is predicted as.\u001b[39;00m\n\u001b[1;32m    770\u001b[0m \n\u001b[1;32m    771\u001b[0m \u001b[38;5;124;03m    .. versionadded:: 0.17\u001b[39;00m\n\u001b[0;32m   (...)\u001b[0m\n\u001b[1;32m    790\u001b[0m \u001b[38;5;124;03m        numbering.\u001b[39;00m\n\u001b[1;32m    791\u001b[0m \u001b[38;5;124;03m    \"\"\"\u001b[39;00m\n\u001b[0;32m--> 792\u001b[0m     \u001b[43mcheck_is_fitted\u001b[49m\u001b[43m(\u001b[49m\u001b[38;5;28;43mself\u001b[39;49m\u001b[43m)\u001b[49m\n\u001b[1;32m    793\u001b[0m     X \u001b[38;5;241m=\u001b[39m \u001b[38;5;28mself\u001b[39m\u001b[38;5;241m.\u001b[39m_validate_X_predict(X, check_input)\n\u001b[1;32m    794\u001b[0m     \u001b[38;5;28;01mreturn\u001b[39;00m \u001b[38;5;28mself\u001b[39m\u001b[38;5;241m.\u001b[39mtree_\u001b[38;5;241m.\u001b[39mapply(X)\n",
      "File \u001b[0;32m~/miniforge3/envs/sktree/lib/python3.9/site-packages/sklearn/utils/validation.py:1462\u001b[0m, in \u001b[0;36mcheck_is_fitted\u001b[0;34m(estimator, attributes, msg, all_or_any)\u001b[0m\n\u001b[1;32m   1459\u001b[0m     \u001b[38;5;28;01mraise\u001b[39;00m \u001b[38;5;167;01mTypeError\u001b[39;00m(\u001b[38;5;124m\"\u001b[39m\u001b[38;5;132;01m%s\u001b[39;00m\u001b[38;5;124m is not an estimator instance.\u001b[39m\u001b[38;5;124m\"\u001b[39m \u001b[38;5;241m%\u001b[39m (estimator))\n\u001b[1;32m   1461\u001b[0m \u001b[38;5;28;01mif\u001b[39;00m \u001b[38;5;129;01mnot\u001b[39;00m _is_fitted(estimator, attributes, all_or_any):\n\u001b[0;32m-> 1462\u001b[0m     \u001b[38;5;28;01mraise\u001b[39;00m NotFittedError(msg \u001b[38;5;241m%\u001b[39m {\u001b[38;5;124m\"\u001b[39m\u001b[38;5;124mname\u001b[39m\u001b[38;5;124m\"\u001b[39m: \u001b[38;5;28mtype\u001b[39m(estimator)\u001b[38;5;241m.\u001b[39m\u001b[38;5;18m__name__\u001b[39m})\n",
      "\u001b[0;31mNotFittedError\u001b[0m: This HonestTreeClassifier instance is not fitted yet. Call 'fit' with appropriate arguments before using this estimator."
     ]
    }
   ],
   "source": [
    "print(est.estimator_yxz_.apply(X))"
   ]
  },
  {
   "cell_type": "code",
   "execution_count": 31,
   "id": "fd03e849-854e-423c-93d7-214eb52558b3",
   "metadata": {},
   "outputs": [
    {
     "name": "stdout",
     "output_type": "stream",
     "text": [
      "HonestForestClassifier(n_jobs=-1, random_state=12345,\n",
      "                       tree_estimator=DecisionTreeClassifier(random_state=424562602))\n",
      "None\n",
      "None\n",
      "None\n"
     ]
    }
   ],
   "source": [
    "print(est.estimator_yxz_)\n",
    "print(check_is_fitted(est))\n",
    "print(check_is_fitted(est.estimator_yxz_))\n",
    "print(check_is_fitted(est.estimator_yz_))"
   ]
  },
  {
   "cell_type": "code",
   "execution_count": 27,
   "id": "ba9a8f70-555b-4f9e-9d79-0ad8f64f9ecc",
   "metadata": {},
   "outputs": [
    {
     "ename": "NotFittedError",
     "evalue": "This HonestTreeClassifier instance is not fitted yet. Call 'fit' with appropriate arguments before using this estimator.",
     "output_type": "error",
     "traceback": [
      "\u001b[0;31m---------------------------------------------------------------------------\u001b[0m",
      "\u001b[0;31mNotFittedError\u001b[0m                            Traceback (most recent call last)",
      "Cell \u001b[0;32mIn[27], line 1\u001b[0m\n\u001b[0;32m----> 1\u001b[0m \u001b[43mest\u001b[49m\u001b[38;5;241;43m.\u001b[39;49m\u001b[43mestimator_yxz_\u001b[49m\u001b[38;5;241;43m.\u001b[39;49m\u001b[43mapply\u001b[49m\u001b[43m(\u001b[49m\u001b[43mX\u001b[49m\u001b[43m)\u001b[49m\n",
      "File \u001b[0;32m~/Documents/scikit-tree/sktree/ensemble/_honest_forest.py:512\u001b[0m, in \u001b[0;36mHonestForestClassifier.apply\u001b[0;34m(self, X)\u001b[0m\n\u001b[1;32m    495\u001b[0m \u001b[38;5;28;01mdef\u001b[39;00m \u001b[38;5;21mapply\u001b[39m(\u001b[38;5;28mself\u001b[39m, X):\n\u001b[1;32m    496\u001b[0m \u001b[38;5;250m    \u001b[39m\u001b[38;5;124;03m\"\"\"\u001b[39;00m\n\u001b[1;32m    497\u001b[0m \u001b[38;5;124;03m    Apply trees in the forest to X, return leaf indices.\u001b[39;00m\n\u001b[1;32m    498\u001b[0m \n\u001b[0;32m   (...)\u001b[0m\n\u001b[1;32m    510\u001b[0m \u001b[38;5;124;03m        return the index of the leaf x ends up in.\u001b[39;00m\n\u001b[1;32m    511\u001b[0m \u001b[38;5;124;03m    \"\"\"\u001b[39;00m\n\u001b[0;32m--> 512\u001b[0m     \u001b[38;5;28;01mreturn\u001b[39;00m \u001b[38;5;28;43mself\u001b[39;49m\u001b[38;5;241;43m.\u001b[39;49m\u001b[43mestimator_\u001b[49m\u001b[38;5;241;43m.\u001b[39;49m\u001b[43mapply\u001b[49m\u001b[43m(\u001b[49m\u001b[43mX\u001b[49m\u001b[43m)\u001b[49m\n",
      "File \u001b[0;32m~/Documents/scikit-tree/sktree/_lib/./sklearn/tree/_classes.py:792\u001b[0m, in \u001b[0;36mBaseDecisionTree.apply\u001b[0;34m(self, X, check_input)\u001b[0m\n\u001b[1;32m    768\u001b[0m \u001b[38;5;28;01mdef\u001b[39;00m \u001b[38;5;21mapply\u001b[39m(\u001b[38;5;28mself\u001b[39m, X, check_input\u001b[38;5;241m=\u001b[39m\u001b[38;5;28;01mTrue\u001b[39;00m):\n\u001b[1;32m    769\u001b[0m \u001b[38;5;250m    \u001b[39m\u001b[38;5;124;03m\"\"\"Return the index of the leaf that each sample is predicted as.\u001b[39;00m\n\u001b[1;32m    770\u001b[0m \n\u001b[1;32m    771\u001b[0m \u001b[38;5;124;03m    .. versionadded:: 0.17\u001b[39;00m\n\u001b[0;32m   (...)\u001b[0m\n\u001b[1;32m    790\u001b[0m \u001b[38;5;124;03m        numbering.\u001b[39;00m\n\u001b[1;32m    791\u001b[0m \u001b[38;5;124;03m    \"\"\"\u001b[39;00m\n\u001b[0;32m--> 792\u001b[0m     \u001b[43mcheck_is_fitted\u001b[49m\u001b[43m(\u001b[49m\u001b[38;5;28;43mself\u001b[39;49m\u001b[43m)\u001b[49m\n\u001b[1;32m    793\u001b[0m     X \u001b[38;5;241m=\u001b[39m \u001b[38;5;28mself\u001b[39m\u001b[38;5;241m.\u001b[39m_validate_X_predict(X, check_input)\n\u001b[1;32m    794\u001b[0m     \u001b[38;5;28;01mreturn\u001b[39;00m \u001b[38;5;28mself\u001b[39m\u001b[38;5;241m.\u001b[39mtree_\u001b[38;5;241m.\u001b[39mapply(X)\n",
      "File \u001b[0;32m~/miniforge3/envs/sktree/lib/python3.9/site-packages/sklearn/utils/validation.py:1462\u001b[0m, in \u001b[0;36mcheck_is_fitted\u001b[0;34m(estimator, attributes, msg, all_or_any)\u001b[0m\n\u001b[1;32m   1459\u001b[0m     \u001b[38;5;28;01mraise\u001b[39;00m \u001b[38;5;167;01mTypeError\u001b[39;00m(\u001b[38;5;124m\"\u001b[39m\u001b[38;5;132;01m%s\u001b[39;00m\u001b[38;5;124m is not an estimator instance.\u001b[39m\u001b[38;5;124m\"\u001b[39m \u001b[38;5;241m%\u001b[39m (estimator))\n\u001b[1;32m   1461\u001b[0m \u001b[38;5;28;01mif\u001b[39;00m \u001b[38;5;129;01mnot\u001b[39;00m _is_fitted(estimator, attributes, all_or_any):\n\u001b[0;32m-> 1462\u001b[0m     \u001b[38;5;28;01mraise\u001b[39;00m NotFittedError(msg \u001b[38;5;241m%\u001b[39m {\u001b[38;5;124m\"\u001b[39m\u001b[38;5;124mname\u001b[39m\u001b[38;5;124m\"\u001b[39m: \u001b[38;5;28mtype\u001b[39m(estimator)\u001b[38;5;241m.\u001b[39m\u001b[38;5;18m__name__\u001b[39m})\n",
      "\u001b[0;31mNotFittedError\u001b[0m: This HonestTreeClassifier instance is not fitted yet. Call 'fit' with appropriate arguments before using this estimator."
     ]
    }
   ],
   "source": [
    "est.estimator_yxz_.apply(X)"
   ]
  },
  {
   "cell_type": "code",
   "execution_count": 20,
   "id": "e5e5d360-6007-4997-83dc-ff4bb425ab8e",
   "metadata": {},
   "outputs": [
    {
     "ename": "NotFittedError",
     "evalue": "This HonestTreeClassifier instance is not fitted yet. Call 'fit' with appropriate arguments before using this estimator.",
     "output_type": "error",
     "traceback": [
      "\u001b[0;31m---------------------------------------------------------------------------\u001b[0m",
      "\u001b[0;31mNotFittedError\u001b[0m                            Traceback (most recent call last)",
      "Cell \u001b[0;32mIn[20], line 1\u001b[0m\n\u001b[0;32m----> 1\u001b[0m pred_cmi \u001b[38;5;241m=\u001b[39m \u001b[43mest\u001b[49m\u001b[38;5;241;43m.\u001b[39;49m\u001b[43mpredict_cmi\u001b[49m\u001b[43m(\u001b[49m\u001b[43m_X\u001b[49m\u001b[43m,\u001b[49m\u001b[43m \u001b[49m\u001b[43my\u001b[49m\u001b[43m,\u001b[49m\u001b[43m \u001b[49m\u001b[43m_Z\u001b[49m\u001b[43m)\u001b[49m\n",
      "File \u001b[0;32m~/Documents/scikit-tree/sktree/experimental/forest.py:89\u001b[0m, in \u001b[0;36mSupervisedInfoForest.predict_cmi\u001b[0;34m(self, X, y, Z)\u001b[0m\n\u001b[1;32m     86\u001b[0m sample_indices \u001b[38;5;241m=\u001b[39m np\u001b[38;5;241m.\u001b[39marange(\u001b[38;5;241m0\u001b[39m, X\u001b[38;5;241m.\u001b[39mshape[\u001b[38;5;241m0\u001b[39m])\n\u001b[1;32m     88\u001b[0m \u001b[38;5;66;03m# compute the entropy of H(Y | X, Z)\u001b[39;00m\n\u001b[0;32m---> 89\u001b[0m H_yxz \u001b[38;5;241m=\u001b[39m \u001b[43mcond_entropy\u001b[49m\u001b[43m(\u001b[49m\n\u001b[1;32m     90\u001b[0m \u001b[43m    \u001b[49m\u001b[38;5;28;43mself\u001b[39;49m\u001b[38;5;241;43m.\u001b[39;49m\u001b[43mestimator_yxz_\u001b[49m\u001b[43m,\u001b[49m\u001b[43m \u001b[49m\u001b[43mXZ\u001b[49m\u001b[43m,\u001b[49m\u001b[43m \u001b[49m\u001b[43my\u001b[49m\u001b[43m,\u001b[49m\u001b[43m \u001b[49m\u001b[43msample_indices\u001b[49m\u001b[43m,\u001b[49m\u001b[43m \u001b[49m\u001b[43mkappa\u001b[49m\u001b[38;5;241;43m=\u001b[39;49m\u001b[38;5;241;43m3\u001b[39;49m\u001b[43m,\u001b[49m\u001b[43m \u001b[49m\u001b[43mseed\u001b[49m\u001b[38;5;241;43m=\u001b[39;49m\u001b[38;5;28;43mself\u001b[39;49m\u001b[38;5;241;43m.\u001b[39;49m\u001b[43mrandom_state\u001b[49m\n\u001b[1;32m     91\u001b[0m \u001b[43m\u001b[49m\u001b[43m)\u001b[49m\n\u001b[1;32m     93\u001b[0m \u001b[38;5;66;03m# compute the entropy of H(Y | Z)\u001b[39;00m\n\u001b[1;32m     94\u001b[0m \u001b[38;5;28;01mif\u001b[39;00m Z \u001b[38;5;129;01mis\u001b[39;00m \u001b[38;5;28;01mNone\u001b[39;00m:\n",
      "File \u001b[0;32m~/Documents/scikit-tree/sktree/experimental/forest.py:160\u001b[0m, in \u001b[0;36mcond_entropy\u001b[0;34m(est, X, y, estimators_samples_, kappa, seed)\u001b[0m\n\u001b[1;32m    155\u001b[0m check_is_forest(est)\n\u001b[1;32m    156\u001b[0m \u001b[38;5;66;03m# if \"multioutput\" in est._get_tags():\u001b[39;00m\n\u001b[1;32m    157\u001b[0m \u001b[38;5;66;03m#     raise ValueError(\"Multioutput is not supported.\")\u001b[39;00m\n\u001b[1;32m    158\u001b[0m \n\u001b[1;32m    159\u001b[0m \u001b[38;5;66;03m# get leaves of each tree for each sample (n_samples, n_estimators)\u001b[39;00m\n\u001b[0;32m--> 160\u001b[0m X_leaves \u001b[38;5;241m=\u001b[39m \u001b[43mest\u001b[49m\u001b[38;5;241;43m.\u001b[39;49m\u001b[43mapply\u001b[49m\u001b[43m(\u001b[49m\u001b[43mX\u001b[49m\u001b[43m)\u001b[49m\n\u001b[1;32m    161\u001b[0m n_classes \u001b[38;5;241m=\u001b[39m est\u001b[38;5;241m.\u001b[39mn_classes_\n\u001b[1;32m    162\u001b[0m n_samples \u001b[38;5;241m=\u001b[39m X\u001b[38;5;241m.\u001b[39mshape[\u001b[38;5;241m0\u001b[39m]\n",
      "File \u001b[0;32m~/Documents/scikit-tree/sktree/ensemble/_honest_forest.py:512\u001b[0m, in \u001b[0;36mHonestForestClassifier.apply\u001b[0;34m(self, X)\u001b[0m\n\u001b[1;32m    495\u001b[0m \u001b[38;5;28;01mdef\u001b[39;00m \u001b[38;5;21mapply\u001b[39m(\u001b[38;5;28mself\u001b[39m, X):\n\u001b[1;32m    496\u001b[0m \u001b[38;5;250m    \u001b[39m\u001b[38;5;124;03m\"\"\"\u001b[39;00m\n\u001b[1;32m    497\u001b[0m \u001b[38;5;124;03m    Apply trees in the forest to X, return leaf indices.\u001b[39;00m\n\u001b[1;32m    498\u001b[0m \n\u001b[0;32m   (...)\u001b[0m\n\u001b[1;32m    510\u001b[0m \u001b[38;5;124;03m        return the index of the leaf x ends up in.\u001b[39;00m\n\u001b[1;32m    511\u001b[0m \u001b[38;5;124;03m    \"\"\"\u001b[39;00m\n\u001b[0;32m--> 512\u001b[0m     \u001b[38;5;28;01mreturn\u001b[39;00m \u001b[38;5;28;43mself\u001b[39;49m\u001b[38;5;241;43m.\u001b[39;49m\u001b[43mestimator_\u001b[49m\u001b[38;5;241;43m.\u001b[39;49m\u001b[43mapply\u001b[49m\u001b[43m(\u001b[49m\u001b[43mX\u001b[49m\u001b[43m)\u001b[49m\n",
      "File \u001b[0;32m~/Documents/scikit-tree/sktree/_lib/./sklearn/tree/_classes.py:792\u001b[0m, in \u001b[0;36mBaseDecisionTree.apply\u001b[0;34m(self, X, check_input)\u001b[0m\n\u001b[1;32m    768\u001b[0m \u001b[38;5;28;01mdef\u001b[39;00m \u001b[38;5;21mapply\u001b[39m(\u001b[38;5;28mself\u001b[39m, X, check_input\u001b[38;5;241m=\u001b[39m\u001b[38;5;28;01mTrue\u001b[39;00m):\n\u001b[1;32m    769\u001b[0m \u001b[38;5;250m    \u001b[39m\u001b[38;5;124;03m\"\"\"Return the index of the leaf that each sample is predicted as.\u001b[39;00m\n\u001b[1;32m    770\u001b[0m \n\u001b[1;32m    771\u001b[0m \u001b[38;5;124;03m    .. versionadded:: 0.17\u001b[39;00m\n\u001b[0;32m   (...)\u001b[0m\n\u001b[1;32m    790\u001b[0m \u001b[38;5;124;03m        numbering.\u001b[39;00m\n\u001b[1;32m    791\u001b[0m \u001b[38;5;124;03m    \"\"\"\u001b[39;00m\n\u001b[0;32m--> 792\u001b[0m     \u001b[43mcheck_is_fitted\u001b[49m\u001b[43m(\u001b[49m\u001b[38;5;28;43mself\u001b[39;49m\u001b[43m)\u001b[49m\n\u001b[1;32m    793\u001b[0m     X \u001b[38;5;241m=\u001b[39m \u001b[38;5;28mself\u001b[39m\u001b[38;5;241m.\u001b[39m_validate_X_predict(X, check_input)\n\u001b[1;32m    794\u001b[0m     \u001b[38;5;28;01mreturn\u001b[39;00m \u001b[38;5;28mself\u001b[39m\u001b[38;5;241m.\u001b[39mtree_\u001b[38;5;241m.\u001b[39mapply(X)\n",
      "File \u001b[0;32m~/miniforge3/envs/sktree/lib/python3.9/site-packages/sklearn/utils/validation.py:1462\u001b[0m, in \u001b[0;36mcheck_is_fitted\u001b[0;34m(estimator, attributes, msg, all_or_any)\u001b[0m\n\u001b[1;32m   1459\u001b[0m     \u001b[38;5;28;01mraise\u001b[39;00m \u001b[38;5;167;01mTypeError\u001b[39;00m(\u001b[38;5;124m\"\u001b[39m\u001b[38;5;132;01m%s\u001b[39;00m\u001b[38;5;124m is not an estimator instance.\u001b[39m\u001b[38;5;124m\"\u001b[39m \u001b[38;5;241m%\u001b[39m (estimator))\n\u001b[1;32m   1461\u001b[0m \u001b[38;5;28;01mif\u001b[39;00m \u001b[38;5;129;01mnot\u001b[39;00m _is_fitted(estimator, attributes, all_or_any):\n\u001b[0;32m-> 1462\u001b[0m     \u001b[38;5;28;01mraise\u001b[39;00m NotFittedError(msg \u001b[38;5;241m%\u001b[39m {\u001b[38;5;124m\"\u001b[39m\u001b[38;5;124mname\u001b[39m\u001b[38;5;124m\"\u001b[39m: \u001b[38;5;28mtype\u001b[39m(estimator)\u001b[38;5;241m.\u001b[39m\u001b[38;5;18m__name__\u001b[39m})\n",
      "\u001b[0;31mNotFittedError\u001b[0m: This HonestTreeClassifier instance is not fitted yet. Call 'fit' with appropriate arguments before using this estimator."
     ]
    }
   ],
   "source": [
    "pred_cmi = est.predict_cmi(_X, y, _Z)"
   ]
  },
  {
   "cell_type": "code",
   "execution_count": null,
   "id": "726a83f2-5084-4958-9d01-71e2c3e86ebb",
   "metadata": {},
   "outputs": [],
   "source": [
    "pred_mi = est.predict_cmi(_X, y)"
   ]
  },
  {
   "cell_type": "code",
   "execution_count": null,
   "id": "18b82f0f-5842-4f2d-8239-1a0e4067c282",
   "metadata": {},
   "outputs": [],
   "source": [
    "print(pred_cmi, pred_mi)"
   ]
  },
  {
   "cell_type": "code",
   "execution_count": 69,
   "id": "c299a578-1984-4030-a34d-eb3219edd4be",
   "metadata": {},
   "outputs": [
    {
     "name": "stdout",
     "output_type": "stream",
     "text": [
      "-0.009832259764467277 -0.19976608189849127\n"
     ]
    }
   ],
   "source": [
    "print(pred_cmi, pred_mi)"
   ]
  },
  {
   "cell_type": "code",
   "execution_count": 62,
   "id": "7ab5065a-f606-4281-9631-15b1c460e048",
   "metadata": {},
   "outputs": [
    {
     "name": "stdout",
     "output_type": "stream",
     "text": [
      "-0.006589316434129411 -0.19854781628986418\n"
     ]
    }
   ],
   "source": [
    "print(pred_cmi, pred_mi)"
   ]
  },
  {
   "cell_type": "markdown",
   "id": "63a9f1b5-fee5-416b-823b-c3781fa7a2d4",
   "metadata": {},
   "source": [
    "# Analysis of dimensionality "
   ]
  },
  {
   "cell_type": "code",
   "execution_count": null,
   "id": "842ccb8a-c25a-4d2d-93e4-ea70687a3bba",
   "metadata": {},
   "outputs": [],
   "source": []
  },
  {
   "cell_type": "code",
   "execution_count": null,
   "id": "5e50fca6-a6ac-42ee-9b27-78e3b0552350",
   "metadata": {},
   "outputs": [],
   "source": []
  },
  {
   "cell_type": "code",
   "execution_count": null,
   "id": "d03d7125-9378-4058-957c-f79f59c38fc4",
   "metadata": {},
   "outputs": [],
   "source": []
  }
 ],
 "metadata": {
  "kernelspec": {
   "display_name": "sktree",
   "language": "python",
   "name": "sktree"
  },
  "language_info": {
   "codemirror_mode": {
    "name": "ipython",
    "version": 3
   },
   "file_extension": ".py",
   "mimetype": "text/x-python",
   "name": "python",
   "nbconvert_exporter": "python",
   "pygments_lexer": "ipython3",
   "version": "3.9.15"
  }
 },
 "nbformat": 4,
 "nbformat_minor": 5
}
