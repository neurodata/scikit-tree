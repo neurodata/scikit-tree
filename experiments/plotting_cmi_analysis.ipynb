{
 "cells": [
  {
   "cell_type": "markdown",
   "id": "b0125b7c-d6d3-46a7-9e86-c3f7e2f6cda3",
   "metadata": {},
   "source": [
    "# Analysis of (Conditional) Mutual Information Estimators Using Forests"
   ]
  },
  {
   "cell_type": "code",
   "execution_count": 50,
   "id": "2e7b6950-44a0-40a9-bf2a-b6eca06725c1",
   "metadata": {},
   "outputs": [],
   "source": [
    "import numpy as np\n",
    "import scipy\n",
    "import scipy.spatial\n",
    "\n",
    "from sklearn.neighbors import NearestNeighbors\n",
    "# import sys\n",
    "# sys.path.append('../build-install/usr/lib/python3.9/site-packages/sktree/')\n",
    "# import sktree\n",
    "# from sktree.ensemble._unsupervised_forest import pairwise_forest_distance\n",
    "\n",
    "\n",
    "import matplotlib.pyplot as plt\n",
    "import seaborn as sns"
   ]
  },
  {
   "cell_type": "code",
   "execution_count": 2,
   "id": "bf387bc2-f1d1-4b7a-9dab-e9c8fb992b2a",
   "metadata": {},
   "outputs": [],
   "source": [
    "%load_ext autoreload\n",
    "%autoreload 2"
   ]
  },
  {
   "cell_type": "code",
   "execution_count": 5,
   "id": "4fcde0a4-7413-4f09-bbd8-fe62fcd62c2d",
   "metadata": {},
   "outputs": [
    {
     "name": "stdout",
     "output_type": "stream",
     "text": [
      "[[0 2]\n",
      " [0 3]\n",
      " [0 4]\n",
      " [0 5]\n",
      " [0 6]\n",
      " [0 7]\n",
      " [1 2]\n",
      " [1 3]\n",
      " [1 4]\n",
      " [1 5]\n",
      " [1 6]\n",
      " [1 7]\n",
      " [2 2]\n",
      " [2 3]\n",
      " [2 4]\n",
      " [2 5]\n",
      " [2 6]\n",
      " [2 7]\n",
      " [3 2]\n",
      " [3 3]\n",
      " [3 4]\n",
      " [3 5]\n",
      " [3 6]\n",
      " [3 7]\n",
      " [4 2]\n",
      " [4 3]\n",
      " [4 4]\n",
      " [4 5]\n",
      " [4 6]\n",
      " [4 7]]\n"
     ]
    }
   ],
   "source": [
    "\n",
    "\n",
    "n_jobs = -1\n",
    "x, y = np.mgrid[0:5, 2:8]\n",
    "X = np.c_[x.ravel(), y.ravel()]\n",
    "\n",
    "print(X)\n",
    "k = 2"
   ]
  },
  {
   "cell_type": "code",
   "execution_count": 11,
   "id": "e642837c-d6b0-40c0-94b8-136127796ee1",
   "metadata": {},
   "outputs": [],
   "source": [
    "tree_xyz = scipy.spatial.cKDTree(X)\n",
    "dists, indices = tree_xyz.query(X, k=k, p=np.inf, eps=0.0, workers=n_jobs)"
   ]
  },
  {
   "cell_type": "code",
   "execution_count": 12,
   "id": "155e06b8-be96-421c-9bbe-ea8333670c8f",
   "metadata": {},
   "outputs": [
    {
     "name": "stdout",
     "output_type": "stream",
     "text": [
      "(30, 2)\n",
      "(30, 2) (30, 2)\n"
     ]
    }
   ],
   "source": [
    "print(X.shape)\n",
    "print(indices.shape, dists.shape)"
   ]
  },
  {
   "cell_type": "code",
   "execution_count": 13,
   "id": "ed563ca6-fb7c-4ed0-a6c8-e12cebfad1e1",
   "metadata": {},
   "outputs": [
    {
     "name": "stdout",
     "output_type": "stream",
     "text": [
      "[[0. 1.]\n",
      " [0. 1.]\n",
      " [0. 1.]\n",
      " [0. 1.]\n",
      " [0. 1.]]\n"
     ]
    }
   ],
   "source": [
    "print(dists[:5, :])"
   ]
  },
  {
   "cell_type": "code",
   "execution_count": 68,
   "id": "8d454e2c-3cee-4dcf-b386-cd613e6f8b32",
   "metadata": {},
   "outputs": [
    {
     "name": "stdout",
     "output_type": "stream",
     "text": [
      "[[0.   0.25 0.5 ]\n",
      " [0.25 0.   0.75]\n",
      " [0.5  0.75 0.  ]]\n",
      "[[0.   0.25 0.5 ]\n",
      " [0.   0.   0.75]\n",
      " [0.   0.   0.  ]]\n"
     ]
    }
   ],
   "source": [
    "X = np.arange(9).reshape((3, -1))\n",
    "X = 0.5 * (X + X.T)\n",
    "X = X / np.max(X)\n",
    "X[np.diag_indices_from(X)] = 0.0\n",
    "print(X)\n",
    "\n",
    "print(np.triu(X, 1))"
   ]
  },
  {
   "cell_type": "code",
   "execution_count": 69,
   "id": "e35dcdc7-f0d7-478e-a7f4-dc40f33af292",
   "metadata": {},
   "outputs": [
    {
     "name": "stdout",
     "output_type": "stream",
     "text": [
      "(3, 3) (3, 3)\n",
      "[[0 1 2]\n",
      " [1 0 2]\n",
      " [2 0 1]]\n",
      "[[0.   0.25 0.5 ]\n",
      " [0.   0.25 0.75]\n",
      " [0.   0.5  0.75]]\n"
     ]
    }
   ],
   "source": [
    "\n",
    "nbrs = NearestNeighbors(\n",
    "            n_neighbors=3, metric=\"precomputed\", n_jobs=n_jobs\n",
    "        ).fit(X)\n",
    "\n",
    "# then get the K nearest nbrs in the Z space\n",
    "dists, indices = nbrs.kneighbors(X)\n",
    "\n",
    "print(dists.shape, indices.shape)\n",
    "print(indices)\n",
    "print(dists)"
   ]
  },
  {
   "cell_type": "code",
   "execution_count": 38,
   "id": "b6769533-095a-46d3-ab25-5adf10503bcc",
   "metadata": {},
   "outputs": [
    {
     "name": "stdout",
     "output_type": "stream",
     "text": [
      "(array([1, 2, 2]), array([0, 0, 1]))\n",
      "[3 6 7]\n"
     ]
    }
   ],
   "source": [
    "# get the triu indices\n",
    "triu_idx = np.triu_indices_from(X, 1)\n",
    "\n",
    "print(triu_idx)\n",
    "print(X[triu_idx])\n",
    "\n"
   ]
  },
  {
   "cell_type": "code",
   "execution_count": 48,
   "id": "6806acd9-bae0-4d08-9f34-a1026bcc9f31",
   "metadata": {},
   "outputs": [
    {
     "name": "stdout",
     "output_type": "stream",
     "text": [
      "[[0 1]\n",
      " [0 2]\n",
      " [1 2]]\n",
      "[1 2 5]\n"
     ]
    }
   ],
   "source": [
    "# get the triu indices\n",
    "triu_idx = np.triu_indices_from(X, 1)\n",
    "\n",
    "triu_ravel_argsort_idx = np.argsort(X[triu_idx], axis=None)\n",
    "\n",
    "triu_argsort_idx = np.vstack(triu_idx).T[triu_ravel_argsort_idx].squeeze()\n",
    "\n",
    "print(triu_argsort_idx)\n",
    "print(X[triu_argsort_idx[:, 0], triu_argsort_idx[:, 1]])\n",
    "# print(ravel_argsort_idx)"
   ]
  },
  {
   "cell_type": "code",
   "execution_count": 37,
   "id": "1862eae0-ef26-4cfc-8448-c835053c9edb",
   "metadata": {},
   "outputs": [
    {
     "name": "stdout",
     "output_type": "stream",
     "text": [
      "(array([0, 0, 0]), array([0, 1, 2]))\n"
     ]
    }
   ],
   "source": [
    "print(np.unravel_index(ravel_argsort_idx, (3, 3)))"
   ]
  },
  {
   "cell_type": "code",
   "execution_count": 34,
   "id": "f321a9a1-1006-41d5-9eb0-5739929fa331",
   "metadata": {},
   "outputs": [
    {
     "name": "stdout",
     "output_type": "stream",
     "text": [
      "[0 1 2]\n",
      "[[0 0]\n",
      " [0 1]\n",
      " [0 2]]\n"
     ]
    }
   ],
   "source": [
    "argsort_idx = np.unravel_index(ravel_argsort_idx, (3, 3))\n",
    "\n",
    "print(ravel_argsort_idx)\n",
    "print(np.vstack(argsort_idx).T)"
   ]
  },
  {
   "cell_type": "code",
   "execution_count": null,
   "id": "0a875b34-9a97-4bdf-ab45-14a1be6e60a5",
   "metadata": {},
   "outputs": [],
   "source": []
  }
 ],
 "metadata": {
  "kernelspec": {
   "display_name": "sktree",
   "language": "python",
   "name": "sktree"
  },
  "language_info": {
   "codemirror_mode": {
    "name": "ipython",
    "version": 3
   },
   "file_extension": ".py",
   "mimetype": "text/x-python",
   "name": "python",
   "nbconvert_exporter": "python",
   "pygments_lexer": "ipython3",
   "version": "3.9.15"
  }
 },
 "nbformat": 4,
 "nbformat_minor": 5
}
